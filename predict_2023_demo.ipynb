{
 "cells": [
  {
   "cell_type": "markdown",
   "source": [
    "# EcoDynElec - Enr Model - 2023 power prediction example\n",
    "\n",
    "This notebook shows an example of the prediction of 2023's wind and solar power production using the model previously trained in the \"example\" notebook."
   ],
   "metadata": {
    "collapsed": false
   }
  },
  {
   "cell_type": "code",
   "metadata": {
    "collapsed": true,
    "ExecuteTime": {
     "end_time": "2024-05-28T13:13:32.613071Z",
     "start_time": "2024-05-28T13:13:32.519017Z"
    }
   },
   "source": [
    "import pd\n",
    "# autorelead\n",
    "%load_ext autoreload\n",
    "%autoreload 2"
   ],
   "outputs": [],
   "execution_count": 1
  },
  {
   "cell_type": "code",
   "source": [
    "from ecodynelec_enr_model.data_loading import save_power_data, root_dir,map_plants_to_weather_grid,get_weather_grid,load_plants\n",
    "from ecodynelec_enr_model.data_model import load_expected_result\n",
    "from ecodynelec_enr_model.data_model import wind_plants_model, load_model, predict_power_production,solar_plants_model\n",
    "from ecodynelec_enr_model.data_utils import plot_predictions\n",
    "\n",
    "# If you want to use another input/output folder, edit this line\n",
    "#data_loading.root_dir = 'D:\\Ecd_Enr_Model_Working_dir\\\\'"
   ],
   "metadata": {
    "collapsed": false,
    "ExecuteTime": {
     "end_time": "2024-05-28T13:13:51.360513Z",
     "start_time": "2024-05-28T13:13:32.613071Z"
    }
   },
   "outputs": [],
   "execution_count": 2
  },
  {
   "metadata": {
    "ExecuteTime": {
     "end_time": "2024-05-28T13:13:51.376124Z",
     "start_time": "2024-05-28T13:13:51.360513Z"
    }
   },
   "cell_type": "code",
   "source": [
    "df=map_plants_to_weather_grid(get_weather_grid, load_plants, n_nearests: int = 4,\n",
    "                               verbose: bool = False)\n",
    "    "
   ],
   "outputs": [],
   "execution_count": 2
  },
  {
   "cell_type": "code",
   "source": [
    "# select the model to use here, \"solar_plants_model\" or \"wind_plants_model\"\n",
    "selected_model = solar_plants_model\n",
    "title = 'Solar'"
   ],
   "metadata": {
    "collapsed": false,
    "ExecuteTime": {
     "end_time": "2024-05-28T13:13:51.454662Z",
     "start_time": "2024-05-28T13:13:51.376124Z"
    }
   },
   "outputs": [],
   "execution_count": 3
  },
  {
   "metadata": {
    "ExecuteTime": {
     "end_time": "2024-05-28T13:13:51.533241Z",
     "start_time": "2024-05-28T13:13:51.454662Z"
    }
   },
   "cell_type": "code",
   "source": [
    "#selected_model = wind_plants_model\n",
    "#title = 'Wind'"
   ],
   "outputs": [],
   "execution_count": 4
  },
  {
   "cell_type": "markdown",
   "source": [
    "## Load the model\n",
    "The model is created in the example notebook."
   ],
   "metadata": {
    "collapsed": false
   }
  },
  {
   "cell_type": "code",
   "source": [
    "model = load_model(selected_model, save_name=\"model\")"
   ],
   "metadata": {
    "collapsed": false,
    "ExecuteTime": {
     "end_time": "2024-05-28T13:14:32.734991Z",
     "start_time": "2024-05-28T13:13:51.533241Z"
    }
   },
   "outputs": [],
   "execution_count": 5
  },
  {
   "cell_type": "markdown",
   "source": [
    "## Predict the production"
   ],
   "metadata": {
    "collapsed": false
   }
  },
  {
   "metadata": {
    "ExecuteTime": {
     "end_time": "2024-05-28T13:14:38.836217Z",
     "start_time": "2024-05-28T13:14:32.766243Z"
    }
   },
   "cell_type": "code",
   "source": [
    "from netCDF4 import Dataset\n",
    "suffixes=['S202301010000_E202301312300','S202302010000_E202302282300','S202303010000_E202303312300','S202304010000_E202304302300'\n",
    "          ,'S202305010000_E202305312300','S202306010000_E202306302300','S202307010000_E202307312300','S202308010000_E202308312300','S202309010000_E202309302300','S202310010000_E202310312300','S202311010000_E202311302300','S202312010000_E202312312300']\n",
    "# Ouvrir le fichier NetCDF en mode lecture-écriture\n",
    "for suff in suffixes:\n",
    "    with Dataset(f'ecd_enr_model/solar_radiation_2023/H_ERA5_ECMW_T639_GHI_0000m_Euro_025d_{suff}_INS_MAP_01h_NA-_noc_org_NA_NA---_NA---_NA---.nc', 'r+') as nc:\n",
    "        if 'ssrd' in nc.variables:\n",
    "            # Assurez-vous que le nom de la variable originale est correct\n",
    "            var_original = nc.variables['ssrd']\n",
    "            \n",
    "            # Créer une nouvelle variable avec le nouveau nom et les mêmes caractéristiques\n",
    "            nc.renameVariable('ssrd', 'rsds')\n",
    "            \n",
    "            # Sauvegarder les modifications\n",
    "            nc.sync()\n"
   ],
   "outputs": [],
   "execution_count": 6
  },
  {
   "metadata": {
    "ExecuteTime": {
     "end_time": "2024-05-28T13:14:40.861153Z",
     "start_time": "2024-05-28T13:14:38.836217Z"
    }
   },
   "cell_type": "code",
   "source": [
    "for suff in suffixes:\n",
    "    data=Dataset(f'ecd_enr_model/solar_radiation_2023/H_ERA5_ECMW_T639_GHI_0000m_Euro_025d_{suff}_INS_MAP_01h_NA-_noc_org_NA_NA---_NA---_NA---.nc')\n",
    "    print(data.variables.keys())"
   ],
   "outputs": [
    {
     "name": "stdout",
     "output_type": "stream",
     "text": [
      "dict_keys(['time', 'longitude', 'latitude', 'rsds'])\n",
      "dict_keys(['time', 'longitude', 'latitude', 'rsds'])\n",
      "dict_keys(['time', 'longitude', 'latitude', 'rsds'])\n",
      "dict_keys(['time', 'longitude', 'latitude', 'rsds'])\n",
      "dict_keys(['time', 'longitude', 'latitude', 'rsds'])\n",
      "dict_keys(['time', 'longitude', 'latitude', 'rsds'])\n",
      "dict_keys(['time', 'longitude', 'latitude', 'rsds'])\n",
      "dict_keys(['time', 'longitude', 'latitude', 'rsds'])\n",
      "dict_keys(['time', 'longitude', 'latitude', 'rsds'])\n",
      "dict_keys(['time', 'longitude', 'latitude', 'rsds'])\n",
      "dict_keys(['time', 'longitude', 'latitude', 'rsds'])\n",
      "dict_keys(['time', 'longitude', 'latitude', 'rsds'])\n"
     ]
    }
   ],
   "execution_count": 7
  },
  {
   "cell_type": "code",
   "source": [
    "years = [2023]  # you can add more years if you want, but make sure you have the corresponding meteo files in the input folder\n",
    "prod = predict_power_production(selected_model, model, years=years, generate_input=True, verbose=True)\n"
   ],
   "metadata": {
    "collapsed": false,
    "ExecuteTime": {
     "end_time": "2024-05-28T13:15:21.454926Z",
     "start_time": "2024-05-28T13:14:40.861153Z"
    }
   },
   "outputs": [
    {
     "name": "stdout",
     "output_type": "stream",
     "text": [
      "Generating predict ecd_enr_model for years:  [2023]\n",
      "Load X for solar_radiation_2023...\n",
      "Read: ./ecd_enr_model/solar_radiation_2023/H_ERA5_ECMW_T639_GHI_0000m_Euro_025d_S202301010000_E202301312300_INS_MAP_01h_NA-_noc_org_NA_NA---_NA---_NA---.nc\n",
      "dict_keys(['time', 'longitude', 'latitude', 'rsds'])\n",
      "Processing weather ecd_enr_model from ./ecd_enr_model/solar_radiation_2023/H_ERA5_ECMW_T639_GHI_0000m_Euro_025d_S202301010000_E202301312300_INS_MAP_01h_NA-_noc_org_NA_NA---_NA---_NA---.nc...\n",
      "Done H_ERA5_ECMW_T639_GHI_0000m_Euro_025d_S202301010000_E202301312300_INS_MAP_01h_NA-_noc_org_NA_NA---_NA---_NA---.nc\n",
      "Read: ./ecd_enr_model/solar_radiation_2023/H_ERA5_ECMW_T639_GHI_0000m_Euro_025d_S202302010000_E202302282300_INS_MAP_01h_NA-_noc_org_NA_NA---_NA---_NA---.nc\n",
      "dict_keys(['time', 'longitude', 'latitude', 'rsds'])\n",
      "Processing weather ecd_enr_model from ./ecd_enr_model/solar_radiation_2023/H_ERA5_ECMW_T639_GHI_0000m_Euro_025d_S202302010000_E202302282300_INS_MAP_01h_NA-_noc_org_NA_NA---_NA---_NA---.nc...\n",
      "Done H_ERA5_ECMW_T639_GHI_0000m_Euro_025d_S202302010000_E202302282300_INS_MAP_01h_NA-_noc_org_NA_NA---_NA---_NA---.nc\n",
      "Read: ./ecd_enr_model/solar_radiation_2023/H_ERA5_ECMW_T639_GHI_0000m_Euro_025d_S202303010000_E202303312300_INS_MAP_01h_NA-_noc_org_NA_NA---_NA---_NA---.nc\n",
      "dict_keys(['time', 'longitude', 'latitude', 'rsds'])\n",
      "Processing weather ecd_enr_model from ./ecd_enr_model/solar_radiation_2023/H_ERA5_ECMW_T639_GHI_0000m_Euro_025d_S202303010000_E202303312300_INS_MAP_01h_NA-_noc_org_NA_NA---_NA---_NA---.nc...\n",
      "Done H_ERA5_ECMW_T639_GHI_0000m_Euro_025d_S202303010000_E202303312300_INS_MAP_01h_NA-_noc_org_NA_NA---_NA---_NA---.nc\n",
      "Read: ./ecd_enr_model/solar_radiation_2023/H_ERA5_ECMW_T639_GHI_0000m_Euro_025d_S202304010000_E202304302300_INS_MAP_01h_NA-_noc_org_NA_NA---_NA---_NA---.nc\n",
      "dict_keys(['time', 'longitude', 'latitude', 'rsds'])\n",
      "Processing weather ecd_enr_model from ./ecd_enr_model/solar_radiation_2023/H_ERA5_ECMW_T639_GHI_0000m_Euro_025d_S202304010000_E202304302300_INS_MAP_01h_NA-_noc_org_NA_NA---_NA---_NA---.nc...\n",
      "Done H_ERA5_ECMW_T639_GHI_0000m_Euro_025d_S202304010000_E202304302300_INS_MAP_01h_NA-_noc_org_NA_NA---_NA---_NA---.nc\n",
      "Read: ./ecd_enr_model/solar_radiation_2023/H_ERA5_ECMW_T639_GHI_0000m_Euro_025d_S202305010000_E202305312300_INS_MAP_01h_NA-_noc_org_NA_NA---_NA---_NA---.nc\n",
      "dict_keys(['time', 'longitude', 'latitude', 'rsds'])\n",
      "Processing weather ecd_enr_model from ./ecd_enr_model/solar_radiation_2023/H_ERA5_ECMW_T639_GHI_0000m_Euro_025d_S202305010000_E202305312300_INS_MAP_01h_NA-_noc_org_NA_NA---_NA---_NA---.nc...\n",
      "Done H_ERA5_ECMW_T639_GHI_0000m_Euro_025d_S202305010000_E202305312300_INS_MAP_01h_NA-_noc_org_NA_NA---_NA---_NA---.nc\n",
      "Read: ./ecd_enr_model/solar_radiation_2023/H_ERA5_ECMW_T639_GHI_0000m_Euro_025d_S202306010000_E202306302300_INS_MAP_01h_NA-_noc_org_NA_NA---_NA---_NA---.nc\n",
      "dict_keys(['time', 'longitude', 'latitude', 'rsds'])\n",
      "Processing weather ecd_enr_model from ./ecd_enr_model/solar_radiation_2023/H_ERA5_ECMW_T639_GHI_0000m_Euro_025d_S202306010000_E202306302300_INS_MAP_01h_NA-_noc_org_NA_NA---_NA---_NA---.nc...\n",
      "Done H_ERA5_ECMW_T639_GHI_0000m_Euro_025d_S202306010000_E202306302300_INS_MAP_01h_NA-_noc_org_NA_NA---_NA---_NA---.nc\n",
      "Read: ./ecd_enr_model/solar_radiation_2023/H_ERA5_ECMW_T639_GHI_0000m_Euro_025d_S202307010000_E202307312300_INS_MAP_01h_NA-_noc_org_NA_NA---_NA---_NA---.nc\n",
      "dict_keys(['time', 'longitude', 'latitude', 'rsds'])\n",
      "Processing weather ecd_enr_model from ./ecd_enr_model/solar_radiation_2023/H_ERA5_ECMW_T639_GHI_0000m_Euro_025d_S202307010000_E202307312300_INS_MAP_01h_NA-_noc_org_NA_NA---_NA---_NA---.nc...\n",
      "Done H_ERA5_ECMW_T639_GHI_0000m_Euro_025d_S202307010000_E202307312300_INS_MAP_01h_NA-_noc_org_NA_NA---_NA---_NA---.nc\n",
      "Read: ./ecd_enr_model/solar_radiation_2023/H_ERA5_ECMW_T639_GHI_0000m_Euro_025d_S202308010000_E202308312300_INS_MAP_01h_NA-_noc_org_NA_NA---_NA---_NA---.nc\n",
      "dict_keys(['time', 'longitude', 'latitude', 'rsds'])\n",
      "Processing weather ecd_enr_model from ./ecd_enr_model/solar_radiation_2023/H_ERA5_ECMW_T639_GHI_0000m_Euro_025d_S202308010000_E202308312300_INS_MAP_01h_NA-_noc_org_NA_NA---_NA---_NA---.nc...\n",
      "Done H_ERA5_ECMW_T639_GHI_0000m_Euro_025d_S202308010000_E202308312300_INS_MAP_01h_NA-_noc_org_NA_NA---_NA---_NA---.nc\n",
      "Read: ./ecd_enr_model/solar_radiation_2023/H_ERA5_ECMW_T639_GHI_0000m_Euro_025d_S202309010000_E202309302300_INS_MAP_01h_NA-_noc_org_NA_NA---_NA---_NA---.nc\n",
      "dict_keys(['time', 'longitude', 'latitude', 'rsds'])\n",
      "Processing weather ecd_enr_model from ./ecd_enr_model/solar_radiation_2023/H_ERA5_ECMW_T639_GHI_0000m_Euro_025d_S202309010000_E202309302300_INS_MAP_01h_NA-_noc_org_NA_NA---_NA---_NA---.nc...\n",
      "Done H_ERA5_ECMW_T639_GHI_0000m_Euro_025d_S202309010000_E202309302300_INS_MAP_01h_NA-_noc_org_NA_NA---_NA---_NA---.nc\n",
      "Read: ./ecd_enr_model/solar_radiation_2023/H_ERA5_ECMW_T639_GHI_0000m_Euro_025d_S202310010000_E202310312300_INS_MAP_01h_NA-_noc_org_NA_NA---_NA---_NA---.nc\n",
      "dict_keys(['time', 'longitude', 'latitude', 'rsds'])\n",
      "Processing weather ecd_enr_model from ./ecd_enr_model/solar_radiation_2023/H_ERA5_ECMW_T639_GHI_0000m_Euro_025d_S202310010000_E202310312300_INS_MAP_01h_NA-_noc_org_NA_NA---_NA---_NA---.nc...\n",
      "Done H_ERA5_ECMW_T639_GHI_0000m_Euro_025d_S202310010000_E202310312300_INS_MAP_01h_NA-_noc_org_NA_NA---_NA---_NA---.nc\n",
      "Read: ./ecd_enr_model/solar_radiation_2023/H_ERA5_ECMW_T639_GHI_0000m_Euro_025d_S202311010000_E202311302300_INS_MAP_01h_NA-_noc_org_NA_NA---_NA---_NA---.nc\n",
      "dict_keys(['time', 'longitude', 'latitude', 'rsds'])\n",
      "Processing weather ecd_enr_model from ./ecd_enr_model/solar_radiation_2023/H_ERA5_ECMW_T639_GHI_0000m_Euro_025d_S202311010000_E202311302300_INS_MAP_01h_NA-_noc_org_NA_NA---_NA---_NA---.nc...\n",
      "Done H_ERA5_ECMW_T639_GHI_0000m_Euro_025d_S202311010000_E202311302300_INS_MAP_01h_NA-_noc_org_NA_NA---_NA---_NA---.nc\n",
      "Read: ./ecd_enr_model/solar_radiation_2023/H_ERA5_ECMW_T639_GHI_0000m_Euro_025d_S202312010000_E202312312300_INS_MAP_01h_NA-_noc_org_NA_NA---_NA---_NA---.nc\n",
      "dict_keys(['time', 'longitude', 'latitude', 'rsds'])\n",
      "Processing weather ecd_enr_model from ./ecd_enr_model/solar_radiation_2023/H_ERA5_ECMW_T639_GHI_0000m_Euro_025d_S202312010000_E202312312300_INS_MAP_01h_NA-_noc_org_NA_NA---_NA---_NA---.nc...\n",
      "Done H_ERA5_ECMW_T639_GHI_0000m_Euro_025d_S202312010000_E202312312300_INS_MAP_01h_NA-_noc_org_NA_NA---_NA---_NA---.nc\n",
      "Done!                   \n",
      "Save to full_X_2023.csv...\n",
      "Load X for 2m_temperature_2023...\n",
      "Read: ./ecd_enr_model/2m_temperature_2023/H_ERA5_ECMW_T639_TA-_0002m_Euro_025d_S202301010000_E202301312300_INS_MAP_01h_NA-_noc_org_NA_NA---_NA---_NA---.nc\n",
      "dict_keys(['longitude', 'latitude', 'time', 't2m'])\n",
      "Processing weather ecd_enr_model from ./ecd_enr_model/2m_temperature_2023/H_ERA5_ECMW_T639_TA-_0002m_Euro_025d_S202301010000_E202301312300_INS_MAP_01h_NA-_noc_org_NA_NA---_NA---_NA---.nc...\n",
      "Done H_ERA5_ECMW_T639_TA-_0002m_Euro_025d_S202301010000_E202301312300_INS_MAP_01h_NA-_noc_org_NA_NA---_NA---_NA---.nc\n",
      "Read: ./ecd_enr_model/2m_temperature_2023/H_ERA5_ECMW_T639_TA-_0002m_Euro_025d_S202302010000_E202302282300_INS_MAP_01h_NA-_noc_org_NA_NA---_NA---_NA---.nc\n",
      "dict_keys(['longitude', 'latitude', 'time', 't2m'])\n",
      "Processing weather ecd_enr_model from ./ecd_enr_model/2m_temperature_2023/H_ERA5_ECMW_T639_TA-_0002m_Euro_025d_S202302010000_E202302282300_INS_MAP_01h_NA-_noc_org_NA_NA---_NA---_NA---.nc...\n",
      "Done H_ERA5_ECMW_T639_TA-_0002m_Euro_025d_S202302010000_E202302282300_INS_MAP_01h_NA-_noc_org_NA_NA---_NA---_NA---.nc\n",
      "Read: ./ecd_enr_model/2m_temperature_2023/H_ERA5_ECMW_T639_TA-_0002m_Euro_025d_S202303010000_E202303312300_INS_MAP_01h_NA-_noc_org_NA_NA---_NA---_NA---.nc\n",
      "dict_keys(['longitude', 'latitude', 'time', 't2m'])\n",
      "Processing weather ecd_enr_model from ./ecd_enr_model/2m_temperature_2023/H_ERA5_ECMW_T639_TA-_0002m_Euro_025d_S202303010000_E202303312300_INS_MAP_01h_NA-_noc_org_NA_NA---_NA---_NA---.nc...\n",
      "Done H_ERA5_ECMW_T639_TA-_0002m_Euro_025d_S202303010000_E202303312300_INS_MAP_01h_NA-_noc_org_NA_NA---_NA---_NA---.nc\n",
      "Read: ./ecd_enr_model/2m_temperature_2023/H_ERA5_ECMW_T639_TA-_0002m_Euro_025d_S202304010000_E202304302300_INS_MAP_01h_NA-_noc_org_NA_NA---_NA---_NA---.nc\n",
      "dict_keys(['longitude', 'latitude', 'time', 't2m'])\n",
      "Processing weather ecd_enr_model from ./ecd_enr_model/2m_temperature_2023/H_ERA5_ECMW_T639_TA-_0002m_Euro_025d_S202304010000_E202304302300_INS_MAP_01h_NA-_noc_org_NA_NA---_NA---_NA---.nc...\n",
      "Done H_ERA5_ECMW_T639_TA-_0002m_Euro_025d_S202304010000_E202304302300_INS_MAP_01h_NA-_noc_org_NA_NA---_NA---_NA---.nc\n",
      "Read: ./ecd_enr_model/2m_temperature_2023/H_ERA5_ECMW_T639_TA-_0002m_Euro_025d_S202305010000_E202305312300_INS_MAP_01h_NA-_noc_org_NA_NA---_NA---_NA---.nc\n",
      "dict_keys(['longitude', 'latitude', 'time', 't2m'])\n",
      "Processing weather ecd_enr_model from ./ecd_enr_model/2m_temperature_2023/H_ERA5_ECMW_T639_TA-_0002m_Euro_025d_S202305010000_E202305312300_INS_MAP_01h_NA-_noc_org_NA_NA---_NA---_NA---.nc...\n",
      "Done H_ERA5_ECMW_T639_TA-_0002m_Euro_025d_S202305010000_E202305312300_INS_MAP_01h_NA-_noc_org_NA_NA---_NA---_NA---.nc\n",
      "Read: ./ecd_enr_model/2m_temperature_2023/H_ERA5_ECMW_T639_TA-_0002m_Euro_025d_S202306010000_E202306302300_INS_MAP_01h_NA-_noc_org_NA_NA---_NA---_NA---.nc\n",
      "dict_keys(['longitude', 'latitude', 'time', 't2m'])\n",
      "Processing weather ecd_enr_model from ./ecd_enr_model/2m_temperature_2023/H_ERA5_ECMW_T639_TA-_0002m_Euro_025d_S202306010000_E202306302300_INS_MAP_01h_NA-_noc_org_NA_NA---_NA---_NA---.nc...\n",
      "Done H_ERA5_ECMW_T639_TA-_0002m_Euro_025d_S202306010000_E202306302300_INS_MAP_01h_NA-_noc_org_NA_NA---_NA---_NA---.nc\n",
      "Read: ./ecd_enr_model/2m_temperature_2023/H_ERA5_ECMW_T639_TA-_0002m_Euro_025d_S202307010000_E202307312300_INS_MAP_01h_NA-_noc_org_NA_NA---_NA---_NA---.nc\n",
      "dict_keys(['longitude', 'latitude', 'time', 't2m'])\n",
      "Processing weather ecd_enr_model from ./ecd_enr_model/2m_temperature_2023/H_ERA5_ECMW_T639_TA-_0002m_Euro_025d_S202307010000_E202307312300_INS_MAP_01h_NA-_noc_org_NA_NA---_NA---_NA---.nc...\n",
      "Done H_ERA5_ECMW_T639_TA-_0002m_Euro_025d_S202307010000_E202307312300_INS_MAP_01h_NA-_noc_org_NA_NA---_NA---_NA---.nc\n",
      "Read: ./ecd_enr_model/2m_temperature_2023/H_ERA5_ECMW_T639_TA-_0002m_Euro_025d_S202308010000_E202308312300_INS_MAP_01h_NA-_noc_org_NA_NA---_NA---_NA---.nc\n",
      "dict_keys(['longitude', 'latitude', 'time', 't2m'])\n",
      "Processing weather ecd_enr_model from ./ecd_enr_model/2m_temperature_2023/H_ERA5_ECMW_T639_TA-_0002m_Euro_025d_S202308010000_E202308312300_INS_MAP_01h_NA-_noc_org_NA_NA---_NA---_NA---.nc...\n",
      "Done H_ERA5_ECMW_T639_TA-_0002m_Euro_025d_S202308010000_E202308312300_INS_MAP_01h_NA-_noc_org_NA_NA---_NA---_NA---.nc\n",
      "Read: ./ecd_enr_model/2m_temperature_2023/H_ERA5_ECMW_T639_TA-_0002m_Euro_025d_S202309010000_E202309302300_INS_MAP_01h_NA-_noc_org_NA_NA---_NA---_NA---.nc\n",
      "dict_keys(['longitude', 'latitude', 'time', 't2m'])\n",
      "Processing weather ecd_enr_model from ./ecd_enr_model/2m_temperature_2023/H_ERA5_ECMW_T639_TA-_0002m_Euro_025d_S202309010000_E202309302300_INS_MAP_01h_NA-_noc_org_NA_NA---_NA---_NA---.nc...\n",
      "Done H_ERA5_ECMW_T639_TA-_0002m_Euro_025d_S202309010000_E202309302300_INS_MAP_01h_NA-_noc_org_NA_NA---_NA---_NA---.nc\n",
      "Read: ./ecd_enr_model/2m_temperature_2023/H_ERA5_ECMW_T639_TA-_0002m_Euro_025d_S202310010000_E202310312300_INS_MAP_01h_NA-_noc_org_NA_NA---_NA---_NA---.nc\n",
      "dict_keys(['longitude', 'latitude', 'time', 't2m'])\n",
      "Processing weather ecd_enr_model from ./ecd_enr_model/2m_temperature_2023/H_ERA5_ECMW_T639_TA-_0002m_Euro_025d_S202310010000_E202310312300_INS_MAP_01h_NA-_noc_org_NA_NA---_NA---_NA---.nc...\n",
      "Done H_ERA5_ECMW_T639_TA-_0002m_Euro_025d_S202310010000_E202310312300_INS_MAP_01h_NA-_noc_org_NA_NA---_NA---_NA---.nc\n",
      "Read: ./ecd_enr_model/2m_temperature_2023/H_ERA5_ECMW_T639_TA-_0002m_Euro_025d_S202311010000_E202311302300_INS_MAP_01h_NA-_noc_org_NA_NA---_NA---_NA---.nc\n",
      "dict_keys(['longitude', 'latitude', 'time', 't2m'])\n",
      "Processing weather ecd_enr_model from ./ecd_enr_model/2m_temperature_2023/H_ERA5_ECMW_T639_TA-_0002m_Euro_025d_S202311010000_E202311302300_INS_MAP_01h_NA-_noc_org_NA_NA---_NA---_NA---.nc...\n",
      "Done H_ERA5_ECMW_T639_TA-_0002m_Euro_025d_S202311010000_E202311302300_INS_MAP_01h_NA-_noc_org_NA_NA---_NA---_NA---.nc\n",
      "Read: ./ecd_enr_model/2m_temperature_2023/H_ERA5_ECMW_T639_TA-_0002m_Euro_025d_S202312010000_E202312312300_INS_MAP_01h_NA-_noc_org_NA_NA---_NA---_NA---.nc\n",
      "dict_keys(['longitude', 'latitude', 'time', 't2m'])\n",
      "Processing weather ecd_enr_model from ./ecd_enr_model/2m_temperature_2023/H_ERA5_ECMW_T639_TA-_0002m_Euro_025d_S202312010000_E202312312300_INS_MAP_01h_NA-_noc_org_NA_NA---_NA---_NA---.nc...\n",
      "Done H_ERA5_ECMW_T639_TA-_0002m_Euro_025d_S202312010000_E202312312300_INS_MAP_01h_NA-_noc_org_NA_NA---_NA---_NA---.nc\n",
      "Done!                   \n",
      "Save to full_X_2023.csv...\n",
      "Load 2023...\n",
      "Using model params {'file': 'ElectricityProductionPlant.csv', 'date_col': 'BeginningOfOperation', 'category_col': 'SubCategory', 'category': 'Solar_CH', 'name_prefixs': ['solar_radiation', '2m_temperature'], 'gen_path_x': ['generated_solar/SR_', 'generated_solar/T2m_'], '.cdf_value_vars': [['rsds', 'rsdsAdjust'], ['t2m', 'tasAdjust']], 'gen_path_y': 'generated_solar/', 'type': 'Solar', 'add_hour': True, 'div_by_capa': True, 'add_0_capa': True, 'train_years': [2020, 2021, 2022], 'plant_mapping_year': 2022, 'n_nearests': 1, 'regressor': ExtraTreesRegressor(criterion='friedman_mse', n_estimators=1000, n_jobs=-1,\n",
      "                    random_state=0, verbose=1)}\n",
      "Predicting years [2023]...\r"
     ]
    },
    {
     "name": "stderr",
     "output_type": "stream",
     "text": [
      "[Parallel(n_jobs=12)]: Using backend ThreadingBackend with 12 concurrent workers.\n",
      "[Parallel(n_jobs=12)]: Done  26 tasks      | elapsed:    0.0s\n",
      "[Parallel(n_jobs=12)]: Done 176 tasks      | elapsed:    0.2s\n",
      "[Parallel(n_jobs=12)]: Done 426 tasks      | elapsed:    0.4s\n",
      "[Parallel(n_jobs=12)]: Done 776 tasks      | elapsed:    0.5s\n",
      "[Parallel(n_jobs=12)]: Done 1000 out of 1000 | elapsed:    0.6s finished\n"
     ]
    },
    {
     "name": "stdout",
     "output_type": "stream",
     "text": [
      "Predicting years [2023] - done                   \n"
     ]
    }
   ],
   "execution_count": 8
  },
  {
   "cell_type": "code",
   "source": [
    "prod"
   ],
   "metadata": {
    "collapsed": false,
    "ExecuteTime": {
     "end_time": "2024-05-28T13:15:39.132336Z",
     "start_time": "2024-05-28T13:15:39.038157Z"
    }
   },
   "outputs": [
    {
     "data": {
      "text/plain": [
       "time\n",
       "2023-01-01 00:00:00      1.434507\n",
       "2023-01-01 01:00:00    163.485914\n",
       "2023-01-01 02:00:00    547.733601\n",
       "2023-01-01 03:00:00    506.056781\n",
       "2023-01-01 04:00:00    907.566515\n",
       "                          ...    \n",
       "2023-02-28 19:00:00    738.527332\n",
       "2023-02-28 20:00:00    395.826290\n",
       "2023-02-28 21:00:00    257.206543\n",
       "2023-02-28 22:00:00    206.218626\n",
       "2023-02-28 23:00:00    206.918612\n",
       "Length: 8760, dtype: float64"
      ]
     },
     "execution_count": 21,
     "metadata": {},
     "output_type": "execute_result"
    }
   ],
   "execution_count": 21
  },
  {
   "metadata": {
    "ExecuteTime": {
     "end_time": "2024-05-28T13:15:42.802214Z",
     "start_time": "2024-05-28T13:15:42.711956Z"
    }
   },
   "cell_type": "code",
   "source": [
    "import pandas as pd\n",
    "pred=pd.DataFrame(prod.resample('D').sum()/1000000)\n",
    "pred"
   ],
   "outputs": [
    {
     "data": {
      "text/plain": [
       "                   0\n",
       "time                \n",
       "2023-01-01  3.969686\n",
       "2023-01-02  3.240783\n",
       "2023-01-03  2.187229\n",
       "2023-01-04  2.696620\n",
       "2023-01-05  2.249870\n",
       "...              ...\n",
       "2023-12-27  3.445713\n",
       "2023-12-28  1.972209\n",
       "2023-12-29  2.305111\n",
       "2023-12-30  3.794485\n",
       "2023-12-31  1.697517\n",
       "\n",
       "[365 rows x 1 columns]"
      ],
      "text/html": [
       "<div>\n",
       "<style scoped>\n",
       "    .dataframe tbody tr th:only-of-type {\n",
       "        vertical-align: middle;\n",
       "    }\n",
       "\n",
       "    .dataframe tbody tr th {\n",
       "        vertical-align: top;\n",
       "    }\n",
       "\n",
       "    .dataframe thead th {\n",
       "        text-align: right;\n",
       "    }\n",
       "</style>\n",
       "<table border=\"1\" class=\"dataframe\">\n",
       "  <thead>\n",
       "    <tr style=\"text-align: right;\">\n",
       "      <th></th>\n",
       "      <th>0</th>\n",
       "    </tr>\n",
       "    <tr>\n",
       "      <th>time</th>\n",
       "      <th></th>\n",
       "    </tr>\n",
       "  </thead>\n",
       "  <tbody>\n",
       "    <tr>\n",
       "      <th>2023-01-01</th>\n",
       "      <td>3.969686</td>\n",
       "    </tr>\n",
       "    <tr>\n",
       "      <th>2023-01-02</th>\n",
       "      <td>3.240783</td>\n",
       "    </tr>\n",
       "    <tr>\n",
       "      <th>2023-01-03</th>\n",
       "      <td>2.187229</td>\n",
       "    </tr>\n",
       "    <tr>\n",
       "      <th>2023-01-04</th>\n",
       "      <td>2.696620</td>\n",
       "    </tr>\n",
       "    <tr>\n",
       "      <th>2023-01-05</th>\n",
       "      <td>2.249870</td>\n",
       "    </tr>\n",
       "    <tr>\n",
       "      <th>...</th>\n",
       "      <td>...</td>\n",
       "    </tr>\n",
       "    <tr>\n",
       "      <th>2023-12-27</th>\n",
       "      <td>3.445713</td>\n",
       "    </tr>\n",
       "    <tr>\n",
       "      <th>2023-12-28</th>\n",
       "      <td>1.972209</td>\n",
       "    </tr>\n",
       "    <tr>\n",
       "      <th>2023-12-29</th>\n",
       "      <td>2.305111</td>\n",
       "    </tr>\n",
       "    <tr>\n",
       "      <th>2023-12-30</th>\n",
       "      <td>3.794485</td>\n",
       "    </tr>\n",
       "    <tr>\n",
       "      <th>2023-12-31</th>\n",
       "      <td>1.697517</td>\n",
       "    </tr>\n",
       "  </tbody>\n",
       "</table>\n",
       "<p>365 rows × 1 columns</p>\n",
       "</div>"
      ]
     },
     "execution_count": 22,
     "metadata": {},
     "output_type": "execute_result"
    }
   ],
   "execution_count": 22
  },
  {
   "cell_type": "code",
   "source": "save_power_data(prod, path=f'{root_dir}export/prediction_demo_{title}.csv')",
   "metadata": {
    "collapsed": false,
    "ExecuteTime": {
     "end_time": "2024-05-28T13:15:47.163235Z",
     "start_time": "2024-05-28T13:15:47.040688Z"
    }
   },
   "outputs": [
    {
     "name": "stdout",
     "output_type": "stream",
     "text": [
      "Saving to ./ecd_enr_model/export/prediction_demo_Solar.csv...\n"
     ]
    }
   ],
   "execution_count": 23
  },
  {
   "cell_type": "markdown",
   "source": [
    "## Compare to real results\n",
    "If you have the real data, you can plot it against the predicted data."
   ],
   "metadata": {
    "collapsed": false
   }
  },
  {
   "cell_type": "code",
   "source": [
    "#y_true_2023 = load_expected_result(selected_model, years, generate_output=True, verbose=True)\n",
    "#plot_predictions(y_true_2023 + 1000, prod.loc['2023'], date_label='2023', title=title,\n",
    "#                 actual_series_label='Pronovo')\n",
    "#\n"
   ],
   "metadata": {
    "collapsed": false,
    "ExecuteTime": {
     "end_time": "2024-05-28T13:15:50.211935Z",
     "start_time": "2024-05-28T13:15:50.117780Z"
    }
   },
   "outputs": [],
   "execution_count": 24
  },
  {
   "cell_type": "code",
   "source": [
    "\n",
    "import pandas as pd\n",
    "\n",
    "df = pd.read_csv(\"./ec_data/energy-charts_Production_nette_d'électricité_en_Suisse_2023.csv\",index_col=0,skiprows=[1])\n",
    "df.columns\n"
   ],
   "metadata": {
    "collapsed": false,
    "ExecuteTime": {
     "end_time": "2024-05-28T13:36:31.677570Z",
     "start_time": "2024-05-28T13:36:31.583387Z"
    }
   },
   "outputs": [
    {
     "data": {
      "text/plain": [
       "Index(['Eaux usées', 'Eau de drainage', 'Débits résiduels (barrages)',\n",
       "       'Hydraulique fil de l'eau', 'Pompage-turbinage production',\n",
       "       'Eau de Stockage', 'Eau potable', 'Biogaz',\n",
       "       'Biogaz de station d'épuration', 'Energie du bois',\n",
       "       'Déchets forestiers et agricoles', 'Incinération',\n",
       "       'Turbine à vapeur de gaz fossile',\n",
       "       'Centrale combinée à gaz et à vapeur', 'Turbine à gaz',\n",
       "       'Énergies fossiles gazeuses', 'Moteur à combustion',\n",
       "       'Énergies fossiles liquides', 'Éolienne', 'Photovoltaïque'],\n",
       "      dtype='object')"
      ]
     },
     "execution_count": 31,
     "metadata": {},
     "output_type": "execute_result"
    }
   ],
   "execution_count": 31
  },
  {
   "metadata": {
    "ExecuteTime": {
     "end_time": "2024-05-28T13:15:51.804833Z",
     "start_time": "2024-05-28T13:15:51.710422Z"
    }
   },
   "cell_type": "code",
   "source": "new_df = pd.DataFrame(df['Photovoltaïque'])\n",
   "outputs": [],
   "execution_count": 26
  },
  {
   "metadata": {
    "ExecuteTime": {
     "end_time": "2024-05-28T13:15:52.628072Z",
     "start_time": "2024-05-28T13:15:52.518192Z"
    }
   },
   "cell_type": "code",
   "source": [
    "new_df.index=pd.to_datetime(new_df.index ,dayfirst=True)\n",
    "new_df"
   ],
   "outputs": [
    {
     "data": {
      "text/plain": [
       "            Photovoltaïque\n",
       "Jour                      \n",
       "2023-01-01             4.7\n",
       "2023-01-02             3.3\n",
       "2023-01-03             1.3\n",
       "2023-01-04             2.4\n",
       "2023-01-05             2.6\n",
       "...                    ...\n",
       "2023-12-27             6.0\n",
       "2023-12-28             2.7\n",
       "2023-12-29             3.2\n",
       "2023-12-30             5.8\n",
       "2023-12-31             2.1\n",
       "\n",
       "[365 rows x 1 columns]"
      ],
      "text/html": [
       "<div>\n",
       "<style scoped>\n",
       "    .dataframe tbody tr th:only-of-type {\n",
       "        vertical-align: middle;\n",
       "    }\n",
       "\n",
       "    .dataframe tbody tr th {\n",
       "        vertical-align: top;\n",
       "    }\n",
       "\n",
       "    .dataframe thead th {\n",
       "        text-align: right;\n",
       "    }\n",
       "</style>\n",
       "<table border=\"1\" class=\"dataframe\">\n",
       "  <thead>\n",
       "    <tr style=\"text-align: right;\">\n",
       "      <th></th>\n",
       "      <th>Photovoltaïque</th>\n",
       "    </tr>\n",
       "    <tr>\n",
       "      <th>Jour</th>\n",
       "      <th></th>\n",
       "    </tr>\n",
       "  </thead>\n",
       "  <tbody>\n",
       "    <tr>\n",
       "      <th>2023-01-01</th>\n",
       "      <td>4.7</td>\n",
       "    </tr>\n",
       "    <tr>\n",
       "      <th>2023-01-02</th>\n",
       "      <td>3.3</td>\n",
       "    </tr>\n",
       "    <tr>\n",
       "      <th>2023-01-03</th>\n",
       "      <td>1.3</td>\n",
       "    </tr>\n",
       "    <tr>\n",
       "      <th>2023-01-04</th>\n",
       "      <td>2.4</td>\n",
       "    </tr>\n",
       "    <tr>\n",
       "      <th>2023-01-05</th>\n",
       "      <td>2.6</td>\n",
       "    </tr>\n",
       "    <tr>\n",
       "      <th>...</th>\n",
       "      <td>...</td>\n",
       "    </tr>\n",
       "    <tr>\n",
       "      <th>2023-12-27</th>\n",
       "      <td>6.0</td>\n",
       "    </tr>\n",
       "    <tr>\n",
       "      <th>2023-12-28</th>\n",
       "      <td>2.7</td>\n",
       "    </tr>\n",
       "    <tr>\n",
       "      <th>2023-12-29</th>\n",
       "      <td>3.2</td>\n",
       "    </tr>\n",
       "    <tr>\n",
       "      <th>2023-12-30</th>\n",
       "      <td>5.8</td>\n",
       "    </tr>\n",
       "    <tr>\n",
       "      <th>2023-12-31</th>\n",
       "      <td>2.1</td>\n",
       "    </tr>\n",
       "  </tbody>\n",
       "</table>\n",
       "<p>365 rows × 1 columns</p>\n",
       "</div>"
      ]
     },
     "execution_count": 27,
     "metadata": {},
     "output_type": "execute_result"
    }
   ],
   "execution_count": 27
  },
  {
   "metadata": {
    "ExecuteTime": {
     "end_time": "2024-05-28T13:15:53.350895Z",
     "start_time": "2024-05-28T13:15:53.162322Z"
    }
   },
   "cell_type": "code",
   "source": [
    "import plotly.express as px\n",
    "fig = px.line(new_df, x=new_df.index, y='Photovoltaïque', title='Production Photovoltaïque Quotidienne en 2023')\n",
    "fig = px.line(pred, x=pred.index, y=pred.columns, title='Production Photovoltaïque Quotidienne en 2023')\n",
    "fig.show()\n"
   ],
   "outputs": [
    {
     "data": {
      "application/vnd.plotly.v1+json": {
       "data": [
        {
         "hovertemplate": "variable=0<br>time=%{x}<br>value=%{y}<extra></extra>",
         "legendgroup": "0",
         "line": {
          "color": "#636efa",
          "dash": "solid"
         },
         "marker": {
          "symbol": "circle"
         },
         "mode": "lines",
         "name": "0",
         "orientation": "v",
         "showlegend": true,
         "x": [
          "2023-01-01T00:00:00",
          "2023-01-02T00:00:00",
          "2023-01-03T00:00:00",
          "2023-01-04T00:00:00",
          "2023-01-05T00:00:00",
          "2023-01-06T00:00:00",
          "2023-01-07T00:00:00",
          "2023-01-08T00:00:00",
          "2023-01-09T00:00:00",
          "2023-01-10T00:00:00",
          "2023-01-11T00:00:00",
          "2023-01-12T00:00:00",
          "2023-01-13T00:00:00",
          "2023-01-14T00:00:00",
          "2023-01-15T00:00:00",
          "2023-01-16T00:00:00",
          "2023-01-17T00:00:00",
          "2023-01-18T00:00:00",
          "2023-01-19T00:00:00",
          "2023-01-20T00:00:00",
          "2023-01-21T00:00:00",
          "2023-01-22T00:00:00",
          "2023-01-23T00:00:00",
          "2023-01-24T00:00:00",
          "2023-01-25T00:00:00",
          "2023-01-26T00:00:00",
          "2023-01-27T00:00:00",
          "2023-01-28T00:00:00",
          "2023-01-29T00:00:00",
          "2023-01-30T00:00:00",
          "2023-01-31T00:00:00",
          "2023-02-01T00:00:00",
          "2023-02-02T00:00:00",
          "2023-02-03T00:00:00",
          "2023-02-04T00:00:00",
          "2023-02-05T00:00:00",
          "2023-02-06T00:00:00",
          "2023-02-07T00:00:00",
          "2023-02-08T00:00:00",
          "2023-02-09T00:00:00",
          "2023-02-10T00:00:00",
          "2023-02-11T00:00:00",
          "2023-02-12T00:00:00",
          "2023-02-13T00:00:00",
          "2023-02-14T00:00:00",
          "2023-02-15T00:00:00",
          "2023-02-16T00:00:00",
          "2023-02-17T00:00:00",
          "2023-02-18T00:00:00",
          "2023-02-19T00:00:00",
          "2023-02-20T00:00:00",
          "2023-02-21T00:00:00",
          "2023-02-22T00:00:00",
          "2023-02-23T00:00:00",
          "2023-02-24T00:00:00",
          "2023-02-25T00:00:00",
          "2023-02-26T00:00:00",
          "2023-02-27T00:00:00",
          "2023-02-28T00:00:00",
          "2023-03-01T00:00:00",
          "2023-03-02T00:00:00",
          "2023-03-03T00:00:00",
          "2023-03-04T00:00:00",
          "2023-03-05T00:00:00",
          "2023-03-06T00:00:00",
          "2023-03-07T00:00:00",
          "2023-03-08T00:00:00",
          "2023-03-09T00:00:00",
          "2023-03-10T00:00:00",
          "2023-03-11T00:00:00",
          "2023-03-12T00:00:00",
          "2023-03-13T00:00:00",
          "2023-03-14T00:00:00",
          "2023-03-15T00:00:00",
          "2023-03-16T00:00:00",
          "2023-03-17T00:00:00",
          "2023-03-18T00:00:00",
          "2023-03-19T00:00:00",
          "2023-03-20T00:00:00",
          "2023-03-21T00:00:00",
          "2023-03-22T00:00:00",
          "2023-03-23T00:00:00",
          "2023-03-24T00:00:00",
          "2023-03-25T00:00:00",
          "2023-03-26T00:00:00",
          "2023-03-27T00:00:00",
          "2023-03-28T00:00:00",
          "2023-03-29T00:00:00",
          "2023-03-30T00:00:00",
          "2023-03-31T00:00:00",
          "2023-04-01T00:00:00",
          "2023-04-02T00:00:00",
          "2023-04-03T00:00:00",
          "2023-04-04T00:00:00",
          "2023-04-05T00:00:00",
          "2023-04-06T00:00:00",
          "2023-04-07T00:00:00",
          "2023-04-08T00:00:00",
          "2023-04-09T00:00:00",
          "2023-04-10T00:00:00",
          "2023-04-11T00:00:00",
          "2023-04-12T00:00:00",
          "2023-04-13T00:00:00",
          "2023-04-14T00:00:00",
          "2023-04-15T00:00:00",
          "2023-04-16T00:00:00",
          "2023-04-17T00:00:00",
          "2023-04-18T00:00:00",
          "2023-04-19T00:00:00",
          "2023-04-20T00:00:00",
          "2023-04-21T00:00:00",
          "2023-04-22T00:00:00",
          "2023-04-23T00:00:00",
          "2023-04-24T00:00:00",
          "2023-04-25T00:00:00",
          "2023-04-26T00:00:00",
          "2023-04-27T00:00:00",
          "2023-04-28T00:00:00",
          "2023-04-29T00:00:00",
          "2023-04-30T00:00:00",
          "2023-05-01T00:00:00",
          "2023-05-02T00:00:00",
          "2023-05-03T00:00:00",
          "2023-05-04T00:00:00",
          "2023-05-05T00:00:00",
          "2023-05-06T00:00:00",
          "2023-05-07T00:00:00",
          "2023-05-08T00:00:00",
          "2023-05-09T00:00:00",
          "2023-05-10T00:00:00",
          "2023-05-11T00:00:00",
          "2023-05-12T00:00:00",
          "2023-05-13T00:00:00",
          "2023-05-14T00:00:00",
          "2023-05-15T00:00:00",
          "2023-05-16T00:00:00",
          "2023-05-17T00:00:00",
          "2023-05-18T00:00:00",
          "2023-05-19T00:00:00",
          "2023-05-20T00:00:00",
          "2023-05-21T00:00:00",
          "2023-05-22T00:00:00",
          "2023-05-23T00:00:00",
          "2023-05-24T00:00:00",
          "2023-05-25T00:00:00",
          "2023-05-26T00:00:00",
          "2023-05-27T00:00:00",
          "2023-05-28T00:00:00",
          "2023-05-29T00:00:00",
          "2023-05-30T00:00:00",
          "2023-05-31T00:00:00",
          "2023-06-01T00:00:00",
          "2023-06-02T00:00:00",
          "2023-06-03T00:00:00",
          "2023-06-04T00:00:00",
          "2023-06-05T00:00:00",
          "2023-06-06T00:00:00",
          "2023-06-07T00:00:00",
          "2023-06-08T00:00:00",
          "2023-06-09T00:00:00",
          "2023-06-10T00:00:00",
          "2023-06-11T00:00:00",
          "2023-06-12T00:00:00",
          "2023-06-13T00:00:00",
          "2023-06-14T00:00:00",
          "2023-06-15T00:00:00",
          "2023-06-16T00:00:00",
          "2023-06-17T00:00:00",
          "2023-06-18T00:00:00",
          "2023-06-19T00:00:00",
          "2023-06-20T00:00:00",
          "2023-06-21T00:00:00",
          "2023-06-22T00:00:00",
          "2023-06-23T00:00:00",
          "2023-06-24T00:00:00",
          "2023-06-25T00:00:00",
          "2023-06-26T00:00:00",
          "2023-06-27T00:00:00",
          "2023-06-28T00:00:00",
          "2023-06-29T00:00:00",
          "2023-06-30T00:00:00",
          "2023-07-01T00:00:00",
          "2023-07-02T00:00:00",
          "2023-07-03T00:00:00",
          "2023-07-04T00:00:00",
          "2023-07-05T00:00:00",
          "2023-07-06T00:00:00",
          "2023-07-07T00:00:00",
          "2023-07-08T00:00:00",
          "2023-07-09T00:00:00",
          "2023-07-10T00:00:00",
          "2023-07-11T00:00:00",
          "2023-07-12T00:00:00",
          "2023-07-13T00:00:00",
          "2023-07-14T00:00:00",
          "2023-07-15T00:00:00",
          "2023-07-16T00:00:00",
          "2023-07-17T00:00:00",
          "2023-07-18T00:00:00",
          "2023-07-19T00:00:00",
          "2023-07-20T00:00:00",
          "2023-07-21T00:00:00",
          "2023-07-22T00:00:00",
          "2023-07-23T00:00:00",
          "2023-07-24T00:00:00",
          "2023-07-25T00:00:00",
          "2023-07-26T00:00:00",
          "2023-07-27T00:00:00",
          "2023-07-28T00:00:00",
          "2023-07-29T00:00:00",
          "2023-07-30T00:00:00",
          "2023-07-31T00:00:00",
          "2023-08-01T00:00:00",
          "2023-08-02T00:00:00",
          "2023-08-03T00:00:00",
          "2023-08-04T00:00:00",
          "2023-08-05T00:00:00",
          "2023-08-06T00:00:00",
          "2023-08-07T00:00:00",
          "2023-08-08T00:00:00",
          "2023-08-09T00:00:00",
          "2023-08-10T00:00:00",
          "2023-08-11T00:00:00",
          "2023-08-12T00:00:00",
          "2023-08-13T00:00:00",
          "2023-08-14T00:00:00",
          "2023-08-15T00:00:00",
          "2023-08-16T00:00:00",
          "2023-08-17T00:00:00",
          "2023-08-18T00:00:00",
          "2023-08-19T00:00:00",
          "2023-08-20T00:00:00",
          "2023-08-21T00:00:00",
          "2023-08-22T00:00:00",
          "2023-08-23T00:00:00",
          "2023-08-24T00:00:00",
          "2023-08-25T00:00:00",
          "2023-08-26T00:00:00",
          "2023-08-27T00:00:00",
          "2023-08-28T00:00:00",
          "2023-08-29T00:00:00",
          "2023-08-30T00:00:00",
          "2023-08-31T00:00:00",
          "2023-09-01T00:00:00",
          "2023-09-02T00:00:00",
          "2023-09-03T00:00:00",
          "2023-09-04T00:00:00",
          "2023-09-05T00:00:00",
          "2023-09-06T00:00:00",
          "2023-09-07T00:00:00",
          "2023-09-08T00:00:00",
          "2023-09-09T00:00:00",
          "2023-09-10T00:00:00",
          "2023-09-11T00:00:00",
          "2023-09-12T00:00:00",
          "2023-09-13T00:00:00",
          "2023-09-14T00:00:00",
          "2023-09-15T00:00:00",
          "2023-09-16T00:00:00",
          "2023-09-17T00:00:00",
          "2023-09-18T00:00:00",
          "2023-09-19T00:00:00",
          "2023-09-20T00:00:00",
          "2023-09-21T00:00:00",
          "2023-09-22T00:00:00",
          "2023-09-23T00:00:00",
          "2023-09-24T00:00:00",
          "2023-09-25T00:00:00",
          "2023-09-26T00:00:00",
          "2023-09-27T00:00:00",
          "2023-09-28T00:00:00",
          "2023-09-29T00:00:00",
          "2023-09-30T00:00:00",
          "2023-10-01T00:00:00",
          "2023-10-02T00:00:00",
          "2023-10-03T00:00:00",
          "2023-10-04T00:00:00",
          "2023-10-05T00:00:00",
          "2023-10-06T00:00:00",
          "2023-10-07T00:00:00",
          "2023-10-08T00:00:00",
          "2023-10-09T00:00:00",
          "2023-10-10T00:00:00",
          "2023-10-11T00:00:00",
          "2023-10-12T00:00:00",
          "2023-10-13T00:00:00",
          "2023-10-14T00:00:00",
          "2023-10-15T00:00:00",
          "2023-10-16T00:00:00",
          "2023-10-17T00:00:00",
          "2023-10-18T00:00:00",
          "2023-10-19T00:00:00",
          "2023-10-20T00:00:00",
          "2023-10-21T00:00:00",
          "2023-10-22T00:00:00",
          "2023-10-23T00:00:00",
          "2023-10-24T00:00:00",
          "2023-10-25T00:00:00",
          "2023-10-26T00:00:00",
          "2023-10-27T00:00:00",
          "2023-10-28T00:00:00",
          "2023-10-29T00:00:00",
          "2023-10-30T00:00:00",
          "2023-10-31T00:00:00",
          "2023-11-01T00:00:00",
          "2023-11-02T00:00:00",
          "2023-11-03T00:00:00",
          "2023-11-04T00:00:00",
          "2023-11-05T00:00:00",
          "2023-11-06T00:00:00",
          "2023-11-07T00:00:00",
          "2023-11-08T00:00:00",
          "2023-11-09T00:00:00",
          "2023-11-10T00:00:00",
          "2023-11-11T00:00:00",
          "2023-11-12T00:00:00",
          "2023-11-13T00:00:00",
          "2023-11-14T00:00:00",
          "2023-11-15T00:00:00",
          "2023-11-16T00:00:00",
          "2023-11-17T00:00:00",
          "2023-11-18T00:00:00",
          "2023-11-19T00:00:00",
          "2023-11-20T00:00:00",
          "2023-11-21T00:00:00",
          "2023-11-22T00:00:00",
          "2023-11-23T00:00:00",
          "2023-11-24T00:00:00",
          "2023-11-25T00:00:00",
          "2023-11-26T00:00:00",
          "2023-11-27T00:00:00",
          "2023-11-28T00:00:00",
          "2023-11-29T00:00:00",
          "2023-11-30T00:00:00",
          "2023-12-01T00:00:00",
          "2023-12-02T00:00:00",
          "2023-12-03T00:00:00",
          "2023-12-04T00:00:00",
          "2023-12-05T00:00:00",
          "2023-12-06T00:00:00",
          "2023-12-07T00:00:00",
          "2023-12-08T00:00:00",
          "2023-12-09T00:00:00",
          "2023-12-10T00:00:00",
          "2023-12-11T00:00:00",
          "2023-12-12T00:00:00",
          "2023-12-13T00:00:00",
          "2023-12-14T00:00:00",
          "2023-12-15T00:00:00",
          "2023-12-16T00:00:00",
          "2023-12-17T00:00:00",
          "2023-12-18T00:00:00",
          "2023-12-19T00:00:00",
          "2023-12-20T00:00:00",
          "2023-12-21T00:00:00",
          "2023-12-22T00:00:00",
          "2023-12-23T00:00:00",
          "2023-12-24T00:00:00",
          "2023-12-25T00:00:00",
          "2023-12-26T00:00:00",
          "2023-12-27T00:00:00",
          "2023-12-28T00:00:00",
          "2023-12-29T00:00:00",
          "2023-12-30T00:00:00",
          "2023-12-31T00:00:00"
         ],
         "xaxis": "x",
         "y": [
          3.9696859576317003,
          3.2407834795048758,
          2.1872286582405267,
          2.6966204572255523,
          2.249869636384398,
          3.59921104219271,
          4.254899731644659,
          1.6741976300368213,
          3.2904908083671978,
          4.058897797547566,
          1.7978342780374594,
          2.559279931999686,
          3.0223444332573544,
          3.1140959524829372,
          1.4023381742271377,
          2.0959770186479894,
          1.0176172019829128,
          1.2113357787386536,
          2.2012518865103794,
          1.8966683883346647,
          1.7310806074182485,
          1.7888456734991625,
          1.230351017399391,
          2.735050193992419,
          2.8100668154400172,
          1.7661457198745067,
          1.822598405926462,
          2.2267587800724096,
          3.121053509433141,
          3.260835772595376,
          4.968672803408917,
          4.526744401513695,
          3.711432289471918,
          6.048789778214034,
          2.8952629015348927,
          3.5499918417328455,
          3.547252533604678,
          6.185976702271431,
          4.5035325458729645,
          6.384631109773302,
          7.573002090751678,
          7.18571900102372,
          8.339274237785585,
          8.371850919071367,
          8.575351651688452,
          9.08504520119103,
          9.128590181684647,
          0.19574030672008155,
          0.2047650915693678,
          0.19263854715291326,
          0.2086281855451747,
          0.2595284880709659,
          0.11362014848003106,
          0.0492344994091262,
          0.043133272804612224,
          0.11733633597835967,
          0.00791999922930018,
          0.014582288212004075,
          0.026800353542708915,
          6.1685335404064165,
          9.979989495037245,
          8.649396653847369,
          9.926669449958444,
          10.376856272643964,
          9.399501930310405,
          9.505952776672862,
          5.276577769406851,
          11.194154934971785,
          5.084348608810395,
          3.0538430921065025,
          7.8579536213130385,
          12.253487507898084,
          5.807260230513258,
          12.77791660059825,
          13.090689995766636,
          13.578669182481974,
          13.917337441031187,
          7.786989306549951,
          10.30080098854031,
          12.53178671733763,
          14.964032464991833,
          10.167512201017628,
          6.082424229587071,
          8.842944381801379,
          8.790039490206166,
          9.341462290361193,
          13.673256019632346,
          10.313577411619475,
          8.295945108719977,
          9.401064566289314,
          10.227390689991655,
          10.944361634905194,
          11.753566862149825,
          17.647182931104272,
          16.390942193252297,
          13.915897304320957,
          7.036629004910759,
          12.526928326094628,
          16.978511749532114,
          15.622634836587567,
          7.237833514276455,
          8.97100052888086,
          10.884303658109639,
          14.084306319385552,
          6.517196659973868,
          6.740245331424473,
          13.478031120018402,
          14.131470621119464,
          13.996648693687575,
          7.491118917458619,
          13.978834903211094,
          12.551139719936089,
          13.282690062754929,
          14.425930467300512,
          11.842217658418038,
          16.717827610543136,
          16.486996502584816,
          9.260695260007036,
          14.394370270334614,
          9.53798937319788,
          8.031022735441862,
          15.336361129591195,
          21.21038803096592,
          21.27397781783069,
          16.433237645867695,
          17.220395554852505,
          11.979517410568011,
          13.237852718228027,
          11.900133655191347,
          10.960487394486359,
          11.124787793086076,
          14.30898427739767,
          12.615028799768325,
          13.428928507023079,
          15.70646984247526,
          8.470765785839385,
          11.8898203200839,
          11.131622982633045,
          10.727763280204424,
          13.475535953990265,
          18.36843952641626,
          19.185341680369763,
          16.209344116358903,
          9.258784031453628,
          16.690420609000807,
          19.729282546952984,
          22.12711840168925,
          21.866989268898266,
          22.369419523269038,
          21.930230664138946,
          20.425904310652175,
          20.756607433490093,
          20.57388378255091,
          18.645618702660272,
          17.032900151126114,
          21.437982645945677,
          21.940228867372337,
          22.426723283248183,
          20.910621133077665,
          20.233605911995408,
          18.29110743514078,
          20.533388695939987,
          22.63248434007378,
          20.550817637914253,
          23.99488360308264,
          21.376948545812464,
          21.428834503007966,
          23.390121319326084,
          19.80494440670424,
          18.631910195302815,
          19.280922113598532,
          18.434830560240037,
          16.47763614892062,
          19.58545409029469,
          23.59663307942023,
          23.23094925937014,
          20.86574220613477,
          20.395761831209285,
          21.464731436780415,
          17.92895238729448,
          8.162648070466572,
          14.127490645080767,
          13.864082621689413,
          15.359724597264623,
          18.777602097497482,
          16.107808117913947,
          19.311721307823884,
          22.27134409324071,
          18.202191231764083,
          21.235052970996595,
          19.63260012562574,
          20.343202338351265,
          12.36332004429786,
          15.659224156199144,
          20.59596672275073,
          20.247374289260943,
          15.214449524441738,
          18.235135648517083,
          18.51673479967634,
          19.124723165817496,
          19.26466310021952,
          14.90924800996844,
          19.45368962312319,
          19.93892344920534,
          11.327063050543778,
          14.650294810347104,
          15.966696414243314,
          17.504170076054724,
          15.526194491493788,
          13.202864864602192,
          17.014022872418607,
          20.13592649090946,
          10.549444656091488,
          16.615878585650186,
          16.708966390800775,
          10.738036911706935,
          13.05810443324429,
          11.05799096110872,
          15.831784172266907,
          18.778223149735016,
          13.049475767375643,
          20.318250661302205,
          19.996737775121307,
          15.800154976257028,
          16.784519898931244,
          16.209872015961786,
          16.27632846377211,
          18.0556688643272,
          15.366169091902528,
          18.564983095747852,
          18.084857491308544,
          17.843115353831518,
          18.07670992813686,
          17.778916560374725,
          17.992016170667664,
          17.166611702473666,
          14.241595201369119,
          6.565260284758046,
          4.209627851978601,
          3.325054565341924,
          7.6778572043398166,
          12.420648301286418,
          10.824091595035421,
          15.297652349419579,
          15.443882357020238,
          16.161991311818227,
          16.667060173158955,
          16.81808876181497,
          16.554526252432943,
          16.387809537548456,
          15.36377734180536,
          14.712845599450963,
          15.327109201433618,
          15.376859289433028,
          13.33348669853581,
          5.7468041896442354,
          10.761463856597622,
          11.137783651764659,
          11.505970076935515,
          13.533589589554548,
          5.982267702658757,
          11.574621174290513,
          13.138443266163637,
          9.959983999080329,
          7.758790019970414,
          8.675829642497868,
          13.517890630915526,
          14.083917390638259,
          13.753570094854906,
          13.403164643914343,
          13.456372863020153,
          13.049494802656021,
          10.224656991951427,
          12.971847933694356,
          13.182526192140532,
          11.930811277572001,
          10.452362504307022,
          11.293760380372337,
          11.956269520072397,
          12.072224843800182,
          12.357911830792464,
          12.27209205568554,
          11.76985852185186,
          12.074615821223828,
          11.531084215700862,
          11.28468001939578,
          5.952501203573725,
          7.099655974566131,
          8.999320507785594,
          9.016208798877177,
          6.300407555633632,
          5.569818637474798,
          3.133155548178812,
          4.971632174184608,
          7.249783403663049,
          5.618471033751127,
          2.389785276541657,
          5.578512588617611,
          4.09438025520682,
          6.876730131520034,
          6.129158683589052,
          5.631679815993842,
          3.7515273575867196,
          3.888060434239062,
          4.848635528095121,
          1.201428154491958,
          3.6936019811496763,
          2.6236978060468625,
          3.8853423092650585,
          5.504278853852134,
          4.843073759798795,
          6.758066651701929,
          1.9980410845847139,
          3.447214668461709,
          3.898866452932346,
          1.0302357085018112,
          3.3469189194646844,
          1.4173045345291608,
          4.4817892693643255,
          2.3434338226288007,
          2.9665311893070387,
          2.258402199373324,
          2.1306222412671474,
          4.759456348824353,
          2.7072222575507268,
          2.3784327796224107,
          4.374009211262695,
          2.4365984443121125,
          2.208344424455592,
          2.6762434343335713,
          1.8311741728295305,
          1.2179344276806991,
          3.6602912172777153,
          0.3813295076245771,
          0.5786503604432615,
          0.4454693853709938,
          1.603235434302847,
          0.9264121378179783,
          2.37224911789833,
          1.860134194702588,
          2.341412811685288,
          0.7063169778966201,
          1.3283903776336294,
          2.829361173705255,
          0.9313552822418636,
          1.600875177070688,
          2.0712425104891063,
          1.6356271264619617,
          2.5650295112712347,
          2.4632589741465716,
          2.699169585422775,
          3.332948101483607,
          3.4136690457226697,
          1.7197442000049452,
          1.174414376202438,
          1.037885287090923,
          2.6049602920120662,
          2.6573234648393123,
          4.177152834187916,
          3.158982449826951,
          3.4457132986754746,
          1.972209213884963,
          2.3051112707488706,
          3.7944854365038108,
          1.6975165127816982
         ],
         "yaxis": "y",
         "type": "scatter"
        }
       ],
       "layout": {
        "template": {
         "data": {
          "histogram2dcontour": [
           {
            "type": "histogram2dcontour",
            "colorbar": {
             "outlinewidth": 0,
             "ticks": ""
            },
            "colorscale": [
             [
              0.0,
              "#0d0887"
             ],
             [
              0.1111111111111111,
              "#46039f"
             ],
             [
              0.2222222222222222,
              "#7201a8"
             ],
             [
              0.3333333333333333,
              "#9c179e"
             ],
             [
              0.4444444444444444,
              "#bd3786"
             ],
             [
              0.5555555555555556,
              "#d8576b"
             ],
             [
              0.6666666666666666,
              "#ed7953"
             ],
             [
              0.7777777777777778,
              "#fb9f3a"
             ],
             [
              0.8888888888888888,
              "#fdca26"
             ],
             [
              1.0,
              "#f0f921"
             ]
            ]
           }
          ],
          "choropleth": [
           {
            "type": "choropleth",
            "colorbar": {
             "outlinewidth": 0,
             "ticks": ""
            }
           }
          ],
          "histogram2d": [
           {
            "type": "histogram2d",
            "colorbar": {
             "outlinewidth": 0,
             "ticks": ""
            },
            "colorscale": [
             [
              0.0,
              "#0d0887"
             ],
             [
              0.1111111111111111,
              "#46039f"
             ],
             [
              0.2222222222222222,
              "#7201a8"
             ],
             [
              0.3333333333333333,
              "#9c179e"
             ],
             [
              0.4444444444444444,
              "#bd3786"
             ],
             [
              0.5555555555555556,
              "#d8576b"
             ],
             [
              0.6666666666666666,
              "#ed7953"
             ],
             [
              0.7777777777777778,
              "#fb9f3a"
             ],
             [
              0.8888888888888888,
              "#fdca26"
             ],
             [
              1.0,
              "#f0f921"
             ]
            ]
           }
          ],
          "heatmap": [
           {
            "type": "heatmap",
            "colorbar": {
             "outlinewidth": 0,
             "ticks": ""
            },
            "colorscale": [
             [
              0.0,
              "#0d0887"
             ],
             [
              0.1111111111111111,
              "#46039f"
             ],
             [
              0.2222222222222222,
              "#7201a8"
             ],
             [
              0.3333333333333333,
              "#9c179e"
             ],
             [
              0.4444444444444444,
              "#bd3786"
             ],
             [
              0.5555555555555556,
              "#d8576b"
             ],
             [
              0.6666666666666666,
              "#ed7953"
             ],
             [
              0.7777777777777778,
              "#fb9f3a"
             ],
             [
              0.8888888888888888,
              "#fdca26"
             ],
             [
              1.0,
              "#f0f921"
             ]
            ]
           }
          ],
          "heatmapgl": [
           {
            "type": "heatmapgl",
            "colorbar": {
             "outlinewidth": 0,
             "ticks": ""
            },
            "colorscale": [
             [
              0.0,
              "#0d0887"
             ],
             [
              0.1111111111111111,
              "#46039f"
             ],
             [
              0.2222222222222222,
              "#7201a8"
             ],
             [
              0.3333333333333333,
              "#9c179e"
             ],
             [
              0.4444444444444444,
              "#bd3786"
             ],
             [
              0.5555555555555556,
              "#d8576b"
             ],
             [
              0.6666666666666666,
              "#ed7953"
             ],
             [
              0.7777777777777778,
              "#fb9f3a"
             ],
             [
              0.8888888888888888,
              "#fdca26"
             ],
             [
              1.0,
              "#f0f921"
             ]
            ]
           }
          ],
          "contourcarpet": [
           {
            "type": "contourcarpet",
            "colorbar": {
             "outlinewidth": 0,
             "ticks": ""
            }
           }
          ],
          "contour": [
           {
            "type": "contour",
            "colorbar": {
             "outlinewidth": 0,
             "ticks": ""
            },
            "colorscale": [
             [
              0.0,
              "#0d0887"
             ],
             [
              0.1111111111111111,
              "#46039f"
             ],
             [
              0.2222222222222222,
              "#7201a8"
             ],
             [
              0.3333333333333333,
              "#9c179e"
             ],
             [
              0.4444444444444444,
              "#bd3786"
             ],
             [
              0.5555555555555556,
              "#d8576b"
             ],
             [
              0.6666666666666666,
              "#ed7953"
             ],
             [
              0.7777777777777778,
              "#fb9f3a"
             ],
             [
              0.8888888888888888,
              "#fdca26"
             ],
             [
              1.0,
              "#f0f921"
             ]
            ]
           }
          ],
          "surface": [
           {
            "type": "surface",
            "colorbar": {
             "outlinewidth": 0,
             "ticks": ""
            },
            "colorscale": [
             [
              0.0,
              "#0d0887"
             ],
             [
              0.1111111111111111,
              "#46039f"
             ],
             [
              0.2222222222222222,
              "#7201a8"
             ],
             [
              0.3333333333333333,
              "#9c179e"
             ],
             [
              0.4444444444444444,
              "#bd3786"
             ],
             [
              0.5555555555555556,
              "#d8576b"
             ],
             [
              0.6666666666666666,
              "#ed7953"
             ],
             [
              0.7777777777777778,
              "#fb9f3a"
             ],
             [
              0.8888888888888888,
              "#fdca26"
             ],
             [
              1.0,
              "#f0f921"
             ]
            ]
           }
          ],
          "mesh3d": [
           {
            "type": "mesh3d",
            "colorbar": {
             "outlinewidth": 0,
             "ticks": ""
            }
           }
          ],
          "scatter": [
           {
            "fillpattern": {
             "fillmode": "overlay",
             "size": 10,
             "solidity": 0.2
            },
            "type": "scatter"
           }
          ],
          "parcoords": [
           {
            "type": "parcoords",
            "line": {
             "colorbar": {
              "outlinewidth": 0,
              "ticks": ""
             }
            }
           }
          ],
          "scatterpolargl": [
           {
            "type": "scatterpolargl",
            "marker": {
             "colorbar": {
              "outlinewidth": 0,
              "ticks": ""
             }
            }
           }
          ],
          "bar": [
           {
            "error_x": {
             "color": "#2a3f5f"
            },
            "error_y": {
             "color": "#2a3f5f"
            },
            "marker": {
             "line": {
              "color": "#E5ECF6",
              "width": 0.5
             },
             "pattern": {
              "fillmode": "overlay",
              "size": 10,
              "solidity": 0.2
             }
            },
            "type": "bar"
           }
          ],
          "scattergeo": [
           {
            "type": "scattergeo",
            "marker": {
             "colorbar": {
              "outlinewidth": 0,
              "ticks": ""
             }
            }
           }
          ],
          "scatterpolar": [
           {
            "type": "scatterpolar",
            "marker": {
             "colorbar": {
              "outlinewidth": 0,
              "ticks": ""
             }
            }
           }
          ],
          "histogram": [
           {
            "marker": {
             "pattern": {
              "fillmode": "overlay",
              "size": 10,
              "solidity": 0.2
             }
            },
            "type": "histogram"
           }
          ],
          "scattergl": [
           {
            "type": "scattergl",
            "marker": {
             "colorbar": {
              "outlinewidth": 0,
              "ticks": ""
             }
            }
           }
          ],
          "scatter3d": [
           {
            "type": "scatter3d",
            "line": {
             "colorbar": {
              "outlinewidth": 0,
              "ticks": ""
             }
            },
            "marker": {
             "colorbar": {
              "outlinewidth": 0,
              "ticks": ""
             }
            }
           }
          ],
          "scattermapbox": [
           {
            "type": "scattermapbox",
            "marker": {
             "colorbar": {
              "outlinewidth": 0,
              "ticks": ""
             }
            }
           }
          ],
          "scatterternary": [
           {
            "type": "scatterternary",
            "marker": {
             "colorbar": {
              "outlinewidth": 0,
              "ticks": ""
             }
            }
           }
          ],
          "scattercarpet": [
           {
            "type": "scattercarpet",
            "marker": {
             "colorbar": {
              "outlinewidth": 0,
              "ticks": ""
             }
            }
           }
          ],
          "carpet": [
           {
            "aaxis": {
             "endlinecolor": "#2a3f5f",
             "gridcolor": "white",
             "linecolor": "white",
             "minorgridcolor": "white",
             "startlinecolor": "#2a3f5f"
            },
            "baxis": {
             "endlinecolor": "#2a3f5f",
             "gridcolor": "white",
             "linecolor": "white",
             "minorgridcolor": "white",
             "startlinecolor": "#2a3f5f"
            },
            "type": "carpet"
           }
          ],
          "table": [
           {
            "cells": {
             "fill": {
              "color": "#EBF0F8"
             },
             "line": {
              "color": "white"
             }
            },
            "header": {
             "fill": {
              "color": "#C8D4E3"
             },
             "line": {
              "color": "white"
             }
            },
            "type": "table"
           }
          ],
          "barpolar": [
           {
            "marker": {
             "line": {
              "color": "#E5ECF6",
              "width": 0.5
             },
             "pattern": {
              "fillmode": "overlay",
              "size": 10,
              "solidity": 0.2
             }
            },
            "type": "barpolar"
           }
          ],
          "pie": [
           {
            "automargin": true,
            "type": "pie"
           }
          ]
         },
         "layout": {
          "autotypenumbers": "strict",
          "colorway": [
           "#636efa",
           "#EF553B",
           "#00cc96",
           "#ab63fa",
           "#FFA15A",
           "#19d3f3",
           "#FF6692",
           "#B6E880",
           "#FF97FF",
           "#FECB52"
          ],
          "font": {
           "color": "#2a3f5f"
          },
          "hovermode": "closest",
          "hoverlabel": {
           "align": "left"
          },
          "paper_bgcolor": "white",
          "plot_bgcolor": "#E5ECF6",
          "polar": {
           "bgcolor": "#E5ECF6",
           "angularaxis": {
            "gridcolor": "white",
            "linecolor": "white",
            "ticks": ""
           },
           "radialaxis": {
            "gridcolor": "white",
            "linecolor": "white",
            "ticks": ""
           }
          },
          "ternary": {
           "bgcolor": "#E5ECF6",
           "aaxis": {
            "gridcolor": "white",
            "linecolor": "white",
            "ticks": ""
           },
           "baxis": {
            "gridcolor": "white",
            "linecolor": "white",
            "ticks": ""
           },
           "caxis": {
            "gridcolor": "white",
            "linecolor": "white",
            "ticks": ""
           }
          },
          "coloraxis": {
           "colorbar": {
            "outlinewidth": 0,
            "ticks": ""
           }
          },
          "colorscale": {
           "sequential": [
            [
             0.0,
             "#0d0887"
            ],
            [
             0.1111111111111111,
             "#46039f"
            ],
            [
             0.2222222222222222,
             "#7201a8"
            ],
            [
             0.3333333333333333,
             "#9c179e"
            ],
            [
             0.4444444444444444,
             "#bd3786"
            ],
            [
             0.5555555555555556,
             "#d8576b"
            ],
            [
             0.6666666666666666,
             "#ed7953"
            ],
            [
             0.7777777777777778,
             "#fb9f3a"
            ],
            [
             0.8888888888888888,
             "#fdca26"
            ],
            [
             1.0,
             "#f0f921"
            ]
           ],
           "sequentialminus": [
            [
             0.0,
             "#0d0887"
            ],
            [
             0.1111111111111111,
             "#46039f"
            ],
            [
             0.2222222222222222,
             "#7201a8"
            ],
            [
             0.3333333333333333,
             "#9c179e"
            ],
            [
             0.4444444444444444,
             "#bd3786"
            ],
            [
             0.5555555555555556,
             "#d8576b"
            ],
            [
             0.6666666666666666,
             "#ed7953"
            ],
            [
             0.7777777777777778,
             "#fb9f3a"
            ],
            [
             0.8888888888888888,
             "#fdca26"
            ],
            [
             1.0,
             "#f0f921"
            ]
           ],
           "diverging": [
            [
             0,
             "#8e0152"
            ],
            [
             0.1,
             "#c51b7d"
            ],
            [
             0.2,
             "#de77ae"
            ],
            [
             0.3,
             "#f1b6da"
            ],
            [
             0.4,
             "#fde0ef"
            ],
            [
             0.5,
             "#f7f7f7"
            ],
            [
             0.6,
             "#e6f5d0"
            ],
            [
             0.7,
             "#b8e186"
            ],
            [
             0.8,
             "#7fbc41"
            ],
            [
             0.9,
             "#4d9221"
            ],
            [
             1,
             "#276419"
            ]
           ]
          },
          "xaxis": {
           "gridcolor": "white",
           "linecolor": "white",
           "ticks": "",
           "title": {
            "standoff": 15
           },
           "zerolinecolor": "white",
           "automargin": true,
           "zerolinewidth": 2
          },
          "yaxis": {
           "gridcolor": "white",
           "linecolor": "white",
           "ticks": "",
           "title": {
            "standoff": 15
           },
           "zerolinecolor": "white",
           "automargin": true,
           "zerolinewidth": 2
          },
          "scene": {
           "xaxis": {
            "backgroundcolor": "#E5ECF6",
            "gridcolor": "white",
            "linecolor": "white",
            "showbackground": true,
            "ticks": "",
            "zerolinecolor": "white",
            "gridwidth": 2
           },
           "yaxis": {
            "backgroundcolor": "#E5ECF6",
            "gridcolor": "white",
            "linecolor": "white",
            "showbackground": true,
            "ticks": "",
            "zerolinecolor": "white",
            "gridwidth": 2
           },
           "zaxis": {
            "backgroundcolor": "#E5ECF6",
            "gridcolor": "white",
            "linecolor": "white",
            "showbackground": true,
            "ticks": "",
            "zerolinecolor": "white",
            "gridwidth": 2
           }
          },
          "shapedefaults": {
           "line": {
            "color": "#2a3f5f"
           }
          },
          "annotationdefaults": {
           "arrowcolor": "#2a3f5f",
           "arrowhead": 0,
           "arrowwidth": 1
          },
          "geo": {
           "bgcolor": "white",
           "landcolor": "#E5ECF6",
           "subunitcolor": "white",
           "showland": true,
           "showlakes": true,
           "lakecolor": "white"
          },
          "title": {
           "x": 0.05
          },
          "mapbox": {
           "style": "light"
          }
         }
        },
        "xaxis": {
         "anchor": "y",
         "domain": [
          0.0,
          1.0
         ],
         "title": {
          "text": "time"
         }
        },
        "yaxis": {
         "anchor": "x",
         "domain": [
          0.0,
          1.0
         ],
         "title": {
          "text": "value"
         }
        },
        "legend": {
         "title": {
          "text": "variable"
         },
         "tracegroupgap": 0
        },
        "title": {
         "text": "Production Photovoltaïque Quotidienne en 2023"
        }
       },
       "config": {
        "plotlyServerURL": "https://plot.ly"
       }
      },
      "text/html": [
       "<div>                            <div id=\"8740bbe3-0df7-402b-a660-81728e2d8d6a\" class=\"plotly-graph-div\" style=\"height:525px; width:100%;\"></div>            <script type=\"text/javascript\">                require([\"plotly\"], function(Plotly) {                    window.PLOTLYENV=window.PLOTLYENV || {};                                    if (document.getElementById(\"8740bbe3-0df7-402b-a660-81728e2d8d6a\")) {                    Plotly.newPlot(                        \"8740bbe3-0df7-402b-a660-81728e2d8d6a\",                        [{\"hovertemplate\":\"variable=0\\u003cbr\\u003etime=%{x}\\u003cbr\\u003evalue=%{y}\\u003cextra\\u003e\\u003c\\u002fextra\\u003e\",\"legendgroup\":\"0\",\"line\":{\"color\":\"#636efa\",\"dash\":\"solid\"},\"marker\":{\"symbol\":\"circle\"},\"mode\":\"lines\",\"name\":\"0\",\"orientation\":\"v\",\"showlegend\":true,\"x\":[\"2023-01-01T00:00:00\",\"2023-01-02T00:00:00\",\"2023-01-03T00:00:00\",\"2023-01-04T00:00:00\",\"2023-01-05T00:00:00\",\"2023-01-06T00:00:00\",\"2023-01-07T00:00:00\",\"2023-01-08T00:00:00\",\"2023-01-09T00:00:00\",\"2023-01-10T00:00:00\",\"2023-01-11T00:00:00\",\"2023-01-12T00:00:00\",\"2023-01-13T00:00:00\",\"2023-01-14T00:00:00\",\"2023-01-15T00:00:00\",\"2023-01-16T00:00:00\",\"2023-01-17T00:00:00\",\"2023-01-18T00:00:00\",\"2023-01-19T00:00:00\",\"2023-01-20T00:00:00\",\"2023-01-21T00:00:00\",\"2023-01-22T00:00:00\",\"2023-01-23T00:00:00\",\"2023-01-24T00:00:00\",\"2023-01-25T00:00:00\",\"2023-01-26T00:00:00\",\"2023-01-27T00:00:00\",\"2023-01-28T00:00:00\",\"2023-01-29T00:00:00\",\"2023-01-30T00:00:00\",\"2023-01-31T00:00:00\",\"2023-02-01T00:00:00\",\"2023-02-02T00:00:00\",\"2023-02-03T00:00:00\",\"2023-02-04T00:00:00\",\"2023-02-05T00:00:00\",\"2023-02-06T00:00:00\",\"2023-02-07T00:00:00\",\"2023-02-08T00:00:00\",\"2023-02-09T00:00:00\",\"2023-02-10T00:00:00\",\"2023-02-11T00:00:00\",\"2023-02-12T00:00:00\",\"2023-02-13T00:00:00\",\"2023-02-14T00:00:00\",\"2023-02-15T00:00:00\",\"2023-02-16T00:00:00\",\"2023-02-17T00:00:00\",\"2023-02-18T00:00:00\",\"2023-02-19T00:00:00\",\"2023-02-20T00:00:00\",\"2023-02-21T00:00:00\",\"2023-02-22T00:00:00\",\"2023-02-23T00:00:00\",\"2023-02-24T00:00:00\",\"2023-02-25T00:00:00\",\"2023-02-26T00:00:00\",\"2023-02-27T00:00:00\",\"2023-02-28T00:00:00\",\"2023-03-01T00:00:00\",\"2023-03-02T00:00:00\",\"2023-03-03T00:00:00\",\"2023-03-04T00:00:00\",\"2023-03-05T00:00:00\",\"2023-03-06T00:00:00\",\"2023-03-07T00:00:00\",\"2023-03-08T00:00:00\",\"2023-03-09T00:00:00\",\"2023-03-10T00:00:00\",\"2023-03-11T00:00:00\",\"2023-03-12T00:00:00\",\"2023-03-13T00:00:00\",\"2023-03-14T00:00:00\",\"2023-03-15T00:00:00\",\"2023-03-16T00:00:00\",\"2023-03-17T00:00:00\",\"2023-03-18T00:00:00\",\"2023-03-19T00:00:00\",\"2023-03-20T00:00:00\",\"2023-03-21T00:00:00\",\"2023-03-22T00:00:00\",\"2023-03-23T00:00:00\",\"2023-03-24T00:00:00\",\"2023-03-25T00:00:00\",\"2023-03-26T00:00:00\",\"2023-03-27T00:00:00\",\"2023-03-28T00:00:00\",\"2023-03-29T00:00:00\",\"2023-03-30T00:00:00\",\"2023-03-31T00:00:00\",\"2023-04-01T00:00:00\",\"2023-04-02T00:00:00\",\"2023-04-03T00:00:00\",\"2023-04-04T00:00:00\",\"2023-04-05T00:00:00\",\"2023-04-06T00:00:00\",\"2023-04-07T00:00:00\",\"2023-04-08T00:00:00\",\"2023-04-09T00:00:00\",\"2023-04-10T00:00:00\",\"2023-04-11T00:00:00\",\"2023-04-12T00:00:00\",\"2023-04-13T00:00:00\",\"2023-04-14T00:00:00\",\"2023-04-15T00:00:00\",\"2023-04-16T00:00:00\",\"2023-04-17T00:00:00\",\"2023-04-18T00:00:00\",\"2023-04-19T00:00:00\",\"2023-04-20T00:00:00\",\"2023-04-21T00:00:00\",\"2023-04-22T00:00:00\",\"2023-04-23T00:00:00\",\"2023-04-24T00:00:00\",\"2023-04-25T00:00:00\",\"2023-04-26T00:00:00\",\"2023-04-27T00:00:00\",\"2023-04-28T00:00:00\",\"2023-04-29T00:00:00\",\"2023-04-30T00:00:00\",\"2023-05-01T00:00:00\",\"2023-05-02T00:00:00\",\"2023-05-03T00:00:00\",\"2023-05-04T00:00:00\",\"2023-05-05T00:00:00\",\"2023-05-06T00:00:00\",\"2023-05-07T00:00:00\",\"2023-05-08T00:00:00\",\"2023-05-09T00:00:00\",\"2023-05-10T00:00:00\",\"2023-05-11T00:00:00\",\"2023-05-12T00:00:00\",\"2023-05-13T00:00:00\",\"2023-05-14T00:00:00\",\"2023-05-15T00:00:00\",\"2023-05-16T00:00:00\",\"2023-05-17T00:00:00\",\"2023-05-18T00:00:00\",\"2023-05-19T00:00:00\",\"2023-05-20T00:00:00\",\"2023-05-21T00:00:00\",\"2023-05-22T00:00:00\",\"2023-05-23T00:00:00\",\"2023-05-24T00:00:00\",\"2023-05-25T00:00:00\",\"2023-05-26T00:00:00\",\"2023-05-27T00:00:00\",\"2023-05-28T00:00:00\",\"2023-05-29T00:00:00\",\"2023-05-30T00:00:00\",\"2023-05-31T00:00:00\",\"2023-06-01T00:00:00\",\"2023-06-02T00:00:00\",\"2023-06-03T00:00:00\",\"2023-06-04T00:00:00\",\"2023-06-05T00:00:00\",\"2023-06-06T00:00:00\",\"2023-06-07T00:00:00\",\"2023-06-08T00:00:00\",\"2023-06-09T00:00:00\",\"2023-06-10T00:00:00\",\"2023-06-11T00:00:00\",\"2023-06-12T00:00:00\",\"2023-06-13T00:00:00\",\"2023-06-14T00:00:00\",\"2023-06-15T00:00:00\",\"2023-06-16T00:00:00\",\"2023-06-17T00:00:00\",\"2023-06-18T00:00:00\",\"2023-06-19T00:00:00\",\"2023-06-20T00:00:00\",\"2023-06-21T00:00:00\",\"2023-06-22T00:00:00\",\"2023-06-23T00:00:00\",\"2023-06-24T00:00:00\",\"2023-06-25T00:00:00\",\"2023-06-26T00:00:00\",\"2023-06-27T00:00:00\",\"2023-06-28T00:00:00\",\"2023-06-29T00:00:00\",\"2023-06-30T00:00:00\",\"2023-07-01T00:00:00\",\"2023-07-02T00:00:00\",\"2023-07-03T00:00:00\",\"2023-07-04T00:00:00\",\"2023-07-05T00:00:00\",\"2023-07-06T00:00:00\",\"2023-07-07T00:00:00\",\"2023-07-08T00:00:00\",\"2023-07-09T00:00:00\",\"2023-07-10T00:00:00\",\"2023-07-11T00:00:00\",\"2023-07-12T00:00:00\",\"2023-07-13T00:00:00\",\"2023-07-14T00:00:00\",\"2023-07-15T00:00:00\",\"2023-07-16T00:00:00\",\"2023-07-17T00:00:00\",\"2023-07-18T00:00:00\",\"2023-07-19T00:00:00\",\"2023-07-20T00:00:00\",\"2023-07-21T00:00:00\",\"2023-07-22T00:00:00\",\"2023-07-23T00:00:00\",\"2023-07-24T00:00:00\",\"2023-07-25T00:00:00\",\"2023-07-26T00:00:00\",\"2023-07-27T00:00:00\",\"2023-07-28T00:00:00\",\"2023-07-29T00:00:00\",\"2023-07-30T00:00:00\",\"2023-07-31T00:00:00\",\"2023-08-01T00:00:00\",\"2023-08-02T00:00:00\",\"2023-08-03T00:00:00\",\"2023-08-04T00:00:00\",\"2023-08-05T00:00:00\",\"2023-08-06T00:00:00\",\"2023-08-07T00:00:00\",\"2023-08-08T00:00:00\",\"2023-08-09T00:00:00\",\"2023-08-10T00:00:00\",\"2023-08-11T00:00:00\",\"2023-08-12T00:00:00\",\"2023-08-13T00:00:00\",\"2023-08-14T00:00:00\",\"2023-08-15T00:00:00\",\"2023-08-16T00:00:00\",\"2023-08-17T00:00:00\",\"2023-08-18T00:00:00\",\"2023-08-19T00:00:00\",\"2023-08-20T00:00:00\",\"2023-08-21T00:00:00\",\"2023-08-22T00:00:00\",\"2023-08-23T00:00:00\",\"2023-08-24T00:00:00\",\"2023-08-25T00:00:00\",\"2023-08-26T00:00:00\",\"2023-08-27T00:00:00\",\"2023-08-28T00:00:00\",\"2023-08-29T00:00:00\",\"2023-08-30T00:00:00\",\"2023-08-31T00:00:00\",\"2023-09-01T00:00:00\",\"2023-09-02T00:00:00\",\"2023-09-03T00:00:00\",\"2023-09-04T00:00:00\",\"2023-09-05T00:00:00\",\"2023-09-06T00:00:00\",\"2023-09-07T00:00:00\",\"2023-09-08T00:00:00\",\"2023-09-09T00:00:00\",\"2023-09-10T00:00:00\",\"2023-09-11T00:00:00\",\"2023-09-12T00:00:00\",\"2023-09-13T00:00:00\",\"2023-09-14T00:00:00\",\"2023-09-15T00:00:00\",\"2023-09-16T00:00:00\",\"2023-09-17T00:00:00\",\"2023-09-18T00:00:00\",\"2023-09-19T00:00:00\",\"2023-09-20T00:00:00\",\"2023-09-21T00:00:00\",\"2023-09-22T00:00:00\",\"2023-09-23T00:00:00\",\"2023-09-24T00:00:00\",\"2023-09-25T00:00:00\",\"2023-09-26T00:00:00\",\"2023-09-27T00:00:00\",\"2023-09-28T00:00:00\",\"2023-09-29T00:00:00\",\"2023-09-30T00:00:00\",\"2023-10-01T00:00:00\",\"2023-10-02T00:00:00\",\"2023-10-03T00:00:00\",\"2023-10-04T00:00:00\",\"2023-10-05T00:00:00\",\"2023-10-06T00:00:00\",\"2023-10-07T00:00:00\",\"2023-10-08T00:00:00\",\"2023-10-09T00:00:00\",\"2023-10-10T00:00:00\",\"2023-10-11T00:00:00\",\"2023-10-12T00:00:00\",\"2023-10-13T00:00:00\",\"2023-10-14T00:00:00\",\"2023-10-15T00:00:00\",\"2023-10-16T00:00:00\",\"2023-10-17T00:00:00\",\"2023-10-18T00:00:00\",\"2023-10-19T00:00:00\",\"2023-10-20T00:00:00\",\"2023-10-21T00:00:00\",\"2023-10-22T00:00:00\",\"2023-10-23T00:00:00\",\"2023-10-24T00:00:00\",\"2023-10-25T00:00:00\",\"2023-10-26T00:00:00\",\"2023-10-27T00:00:00\",\"2023-10-28T00:00:00\",\"2023-10-29T00:00:00\",\"2023-10-30T00:00:00\",\"2023-10-31T00:00:00\",\"2023-11-01T00:00:00\",\"2023-11-02T00:00:00\",\"2023-11-03T00:00:00\",\"2023-11-04T00:00:00\",\"2023-11-05T00:00:00\",\"2023-11-06T00:00:00\",\"2023-11-07T00:00:00\",\"2023-11-08T00:00:00\",\"2023-11-09T00:00:00\",\"2023-11-10T00:00:00\",\"2023-11-11T00:00:00\",\"2023-11-12T00:00:00\",\"2023-11-13T00:00:00\",\"2023-11-14T00:00:00\",\"2023-11-15T00:00:00\",\"2023-11-16T00:00:00\",\"2023-11-17T00:00:00\",\"2023-11-18T00:00:00\",\"2023-11-19T00:00:00\",\"2023-11-20T00:00:00\",\"2023-11-21T00:00:00\",\"2023-11-22T00:00:00\",\"2023-11-23T00:00:00\",\"2023-11-24T00:00:00\",\"2023-11-25T00:00:00\",\"2023-11-26T00:00:00\",\"2023-11-27T00:00:00\",\"2023-11-28T00:00:00\",\"2023-11-29T00:00:00\",\"2023-11-30T00:00:00\",\"2023-12-01T00:00:00\",\"2023-12-02T00:00:00\",\"2023-12-03T00:00:00\",\"2023-12-04T00:00:00\",\"2023-12-05T00:00:00\",\"2023-12-06T00:00:00\",\"2023-12-07T00:00:00\",\"2023-12-08T00:00:00\",\"2023-12-09T00:00:00\",\"2023-12-10T00:00:00\",\"2023-12-11T00:00:00\",\"2023-12-12T00:00:00\",\"2023-12-13T00:00:00\",\"2023-12-14T00:00:00\",\"2023-12-15T00:00:00\",\"2023-12-16T00:00:00\",\"2023-12-17T00:00:00\",\"2023-12-18T00:00:00\",\"2023-12-19T00:00:00\",\"2023-12-20T00:00:00\",\"2023-12-21T00:00:00\",\"2023-12-22T00:00:00\",\"2023-12-23T00:00:00\",\"2023-12-24T00:00:00\",\"2023-12-25T00:00:00\",\"2023-12-26T00:00:00\",\"2023-12-27T00:00:00\",\"2023-12-28T00:00:00\",\"2023-12-29T00:00:00\",\"2023-12-30T00:00:00\",\"2023-12-31T00:00:00\"],\"xaxis\":\"x\",\"y\":[3.9696859576317003,3.2407834795048758,2.1872286582405267,2.6966204572255523,2.249869636384398,3.59921104219271,4.254899731644659,1.6741976300368213,3.2904908083671978,4.058897797547566,1.7978342780374594,2.559279931999686,3.0223444332573544,3.1140959524829372,1.4023381742271377,2.0959770186479894,1.0176172019829128,1.2113357787386536,2.2012518865103794,1.8966683883346647,1.7310806074182485,1.7888456734991625,1.230351017399391,2.735050193992419,2.8100668154400172,1.7661457198745067,1.822598405926462,2.2267587800724096,3.121053509433141,3.260835772595376,4.968672803408917,4.526744401513695,3.711432289471918,6.048789778214034,2.8952629015348927,3.5499918417328455,3.547252533604678,6.185976702271431,4.5035325458729645,6.384631109773302,7.573002090751678,7.18571900102372,8.339274237785585,8.371850919071367,8.575351651688452,9.08504520119103,9.128590181684647,0.19574030672008155,0.2047650915693678,0.19263854715291326,0.2086281855451747,0.2595284880709659,0.11362014848003106,0.0492344994091262,0.043133272804612224,0.11733633597835967,0.00791999922930018,0.014582288212004075,0.026800353542708915,6.1685335404064165,9.979989495037245,8.649396653847369,9.926669449958444,10.376856272643964,9.399501930310405,9.505952776672862,5.276577769406851,11.194154934971785,5.084348608810395,3.0538430921065025,7.8579536213130385,12.253487507898084,5.807260230513258,12.77791660059825,13.090689995766636,13.578669182481974,13.917337441031187,7.786989306549951,10.30080098854031,12.53178671733763,14.964032464991833,10.167512201017628,6.082424229587071,8.842944381801379,8.790039490206166,9.341462290361193,13.673256019632346,10.313577411619475,8.295945108719977,9.401064566289314,10.227390689991655,10.944361634905194,11.753566862149825,17.647182931104272,16.390942193252297,13.915897304320957,7.036629004910759,12.526928326094628,16.978511749532114,15.622634836587567,7.237833514276455,8.97100052888086,10.884303658109639,14.084306319385552,6.517196659973868,6.740245331424473,13.478031120018402,14.131470621119464,13.996648693687575,7.491118917458619,13.978834903211094,12.551139719936089,13.282690062754929,14.425930467300512,11.842217658418038,16.717827610543136,16.486996502584816,9.260695260007036,14.394370270334614,9.53798937319788,8.031022735441862,15.336361129591195,21.21038803096592,21.27397781783069,16.433237645867695,17.220395554852505,11.979517410568011,13.237852718228027,11.900133655191347,10.960487394486359,11.124787793086076,14.30898427739767,12.615028799768325,13.428928507023079,15.70646984247526,8.470765785839385,11.8898203200839,11.131622982633045,10.727763280204424,13.475535953990265,18.36843952641626,19.185341680369763,16.209344116358903,9.258784031453628,16.690420609000807,19.729282546952984,22.12711840168925,21.866989268898266,22.369419523269038,21.930230664138946,20.425904310652175,20.756607433490093,20.57388378255091,18.645618702660272,17.032900151126114,21.437982645945677,21.940228867372337,22.426723283248183,20.910621133077665,20.233605911995408,18.29110743514078,20.533388695939987,22.63248434007378,20.550817637914253,23.99488360308264,21.376948545812464,21.428834503007966,23.390121319326084,19.80494440670424,18.631910195302815,19.280922113598532,18.434830560240037,16.47763614892062,19.58545409029469,23.59663307942023,23.23094925937014,20.86574220613477,20.395761831209285,21.464731436780415,17.92895238729448,8.162648070466572,14.127490645080767,13.864082621689413,15.359724597264623,18.777602097497482,16.107808117913947,19.311721307823884,22.27134409324071,18.202191231764083,21.235052970996595,19.63260012562574,20.343202338351265,12.36332004429786,15.659224156199144,20.59596672275073,20.247374289260943,15.214449524441738,18.235135648517083,18.51673479967634,19.124723165817496,19.26466310021952,14.90924800996844,19.45368962312319,19.93892344920534,11.327063050543778,14.650294810347104,15.966696414243314,17.504170076054724,15.526194491493788,13.202864864602192,17.014022872418607,20.13592649090946,10.549444656091488,16.615878585650186,16.708966390800775,10.738036911706935,13.05810443324429,11.05799096110872,15.831784172266907,18.778223149735016,13.049475767375643,20.318250661302205,19.996737775121307,15.800154976257028,16.784519898931244,16.209872015961786,16.27632846377211,18.0556688643272,15.366169091902528,18.564983095747852,18.084857491308544,17.843115353831518,18.07670992813686,17.778916560374725,17.992016170667664,17.166611702473666,14.241595201369119,6.565260284758046,4.209627851978601,3.325054565341924,7.6778572043398166,12.420648301286418,10.824091595035421,15.297652349419579,15.443882357020238,16.161991311818227,16.667060173158955,16.81808876181497,16.554526252432943,16.387809537548456,15.36377734180536,14.712845599450963,15.327109201433618,15.376859289433028,13.33348669853581,5.7468041896442354,10.761463856597622,11.137783651764659,11.505970076935515,13.533589589554548,5.982267702658757,11.574621174290513,13.138443266163637,9.959983999080329,7.758790019970414,8.675829642497868,13.517890630915526,14.083917390638259,13.753570094854906,13.403164643914343,13.456372863020153,13.049494802656021,10.224656991951427,12.971847933694356,13.182526192140532,11.930811277572001,10.452362504307022,11.293760380372337,11.956269520072397,12.072224843800182,12.357911830792464,12.27209205568554,11.76985852185186,12.074615821223828,11.531084215700862,11.28468001939578,5.952501203573725,7.099655974566131,8.999320507785594,9.016208798877177,6.300407555633632,5.569818637474798,3.133155548178812,4.971632174184608,7.249783403663049,5.618471033751127,2.389785276541657,5.578512588617611,4.09438025520682,6.876730131520034,6.129158683589052,5.631679815993842,3.7515273575867196,3.888060434239062,4.848635528095121,1.201428154491958,3.6936019811496763,2.6236978060468625,3.8853423092650585,5.504278853852134,4.843073759798795,6.758066651701929,1.9980410845847139,3.447214668461709,3.898866452932346,1.0302357085018112,3.3469189194646844,1.4173045345291608,4.4817892693643255,2.3434338226288007,2.9665311893070387,2.258402199373324,2.1306222412671474,4.759456348824353,2.7072222575507268,2.3784327796224107,4.374009211262695,2.4365984443121125,2.208344424455592,2.6762434343335713,1.8311741728295305,1.2179344276806991,3.6602912172777153,0.3813295076245771,0.5786503604432615,0.4454693853709938,1.603235434302847,0.9264121378179783,2.37224911789833,1.860134194702588,2.341412811685288,0.7063169778966201,1.3283903776336294,2.829361173705255,0.9313552822418636,1.600875177070688,2.0712425104891063,1.6356271264619617,2.5650295112712347,2.4632589741465716,2.699169585422775,3.332948101483607,3.4136690457226697,1.7197442000049452,1.174414376202438,1.037885287090923,2.6049602920120662,2.6573234648393123,4.177152834187916,3.158982449826951,3.4457132986754746,1.972209213884963,2.3051112707488706,3.7944854365038108,1.6975165127816982],\"yaxis\":\"y\",\"type\":\"scatter\"}],                        {\"template\":{\"data\":{\"histogram2dcontour\":[{\"type\":\"histogram2dcontour\",\"colorbar\":{\"outlinewidth\":0,\"ticks\":\"\"},\"colorscale\":[[0.0,\"#0d0887\"],[0.1111111111111111,\"#46039f\"],[0.2222222222222222,\"#7201a8\"],[0.3333333333333333,\"#9c179e\"],[0.4444444444444444,\"#bd3786\"],[0.5555555555555556,\"#d8576b\"],[0.6666666666666666,\"#ed7953\"],[0.7777777777777778,\"#fb9f3a\"],[0.8888888888888888,\"#fdca26\"],[1.0,\"#f0f921\"]]}],\"choropleth\":[{\"type\":\"choropleth\",\"colorbar\":{\"outlinewidth\":0,\"ticks\":\"\"}}],\"histogram2d\":[{\"type\":\"histogram2d\",\"colorbar\":{\"outlinewidth\":0,\"ticks\":\"\"},\"colorscale\":[[0.0,\"#0d0887\"],[0.1111111111111111,\"#46039f\"],[0.2222222222222222,\"#7201a8\"],[0.3333333333333333,\"#9c179e\"],[0.4444444444444444,\"#bd3786\"],[0.5555555555555556,\"#d8576b\"],[0.6666666666666666,\"#ed7953\"],[0.7777777777777778,\"#fb9f3a\"],[0.8888888888888888,\"#fdca26\"],[1.0,\"#f0f921\"]]}],\"heatmap\":[{\"type\":\"heatmap\",\"colorbar\":{\"outlinewidth\":0,\"ticks\":\"\"},\"colorscale\":[[0.0,\"#0d0887\"],[0.1111111111111111,\"#46039f\"],[0.2222222222222222,\"#7201a8\"],[0.3333333333333333,\"#9c179e\"],[0.4444444444444444,\"#bd3786\"],[0.5555555555555556,\"#d8576b\"],[0.6666666666666666,\"#ed7953\"],[0.7777777777777778,\"#fb9f3a\"],[0.8888888888888888,\"#fdca26\"],[1.0,\"#f0f921\"]]}],\"heatmapgl\":[{\"type\":\"heatmapgl\",\"colorbar\":{\"outlinewidth\":0,\"ticks\":\"\"},\"colorscale\":[[0.0,\"#0d0887\"],[0.1111111111111111,\"#46039f\"],[0.2222222222222222,\"#7201a8\"],[0.3333333333333333,\"#9c179e\"],[0.4444444444444444,\"#bd3786\"],[0.5555555555555556,\"#d8576b\"],[0.6666666666666666,\"#ed7953\"],[0.7777777777777778,\"#fb9f3a\"],[0.8888888888888888,\"#fdca26\"],[1.0,\"#f0f921\"]]}],\"contourcarpet\":[{\"type\":\"contourcarpet\",\"colorbar\":{\"outlinewidth\":0,\"ticks\":\"\"}}],\"contour\":[{\"type\":\"contour\",\"colorbar\":{\"outlinewidth\":0,\"ticks\":\"\"},\"colorscale\":[[0.0,\"#0d0887\"],[0.1111111111111111,\"#46039f\"],[0.2222222222222222,\"#7201a8\"],[0.3333333333333333,\"#9c179e\"],[0.4444444444444444,\"#bd3786\"],[0.5555555555555556,\"#d8576b\"],[0.6666666666666666,\"#ed7953\"],[0.7777777777777778,\"#fb9f3a\"],[0.8888888888888888,\"#fdca26\"],[1.0,\"#f0f921\"]]}],\"surface\":[{\"type\":\"surface\",\"colorbar\":{\"outlinewidth\":0,\"ticks\":\"\"},\"colorscale\":[[0.0,\"#0d0887\"],[0.1111111111111111,\"#46039f\"],[0.2222222222222222,\"#7201a8\"],[0.3333333333333333,\"#9c179e\"],[0.4444444444444444,\"#bd3786\"],[0.5555555555555556,\"#d8576b\"],[0.6666666666666666,\"#ed7953\"],[0.7777777777777778,\"#fb9f3a\"],[0.8888888888888888,\"#fdca26\"],[1.0,\"#f0f921\"]]}],\"mesh3d\":[{\"type\":\"mesh3d\",\"colorbar\":{\"outlinewidth\":0,\"ticks\":\"\"}}],\"scatter\":[{\"fillpattern\":{\"fillmode\":\"overlay\",\"size\":10,\"solidity\":0.2},\"type\":\"scatter\"}],\"parcoords\":[{\"type\":\"parcoords\",\"line\":{\"colorbar\":{\"outlinewidth\":0,\"ticks\":\"\"}}}],\"scatterpolargl\":[{\"type\":\"scatterpolargl\",\"marker\":{\"colorbar\":{\"outlinewidth\":0,\"ticks\":\"\"}}}],\"bar\":[{\"error_x\":{\"color\":\"#2a3f5f\"},\"error_y\":{\"color\":\"#2a3f5f\"},\"marker\":{\"line\":{\"color\":\"#E5ECF6\",\"width\":0.5},\"pattern\":{\"fillmode\":\"overlay\",\"size\":10,\"solidity\":0.2}},\"type\":\"bar\"}],\"scattergeo\":[{\"type\":\"scattergeo\",\"marker\":{\"colorbar\":{\"outlinewidth\":0,\"ticks\":\"\"}}}],\"scatterpolar\":[{\"type\":\"scatterpolar\",\"marker\":{\"colorbar\":{\"outlinewidth\":0,\"ticks\":\"\"}}}],\"histogram\":[{\"marker\":{\"pattern\":{\"fillmode\":\"overlay\",\"size\":10,\"solidity\":0.2}},\"type\":\"histogram\"}],\"scattergl\":[{\"type\":\"scattergl\",\"marker\":{\"colorbar\":{\"outlinewidth\":0,\"ticks\":\"\"}}}],\"scatter3d\":[{\"type\":\"scatter3d\",\"line\":{\"colorbar\":{\"outlinewidth\":0,\"ticks\":\"\"}},\"marker\":{\"colorbar\":{\"outlinewidth\":0,\"ticks\":\"\"}}}],\"scattermapbox\":[{\"type\":\"scattermapbox\",\"marker\":{\"colorbar\":{\"outlinewidth\":0,\"ticks\":\"\"}}}],\"scatterternary\":[{\"type\":\"scatterternary\",\"marker\":{\"colorbar\":{\"outlinewidth\":0,\"ticks\":\"\"}}}],\"scattercarpet\":[{\"type\":\"scattercarpet\",\"marker\":{\"colorbar\":{\"outlinewidth\":0,\"ticks\":\"\"}}}],\"carpet\":[{\"aaxis\":{\"endlinecolor\":\"#2a3f5f\",\"gridcolor\":\"white\",\"linecolor\":\"white\",\"minorgridcolor\":\"white\",\"startlinecolor\":\"#2a3f5f\"},\"baxis\":{\"endlinecolor\":\"#2a3f5f\",\"gridcolor\":\"white\",\"linecolor\":\"white\",\"minorgridcolor\":\"white\",\"startlinecolor\":\"#2a3f5f\"},\"type\":\"carpet\"}],\"table\":[{\"cells\":{\"fill\":{\"color\":\"#EBF0F8\"},\"line\":{\"color\":\"white\"}},\"header\":{\"fill\":{\"color\":\"#C8D4E3\"},\"line\":{\"color\":\"white\"}},\"type\":\"table\"}],\"barpolar\":[{\"marker\":{\"line\":{\"color\":\"#E5ECF6\",\"width\":0.5},\"pattern\":{\"fillmode\":\"overlay\",\"size\":10,\"solidity\":0.2}},\"type\":\"barpolar\"}],\"pie\":[{\"automargin\":true,\"type\":\"pie\"}]},\"layout\":{\"autotypenumbers\":\"strict\",\"colorway\":[\"#636efa\",\"#EF553B\",\"#00cc96\",\"#ab63fa\",\"#FFA15A\",\"#19d3f3\",\"#FF6692\",\"#B6E880\",\"#FF97FF\",\"#FECB52\"],\"font\":{\"color\":\"#2a3f5f\"},\"hovermode\":\"closest\",\"hoverlabel\":{\"align\":\"left\"},\"paper_bgcolor\":\"white\",\"plot_bgcolor\":\"#E5ECF6\",\"polar\":{\"bgcolor\":\"#E5ECF6\",\"angularaxis\":{\"gridcolor\":\"white\",\"linecolor\":\"white\",\"ticks\":\"\"},\"radialaxis\":{\"gridcolor\":\"white\",\"linecolor\":\"white\",\"ticks\":\"\"}},\"ternary\":{\"bgcolor\":\"#E5ECF6\",\"aaxis\":{\"gridcolor\":\"white\",\"linecolor\":\"white\",\"ticks\":\"\"},\"baxis\":{\"gridcolor\":\"white\",\"linecolor\":\"white\",\"ticks\":\"\"},\"caxis\":{\"gridcolor\":\"white\",\"linecolor\":\"white\",\"ticks\":\"\"}},\"coloraxis\":{\"colorbar\":{\"outlinewidth\":0,\"ticks\":\"\"}},\"colorscale\":{\"sequential\":[[0.0,\"#0d0887\"],[0.1111111111111111,\"#46039f\"],[0.2222222222222222,\"#7201a8\"],[0.3333333333333333,\"#9c179e\"],[0.4444444444444444,\"#bd3786\"],[0.5555555555555556,\"#d8576b\"],[0.6666666666666666,\"#ed7953\"],[0.7777777777777778,\"#fb9f3a\"],[0.8888888888888888,\"#fdca26\"],[1.0,\"#f0f921\"]],\"sequentialminus\":[[0.0,\"#0d0887\"],[0.1111111111111111,\"#46039f\"],[0.2222222222222222,\"#7201a8\"],[0.3333333333333333,\"#9c179e\"],[0.4444444444444444,\"#bd3786\"],[0.5555555555555556,\"#d8576b\"],[0.6666666666666666,\"#ed7953\"],[0.7777777777777778,\"#fb9f3a\"],[0.8888888888888888,\"#fdca26\"],[1.0,\"#f0f921\"]],\"diverging\":[[0,\"#8e0152\"],[0.1,\"#c51b7d\"],[0.2,\"#de77ae\"],[0.3,\"#f1b6da\"],[0.4,\"#fde0ef\"],[0.5,\"#f7f7f7\"],[0.6,\"#e6f5d0\"],[0.7,\"#b8e186\"],[0.8,\"#7fbc41\"],[0.9,\"#4d9221\"],[1,\"#276419\"]]},\"xaxis\":{\"gridcolor\":\"white\",\"linecolor\":\"white\",\"ticks\":\"\",\"title\":{\"standoff\":15},\"zerolinecolor\":\"white\",\"automargin\":true,\"zerolinewidth\":2},\"yaxis\":{\"gridcolor\":\"white\",\"linecolor\":\"white\",\"ticks\":\"\",\"title\":{\"standoff\":15},\"zerolinecolor\":\"white\",\"automargin\":true,\"zerolinewidth\":2},\"scene\":{\"xaxis\":{\"backgroundcolor\":\"#E5ECF6\",\"gridcolor\":\"white\",\"linecolor\":\"white\",\"showbackground\":true,\"ticks\":\"\",\"zerolinecolor\":\"white\",\"gridwidth\":2},\"yaxis\":{\"backgroundcolor\":\"#E5ECF6\",\"gridcolor\":\"white\",\"linecolor\":\"white\",\"showbackground\":true,\"ticks\":\"\",\"zerolinecolor\":\"white\",\"gridwidth\":2},\"zaxis\":{\"backgroundcolor\":\"#E5ECF6\",\"gridcolor\":\"white\",\"linecolor\":\"white\",\"showbackground\":true,\"ticks\":\"\",\"zerolinecolor\":\"white\",\"gridwidth\":2}},\"shapedefaults\":{\"line\":{\"color\":\"#2a3f5f\"}},\"annotationdefaults\":{\"arrowcolor\":\"#2a3f5f\",\"arrowhead\":0,\"arrowwidth\":1},\"geo\":{\"bgcolor\":\"white\",\"landcolor\":\"#E5ECF6\",\"subunitcolor\":\"white\",\"showland\":true,\"showlakes\":true,\"lakecolor\":\"white\"},\"title\":{\"x\":0.05},\"mapbox\":{\"style\":\"light\"}}},\"xaxis\":{\"anchor\":\"y\",\"domain\":[0.0,1.0],\"title\":{\"text\":\"time\"}},\"yaxis\":{\"anchor\":\"x\",\"domain\":[0.0,1.0],\"title\":{\"text\":\"value\"}},\"legend\":{\"title\":{\"text\":\"variable\"},\"tracegroupgap\":0},\"title\":{\"text\":\"Production Photovolta\\u00efque Quotidienne en 2023\"}},                        {\"responsive\": true}                    ).then(function(){\n",
       "                            \n",
       "var gd = document.getElementById('8740bbe3-0df7-402b-a660-81728e2d8d6a');\n",
       "var x = new MutationObserver(function (mutations, observer) {{\n",
       "        var display = window.getComputedStyle(gd).display;\n",
       "        if (!display || display === 'none') {{\n",
       "            console.log([gd, 'removed!']);\n",
       "            Plotly.purge(gd);\n",
       "            observer.disconnect();\n",
       "        }}\n",
       "}});\n",
       "\n",
       "// Listen for the removal of the full notebook cells\n",
       "var notebookContainer = gd.closest('#notebook-container');\n",
       "if (notebookContainer) {{\n",
       "    x.observe(notebookContainer, {childList: true});\n",
       "}}\n",
       "\n",
       "// Listen for the clearing of the current output cell\n",
       "var outputEl = gd.closest('.output');\n",
       "if (outputEl) {{\n",
       "    x.observe(outputEl, {childList: true});\n",
       "}}\n",
       "\n",
       "                        })                };                });            </script>        </div>"
      ]
     },
     "metadata": {},
     "output_type": "display_data"
    }
   ],
   "execution_count": 28
  },
  {
   "metadata": {
    "ExecuteTime": {
     "end_time": "2024-05-28T13:15:54.671301Z",
     "start_time": "2024-05-28T13:15:54.562593Z"
    }
   },
   "cell_type": "code",
   "source": [
    "pred.rename(columns={0: 'Prediction'}, inplace=True)\n",
    "pred.index = pd.to_datetime(pred.index, dayfirst=True)\n",
    "pred"
   ],
   "outputs": [
    {
     "data": {
      "text/plain": [
       "            Prediction\n",
       "time                  \n",
       "2023-01-01    3.969686\n",
       "2023-01-02    3.240783\n",
       "2023-01-03    2.187229\n",
       "2023-01-04    2.696620\n",
       "2023-01-05    2.249870\n",
       "...                ...\n",
       "2023-12-27    3.445713\n",
       "2023-12-28    1.972209\n",
       "2023-12-29    2.305111\n",
       "2023-12-30    3.794485\n",
       "2023-12-31    1.697517\n",
       "\n",
       "[365 rows x 1 columns]"
      ],
      "text/html": [
       "<div>\n",
       "<style scoped>\n",
       "    .dataframe tbody tr th:only-of-type {\n",
       "        vertical-align: middle;\n",
       "    }\n",
       "\n",
       "    .dataframe tbody tr th {\n",
       "        vertical-align: top;\n",
       "    }\n",
       "\n",
       "    .dataframe thead th {\n",
       "        text-align: right;\n",
       "    }\n",
       "</style>\n",
       "<table border=\"1\" class=\"dataframe\">\n",
       "  <thead>\n",
       "    <tr style=\"text-align: right;\">\n",
       "      <th></th>\n",
       "      <th>Prediction</th>\n",
       "    </tr>\n",
       "    <tr>\n",
       "      <th>time</th>\n",
       "      <th></th>\n",
       "    </tr>\n",
       "  </thead>\n",
       "  <tbody>\n",
       "    <tr>\n",
       "      <th>2023-01-01</th>\n",
       "      <td>3.969686</td>\n",
       "    </tr>\n",
       "    <tr>\n",
       "      <th>2023-01-02</th>\n",
       "      <td>3.240783</td>\n",
       "    </tr>\n",
       "    <tr>\n",
       "      <th>2023-01-03</th>\n",
       "      <td>2.187229</td>\n",
       "    </tr>\n",
       "    <tr>\n",
       "      <th>2023-01-04</th>\n",
       "      <td>2.696620</td>\n",
       "    </tr>\n",
       "    <tr>\n",
       "      <th>2023-01-05</th>\n",
       "      <td>2.249870</td>\n",
       "    </tr>\n",
       "    <tr>\n",
       "      <th>...</th>\n",
       "      <td>...</td>\n",
       "    </tr>\n",
       "    <tr>\n",
       "      <th>2023-12-27</th>\n",
       "      <td>3.445713</td>\n",
       "    </tr>\n",
       "    <tr>\n",
       "      <th>2023-12-28</th>\n",
       "      <td>1.972209</td>\n",
       "    </tr>\n",
       "    <tr>\n",
       "      <th>2023-12-29</th>\n",
       "      <td>2.305111</td>\n",
       "    </tr>\n",
       "    <tr>\n",
       "      <th>2023-12-30</th>\n",
       "      <td>3.794485</td>\n",
       "    </tr>\n",
       "    <tr>\n",
       "      <th>2023-12-31</th>\n",
       "      <td>1.697517</td>\n",
       "    </tr>\n",
       "  </tbody>\n",
       "</table>\n",
       "<p>365 rows × 1 columns</p>\n",
       "</div>"
      ]
     },
     "execution_count": 29,
     "metadata": {},
     "output_type": "execute_result"
    }
   ],
   "execution_count": 29
  },
  {
   "metadata": {
    "ExecuteTime": {
     "end_time": "2024-05-28T13:15:55.898655Z",
     "start_time": "2024-05-28T13:15:55.786712Z"
    }
   },
   "cell_type": "code",
   "source": [
    "import plotly.graph_objects as go\n",
    "\n",
    "# Création d'une figure vide\n",
    "fig = go.Figure()\n",
    "\n",
    "# Ajout de la ligne pour new_df\n",
    "fig.add_trace(go.Scatter(x=new_df.index, y=new_df['Photovoltaïque'], mode='lines', name='Données Réelles'))\n",
    "\n",
    "# Ajout de la ligne pour pred, en supposant que pred a une colonne qui s'appelle par exemple 'Prediction'\n",
    "fig.add_trace(go.Scatter(x=pred.index, y=pred['Prediction'], mode='lines', name='Prédictions'))\n",
    "\n",
    "# Mise à jour des titres et des axes\n",
    "fig.update_layout(title='Production Photovoltaïque Quotidienne en 2023',\n",
    "                  xaxis_title='Date',\n",
    "                  yaxis_title='Production Photovoltaïque (kW)')\n",
    "\n",
    "# Affichage de la figure\n",
    "fig.show()\n"
   ],
   "outputs": [
    {
     "data": {
      "application/vnd.plotly.v1+json": {
       "data": [
        {
         "mode": "lines",
         "name": "Données Réelles",
         "x": [
          "2023-01-01T00:00:00",
          "2023-01-02T00:00:00",
          "2023-01-03T00:00:00",
          "2023-01-04T00:00:00",
          "2023-01-05T00:00:00",
          "2023-01-06T00:00:00",
          "2023-01-07T00:00:00",
          "2023-01-08T00:00:00",
          "2023-01-09T00:00:00",
          "2023-01-10T00:00:00",
          "2023-01-11T00:00:00",
          "2023-01-12T00:00:00",
          "2023-01-13T00:00:00",
          "2023-01-14T00:00:00",
          "2023-01-15T00:00:00",
          "2023-01-16T00:00:00",
          "2023-01-17T00:00:00",
          "2023-01-18T00:00:00",
          "2023-01-19T00:00:00",
          "2023-01-20T00:00:00",
          "2023-01-21T00:00:00",
          "2023-01-22T00:00:00",
          "2023-01-23T00:00:00",
          "2023-01-24T00:00:00",
          "2023-01-25T00:00:00",
          "2023-01-26T00:00:00",
          "2023-01-27T00:00:00",
          "2023-01-28T00:00:00",
          "2023-01-29T00:00:00",
          "2023-01-30T00:00:00",
          "2023-01-31T00:00:00",
          "2023-02-01T00:00:00",
          "2023-02-02T00:00:00",
          "2023-02-03T00:00:00",
          "2023-02-04T00:00:00",
          "2023-02-05T00:00:00",
          "2023-02-06T00:00:00",
          "2023-02-07T00:00:00",
          "2023-02-08T00:00:00",
          "2023-02-09T00:00:00",
          "2023-02-10T00:00:00",
          "2023-02-11T00:00:00",
          "2023-02-12T00:00:00",
          "2023-02-13T00:00:00",
          "2023-02-14T00:00:00",
          "2023-02-15T00:00:00",
          "2023-02-16T00:00:00",
          "2023-02-17T00:00:00",
          "2023-02-18T00:00:00",
          "2023-02-19T00:00:00",
          "2023-02-20T00:00:00",
          "2023-02-21T00:00:00",
          "2023-02-22T00:00:00",
          "2023-02-23T00:00:00",
          "2023-02-24T00:00:00",
          "2023-02-25T00:00:00",
          "2023-02-26T00:00:00",
          "2023-02-27T00:00:00",
          "2023-02-28T00:00:00",
          "2023-03-01T00:00:00",
          "2023-03-02T00:00:00",
          "2023-03-03T00:00:00",
          "2023-03-04T00:00:00",
          "2023-03-05T00:00:00",
          "2023-03-06T00:00:00",
          "2023-03-07T00:00:00",
          "2023-03-08T00:00:00",
          "2023-03-09T00:00:00",
          "2023-03-10T00:00:00",
          "2023-03-11T00:00:00",
          "2023-03-12T00:00:00",
          "2023-03-13T00:00:00",
          "2023-03-14T00:00:00",
          "2023-03-15T00:00:00",
          "2023-03-16T00:00:00",
          "2023-03-17T00:00:00",
          "2023-03-18T00:00:00",
          "2023-03-19T00:00:00",
          "2023-03-20T00:00:00",
          "2023-03-21T00:00:00",
          "2023-03-22T00:00:00",
          "2023-03-23T00:00:00",
          "2023-03-24T00:00:00",
          "2023-03-25T00:00:00",
          "2023-03-26T00:00:00",
          "2023-03-27T00:00:00",
          "2023-03-28T00:00:00",
          "2023-03-29T00:00:00",
          "2023-03-30T00:00:00",
          "2023-03-31T00:00:00",
          "2023-04-01T00:00:00",
          "2023-04-02T00:00:00",
          "2023-04-03T00:00:00",
          "2023-04-04T00:00:00",
          "2023-04-05T00:00:00",
          "2023-04-06T00:00:00",
          "2023-04-07T00:00:00",
          "2023-04-08T00:00:00",
          "2023-04-09T00:00:00",
          "2023-04-10T00:00:00",
          "2023-04-11T00:00:00",
          "2023-04-12T00:00:00",
          "2023-04-13T00:00:00",
          "2023-04-14T00:00:00",
          "2023-04-15T00:00:00",
          "2023-04-16T00:00:00",
          "2023-04-17T00:00:00",
          "2023-04-18T00:00:00",
          "2023-04-19T00:00:00",
          "2023-04-20T00:00:00",
          "2023-04-21T00:00:00",
          "2023-04-22T00:00:00",
          "2023-04-23T00:00:00",
          "2023-04-24T00:00:00",
          "2023-04-25T00:00:00",
          "2023-04-26T00:00:00",
          "2023-04-27T00:00:00",
          "2023-04-28T00:00:00",
          "2023-04-29T00:00:00",
          "2023-04-30T00:00:00",
          "2023-05-01T00:00:00",
          "2023-05-02T00:00:00",
          "2023-05-03T00:00:00",
          "2023-05-04T00:00:00",
          "2023-05-05T00:00:00",
          "2023-05-06T00:00:00",
          "2023-05-07T00:00:00",
          "2023-05-08T00:00:00",
          "2023-05-09T00:00:00",
          "2023-05-10T00:00:00",
          "2023-05-11T00:00:00",
          "2023-05-12T00:00:00",
          "2023-05-13T00:00:00",
          "2023-05-14T00:00:00",
          "2023-05-15T00:00:00",
          "2023-05-16T00:00:00",
          "2023-05-17T00:00:00",
          "2023-05-18T00:00:00",
          "2023-05-19T00:00:00",
          "2023-05-20T00:00:00",
          "2023-05-21T00:00:00",
          "2023-05-22T00:00:00",
          "2023-05-23T00:00:00",
          "2023-05-24T00:00:00",
          "2023-05-25T00:00:00",
          "2023-05-26T00:00:00",
          "2023-05-27T00:00:00",
          "2023-05-28T00:00:00",
          "2023-05-29T00:00:00",
          "2023-05-30T00:00:00",
          "2023-05-31T00:00:00",
          "2023-06-01T00:00:00",
          "2023-06-02T00:00:00",
          "2023-06-03T00:00:00",
          "2023-06-04T00:00:00",
          "2023-06-05T00:00:00",
          "2023-06-06T00:00:00",
          "2023-06-07T00:00:00",
          "2023-06-08T00:00:00",
          "2023-06-09T00:00:00",
          "2023-06-10T00:00:00",
          "2023-06-11T00:00:00",
          "2023-06-12T00:00:00",
          "2023-06-13T00:00:00",
          "2023-06-14T00:00:00",
          "2023-06-15T00:00:00",
          "2023-06-16T00:00:00",
          "2023-06-17T00:00:00",
          "2023-06-18T00:00:00",
          "2023-06-19T00:00:00",
          "2023-06-20T00:00:00",
          "2023-06-21T00:00:00",
          "2023-06-22T00:00:00",
          "2023-06-23T00:00:00",
          "2023-06-24T00:00:00",
          "2023-06-25T00:00:00",
          "2023-06-26T00:00:00",
          "2023-06-27T00:00:00",
          "2023-06-28T00:00:00",
          "2023-06-29T00:00:00",
          "2023-06-30T00:00:00",
          "2023-07-01T00:00:00",
          "2023-07-02T00:00:00",
          "2023-07-03T00:00:00",
          "2023-07-04T00:00:00",
          "2023-07-05T00:00:00",
          "2023-07-06T00:00:00",
          "2023-07-07T00:00:00",
          "2023-07-08T00:00:00",
          "2023-07-09T00:00:00",
          "2023-07-10T00:00:00",
          "2023-07-11T00:00:00",
          "2023-07-12T00:00:00",
          "2023-07-13T00:00:00",
          "2023-07-14T00:00:00",
          "2023-07-15T00:00:00",
          "2023-07-16T00:00:00",
          "2023-07-17T00:00:00",
          "2023-07-18T00:00:00",
          "2023-07-19T00:00:00",
          "2023-07-20T00:00:00",
          "2023-07-21T00:00:00",
          "2023-07-22T00:00:00",
          "2023-07-23T00:00:00",
          "2023-07-24T00:00:00",
          "2023-07-25T00:00:00",
          "2023-07-26T00:00:00",
          "2023-07-27T00:00:00",
          "2023-07-28T00:00:00",
          "2023-07-29T00:00:00",
          "2023-07-30T00:00:00",
          "2023-07-31T00:00:00",
          "2023-08-01T00:00:00",
          "2023-08-02T00:00:00",
          "2023-08-03T00:00:00",
          "2023-08-04T00:00:00",
          "2023-08-05T00:00:00",
          "2023-08-06T00:00:00",
          "2023-08-07T00:00:00",
          "2023-08-08T00:00:00",
          "2023-08-09T00:00:00",
          "2023-08-10T00:00:00",
          "2023-08-11T00:00:00",
          "2023-08-12T00:00:00",
          "2023-08-13T00:00:00",
          "2023-08-14T00:00:00",
          "2023-08-15T00:00:00",
          "2023-08-16T00:00:00",
          "2023-08-17T00:00:00",
          "2023-08-18T00:00:00",
          "2023-08-19T00:00:00",
          "2023-08-20T00:00:00",
          "2023-08-21T00:00:00",
          "2023-08-22T00:00:00",
          "2023-08-23T00:00:00",
          "2023-08-24T00:00:00",
          "2023-08-25T00:00:00",
          "2023-08-26T00:00:00",
          "2023-08-27T00:00:00",
          "2023-08-28T00:00:00",
          "2023-08-29T00:00:00",
          "2023-08-30T00:00:00",
          "2023-08-31T00:00:00",
          "2023-09-01T00:00:00",
          "2023-09-02T00:00:00",
          "2023-09-03T00:00:00",
          "2023-09-04T00:00:00",
          "2023-09-05T00:00:00",
          "2023-09-06T00:00:00",
          "2023-09-07T00:00:00",
          "2023-09-08T00:00:00",
          "2023-09-09T00:00:00",
          "2023-09-10T00:00:00",
          "2023-09-11T00:00:00",
          "2023-09-12T00:00:00",
          "2023-09-13T00:00:00",
          "2023-09-14T00:00:00",
          "2023-09-15T00:00:00",
          "2023-09-16T00:00:00",
          "2023-09-17T00:00:00",
          "2023-09-18T00:00:00",
          "2023-09-19T00:00:00",
          "2023-09-20T00:00:00",
          "2023-09-21T00:00:00",
          "2023-09-22T00:00:00",
          "2023-09-23T00:00:00",
          "2023-09-24T00:00:00",
          "2023-09-25T00:00:00",
          "2023-09-26T00:00:00",
          "2023-09-27T00:00:00",
          "2023-09-28T00:00:00",
          "2023-09-29T00:00:00",
          "2023-09-30T00:00:00",
          "2023-10-01T00:00:00",
          "2023-10-02T00:00:00",
          "2023-10-03T00:00:00",
          "2023-10-04T00:00:00",
          "2023-10-05T00:00:00",
          "2023-10-06T00:00:00",
          "2023-10-07T00:00:00",
          "2023-10-08T00:00:00",
          "2023-10-09T00:00:00",
          "2023-10-10T00:00:00",
          "2023-10-11T00:00:00",
          "2023-10-12T00:00:00",
          "2023-10-13T00:00:00",
          "2023-10-14T00:00:00",
          "2023-10-15T00:00:00",
          "2023-10-16T00:00:00",
          "2023-10-17T00:00:00",
          "2023-10-18T00:00:00",
          "2023-10-19T00:00:00",
          "2023-10-20T00:00:00",
          "2023-10-21T00:00:00",
          "2023-10-22T00:00:00",
          "2023-10-23T00:00:00",
          "2023-10-24T00:00:00",
          "2023-10-25T00:00:00",
          "2023-10-26T00:00:00",
          "2023-10-27T00:00:00",
          "2023-10-28T00:00:00",
          "2023-10-29T00:00:00",
          "2023-10-30T00:00:00",
          "2023-10-31T00:00:00",
          "2023-11-01T00:00:00",
          "2023-11-02T00:00:00",
          "2023-11-03T00:00:00",
          "2023-11-04T00:00:00",
          "2023-11-05T00:00:00",
          "2023-11-06T00:00:00",
          "2023-11-07T00:00:00",
          "2023-11-08T00:00:00",
          "2023-11-09T00:00:00",
          "2023-11-10T00:00:00",
          "2023-11-11T00:00:00",
          "2023-11-12T00:00:00",
          "2023-11-13T00:00:00",
          "2023-11-14T00:00:00",
          "2023-11-15T00:00:00",
          "2023-11-16T00:00:00",
          "2023-11-17T00:00:00",
          "2023-11-18T00:00:00",
          "2023-11-19T00:00:00",
          "2023-11-20T00:00:00",
          "2023-11-21T00:00:00",
          "2023-11-22T00:00:00",
          "2023-11-23T00:00:00",
          "2023-11-24T00:00:00",
          "2023-11-25T00:00:00",
          "2023-11-26T00:00:00",
          "2023-11-27T00:00:00",
          "2023-11-28T00:00:00",
          "2023-11-29T00:00:00",
          "2023-11-30T00:00:00",
          "2023-12-01T00:00:00",
          "2023-12-02T00:00:00",
          "2023-12-03T00:00:00",
          "2023-12-04T00:00:00",
          "2023-12-05T00:00:00",
          "2023-12-06T00:00:00",
          "2023-12-07T00:00:00",
          "2023-12-08T00:00:00",
          "2023-12-09T00:00:00",
          "2023-12-10T00:00:00",
          "2023-12-11T00:00:00",
          "2023-12-12T00:00:00",
          "2023-12-13T00:00:00",
          "2023-12-14T00:00:00",
          "2023-12-15T00:00:00",
          "2023-12-16T00:00:00",
          "2023-12-17T00:00:00",
          "2023-12-18T00:00:00",
          "2023-12-19T00:00:00",
          "2023-12-20T00:00:00",
          "2023-12-21T00:00:00",
          "2023-12-22T00:00:00",
          "2023-12-23T00:00:00",
          "2023-12-24T00:00:00",
          "2023-12-25T00:00:00",
          "2023-12-26T00:00:00",
          "2023-12-27T00:00:00",
          "2023-12-28T00:00:00",
          "2023-12-29T00:00:00",
          "2023-12-30T00:00:00",
          "2023-12-31T00:00:00"
         ],
         "y": [
          4.7,
          3.3,
          1.3,
          2.4,
          2.6,
          2.4,
          4.7,
          1.1,
          2.8,
          4.5,
          1.1,
          2.4,
          2.8,
          3.4,
          0.9,
          2.1,
          1.0,
          0.9,
          1.5,
          1.7,
          1.5,
          0.9,
          0.6,
          1.1,
          1.0,
          0.8,
          0.8,
          1.2,
          2.2,
          4.2,
          5.0,
          4.2,
          3.5,
          6.5,
          3.0,
          3.4,
          3.6,
          8.7,
          6.1,
          9.0,
          9.5,
          8.8,
          9.8,
          7.8,
          8.3,
          9.6,
          10.4,
          5.8,
          9.6,
          7.1,
          11.2,
          11.4,
          8.4,
          8.7,
          10.1,
          4.8,
          6.7,
          5.2,
          6.1,
          3.4,
          7.3,
          7.6,
          11.8,
          10.4,
          8.3,
          10.8,
          4.3,
          11.8,
          5.1,
          3.2,
          7.8,
          12.8,
          5.5,
          15.1,
          15.7,
          13.2,
          14.8,
          7.4,
          12.2,
          13.3,
          17.0,
          7.6,
          3.2,
          9.5,
          6.2,
          7.9,
          16.4,
          9.0,
          6.3,
          8.1,
          10.0,
          13.1,
          10.5,
          22.3,
          22.4,
          19.2,
          9.4,
          13.2,
          21.3,
          19.0,
          8.0,
          9.0,
          12.7,
          20.0,
          8.6,
          5.3,
          15.5,
          18.8,
          12.7,
          4.7,
          12.7,
          14.4,
          15.3,
          15.7,
          13.3,
          20.5,
          21.4,
          8.4,
          17.7,
          11.6,
          8.8,
          17.9,
          24.9,
          25.2,
          19.6,
          20.8,
          13.7,
          12.6,
          14.4,
          13.1,
          13.2,
          16.8,
          11.8,
          12.6,
          15.1,
          6.4,
          15.3,
          14.5,
          13.5,
          11.8,
          21.4,
          24.6,
          17.6,
          8.1,
          19.1,
          25.6,
          26.2,
          25.8,
          26.9,
          25.9,
          24.8,
          23.0,
          24.2,
          22.7,
          19.9,
          23.3,
          23.8,
          23.5,
          21.0,
          22.5,
          20.6,
          22.7,
          24.6,
          23.5,
          25.4,
          22.8,
          21.7,
          23.4,
          20.2,
          19.1,
          20.1,
          16.5,
          11.6,
          20.6,
          25.3,
          24.8,
          22.2,
          20.2,
          20.1,
          18.8,
          7.6,
          19.0,
          17.8,
          22.7,
          23.8,
          16.6,
          25.5,
          27.7,
          21.0,
          26.2,
          23.1,
          25.6,
          12.0,
          20.0,
          27.0,
          24.1,
          20.9,
          22.7,
          19.3,
          22.4,
          25.2,
          15.9,
          25.0,
          23.9,
          12.0,
          16.3,
          16.2,
          21.1,
          18.1,
          12.4,
          22.4,
          23.6,
          10.0,
          20.2,
          22.7,
          14.8,
          17.3,
          13.6,
          17.3,
          21.7,
          15.2,
          24.3,
          25.0,
          16.7,
          20.4,
          20.5,
          20.7,
          23.4,
          15.7,
          23.3,
          21.7,
          22.2,
          22.3,
          21.9,
          21.7,
          19.7,
          12.3,
          6.6,
          5.5,
          4.6,
          8.3,
          16.1,
          12.4,
          21.3,
          21.6,
          19.4,
          21.4,
          21.1,
          21.1,
          20.4,
          19.7,
          19.5,
          19.6,
          19.4,
          15.8,
          6.3,
          12.5,
          14.4,
          14.2,
          16.2,
          4.4,
          14.9,
          17.5,
          11.8,
          10.6,
          11.6,
          18.1,
          18.5,
          17.7,
          17.1,
          16.0,
          15.4,
          13.5,
          16.0,
          16.3,
          13.0,
          14.6,
          14.1,
          14.9,
          14.8,
          14.5,
          13.0,
          13.0,
          14.6,
          12.9,
          14.0,
          6.5,
          8.0,
          13.0,
          10.6,
          5.3,
          6.3,
          2.6,
          6.0,
          11.2,
          6.1,
          1.9,
          5.9,
          4.3,
          8.3,
          10.1,
          6.8,
          3.3,
          4.1,
          6.2,
          1.1,
          5.7,
          3.4,
          4.6,
          7.4,
          6.1,
          10.1,
          3.0,
          5.2,
          4.8,
          1.5,
          2.2,
          1.2,
          5.6,
          3.5,
          2.8,
          3.3,
          2.5,
          4.6,
          3.4,
          3.2,
          6.6,
          4.0,
          2.9,
          4.4,
          2.8,
          1.7,
          6.1,
          0.2,
          0.4,
          0.4,
          1.1,
          0.3,
          1.2,
          1.6,
          2.2,
          0.6,
          1.4,
          3.0,
          1.1,
          1.4,
          1.9,
          1.8,
          4.7,
          3.9,
          2.8,
          3.7,
          4.8,
          2.8,
          1.1,
          1.3,
          3.9,
          3.6,
          6.2,
          4.9,
          6.0,
          2.7,
          3.2,
          5.8,
          2.1
         ],
         "type": "scatter"
        },
        {
         "mode": "lines",
         "name": "Prédictions",
         "x": [
          "2023-01-01T00:00:00",
          "2023-01-02T00:00:00",
          "2023-01-03T00:00:00",
          "2023-01-04T00:00:00",
          "2023-01-05T00:00:00",
          "2023-01-06T00:00:00",
          "2023-01-07T00:00:00",
          "2023-01-08T00:00:00",
          "2023-01-09T00:00:00",
          "2023-01-10T00:00:00",
          "2023-01-11T00:00:00",
          "2023-01-12T00:00:00",
          "2023-01-13T00:00:00",
          "2023-01-14T00:00:00",
          "2023-01-15T00:00:00",
          "2023-01-16T00:00:00",
          "2023-01-17T00:00:00",
          "2023-01-18T00:00:00",
          "2023-01-19T00:00:00",
          "2023-01-20T00:00:00",
          "2023-01-21T00:00:00",
          "2023-01-22T00:00:00",
          "2023-01-23T00:00:00",
          "2023-01-24T00:00:00",
          "2023-01-25T00:00:00",
          "2023-01-26T00:00:00",
          "2023-01-27T00:00:00",
          "2023-01-28T00:00:00",
          "2023-01-29T00:00:00",
          "2023-01-30T00:00:00",
          "2023-01-31T00:00:00",
          "2023-02-01T00:00:00",
          "2023-02-02T00:00:00",
          "2023-02-03T00:00:00",
          "2023-02-04T00:00:00",
          "2023-02-05T00:00:00",
          "2023-02-06T00:00:00",
          "2023-02-07T00:00:00",
          "2023-02-08T00:00:00",
          "2023-02-09T00:00:00",
          "2023-02-10T00:00:00",
          "2023-02-11T00:00:00",
          "2023-02-12T00:00:00",
          "2023-02-13T00:00:00",
          "2023-02-14T00:00:00",
          "2023-02-15T00:00:00",
          "2023-02-16T00:00:00",
          "2023-02-17T00:00:00",
          "2023-02-18T00:00:00",
          "2023-02-19T00:00:00",
          "2023-02-20T00:00:00",
          "2023-02-21T00:00:00",
          "2023-02-22T00:00:00",
          "2023-02-23T00:00:00",
          "2023-02-24T00:00:00",
          "2023-02-25T00:00:00",
          "2023-02-26T00:00:00",
          "2023-02-27T00:00:00",
          "2023-02-28T00:00:00",
          "2023-03-01T00:00:00",
          "2023-03-02T00:00:00",
          "2023-03-03T00:00:00",
          "2023-03-04T00:00:00",
          "2023-03-05T00:00:00",
          "2023-03-06T00:00:00",
          "2023-03-07T00:00:00",
          "2023-03-08T00:00:00",
          "2023-03-09T00:00:00",
          "2023-03-10T00:00:00",
          "2023-03-11T00:00:00",
          "2023-03-12T00:00:00",
          "2023-03-13T00:00:00",
          "2023-03-14T00:00:00",
          "2023-03-15T00:00:00",
          "2023-03-16T00:00:00",
          "2023-03-17T00:00:00",
          "2023-03-18T00:00:00",
          "2023-03-19T00:00:00",
          "2023-03-20T00:00:00",
          "2023-03-21T00:00:00",
          "2023-03-22T00:00:00",
          "2023-03-23T00:00:00",
          "2023-03-24T00:00:00",
          "2023-03-25T00:00:00",
          "2023-03-26T00:00:00",
          "2023-03-27T00:00:00",
          "2023-03-28T00:00:00",
          "2023-03-29T00:00:00",
          "2023-03-30T00:00:00",
          "2023-03-31T00:00:00",
          "2023-04-01T00:00:00",
          "2023-04-02T00:00:00",
          "2023-04-03T00:00:00",
          "2023-04-04T00:00:00",
          "2023-04-05T00:00:00",
          "2023-04-06T00:00:00",
          "2023-04-07T00:00:00",
          "2023-04-08T00:00:00",
          "2023-04-09T00:00:00",
          "2023-04-10T00:00:00",
          "2023-04-11T00:00:00",
          "2023-04-12T00:00:00",
          "2023-04-13T00:00:00",
          "2023-04-14T00:00:00",
          "2023-04-15T00:00:00",
          "2023-04-16T00:00:00",
          "2023-04-17T00:00:00",
          "2023-04-18T00:00:00",
          "2023-04-19T00:00:00",
          "2023-04-20T00:00:00",
          "2023-04-21T00:00:00",
          "2023-04-22T00:00:00",
          "2023-04-23T00:00:00",
          "2023-04-24T00:00:00",
          "2023-04-25T00:00:00",
          "2023-04-26T00:00:00",
          "2023-04-27T00:00:00",
          "2023-04-28T00:00:00",
          "2023-04-29T00:00:00",
          "2023-04-30T00:00:00",
          "2023-05-01T00:00:00",
          "2023-05-02T00:00:00",
          "2023-05-03T00:00:00",
          "2023-05-04T00:00:00",
          "2023-05-05T00:00:00",
          "2023-05-06T00:00:00",
          "2023-05-07T00:00:00",
          "2023-05-08T00:00:00",
          "2023-05-09T00:00:00",
          "2023-05-10T00:00:00",
          "2023-05-11T00:00:00",
          "2023-05-12T00:00:00",
          "2023-05-13T00:00:00",
          "2023-05-14T00:00:00",
          "2023-05-15T00:00:00",
          "2023-05-16T00:00:00",
          "2023-05-17T00:00:00",
          "2023-05-18T00:00:00",
          "2023-05-19T00:00:00",
          "2023-05-20T00:00:00",
          "2023-05-21T00:00:00",
          "2023-05-22T00:00:00",
          "2023-05-23T00:00:00",
          "2023-05-24T00:00:00",
          "2023-05-25T00:00:00",
          "2023-05-26T00:00:00",
          "2023-05-27T00:00:00",
          "2023-05-28T00:00:00",
          "2023-05-29T00:00:00",
          "2023-05-30T00:00:00",
          "2023-05-31T00:00:00",
          "2023-06-01T00:00:00",
          "2023-06-02T00:00:00",
          "2023-06-03T00:00:00",
          "2023-06-04T00:00:00",
          "2023-06-05T00:00:00",
          "2023-06-06T00:00:00",
          "2023-06-07T00:00:00",
          "2023-06-08T00:00:00",
          "2023-06-09T00:00:00",
          "2023-06-10T00:00:00",
          "2023-06-11T00:00:00",
          "2023-06-12T00:00:00",
          "2023-06-13T00:00:00",
          "2023-06-14T00:00:00",
          "2023-06-15T00:00:00",
          "2023-06-16T00:00:00",
          "2023-06-17T00:00:00",
          "2023-06-18T00:00:00",
          "2023-06-19T00:00:00",
          "2023-06-20T00:00:00",
          "2023-06-21T00:00:00",
          "2023-06-22T00:00:00",
          "2023-06-23T00:00:00",
          "2023-06-24T00:00:00",
          "2023-06-25T00:00:00",
          "2023-06-26T00:00:00",
          "2023-06-27T00:00:00",
          "2023-06-28T00:00:00",
          "2023-06-29T00:00:00",
          "2023-06-30T00:00:00",
          "2023-07-01T00:00:00",
          "2023-07-02T00:00:00",
          "2023-07-03T00:00:00",
          "2023-07-04T00:00:00",
          "2023-07-05T00:00:00",
          "2023-07-06T00:00:00",
          "2023-07-07T00:00:00",
          "2023-07-08T00:00:00",
          "2023-07-09T00:00:00",
          "2023-07-10T00:00:00",
          "2023-07-11T00:00:00",
          "2023-07-12T00:00:00",
          "2023-07-13T00:00:00",
          "2023-07-14T00:00:00",
          "2023-07-15T00:00:00",
          "2023-07-16T00:00:00",
          "2023-07-17T00:00:00",
          "2023-07-18T00:00:00",
          "2023-07-19T00:00:00",
          "2023-07-20T00:00:00",
          "2023-07-21T00:00:00",
          "2023-07-22T00:00:00",
          "2023-07-23T00:00:00",
          "2023-07-24T00:00:00",
          "2023-07-25T00:00:00",
          "2023-07-26T00:00:00",
          "2023-07-27T00:00:00",
          "2023-07-28T00:00:00",
          "2023-07-29T00:00:00",
          "2023-07-30T00:00:00",
          "2023-07-31T00:00:00",
          "2023-08-01T00:00:00",
          "2023-08-02T00:00:00",
          "2023-08-03T00:00:00",
          "2023-08-04T00:00:00",
          "2023-08-05T00:00:00",
          "2023-08-06T00:00:00",
          "2023-08-07T00:00:00",
          "2023-08-08T00:00:00",
          "2023-08-09T00:00:00",
          "2023-08-10T00:00:00",
          "2023-08-11T00:00:00",
          "2023-08-12T00:00:00",
          "2023-08-13T00:00:00",
          "2023-08-14T00:00:00",
          "2023-08-15T00:00:00",
          "2023-08-16T00:00:00",
          "2023-08-17T00:00:00",
          "2023-08-18T00:00:00",
          "2023-08-19T00:00:00",
          "2023-08-20T00:00:00",
          "2023-08-21T00:00:00",
          "2023-08-22T00:00:00",
          "2023-08-23T00:00:00",
          "2023-08-24T00:00:00",
          "2023-08-25T00:00:00",
          "2023-08-26T00:00:00",
          "2023-08-27T00:00:00",
          "2023-08-28T00:00:00",
          "2023-08-29T00:00:00",
          "2023-08-30T00:00:00",
          "2023-08-31T00:00:00",
          "2023-09-01T00:00:00",
          "2023-09-02T00:00:00",
          "2023-09-03T00:00:00",
          "2023-09-04T00:00:00",
          "2023-09-05T00:00:00",
          "2023-09-06T00:00:00",
          "2023-09-07T00:00:00",
          "2023-09-08T00:00:00",
          "2023-09-09T00:00:00",
          "2023-09-10T00:00:00",
          "2023-09-11T00:00:00",
          "2023-09-12T00:00:00",
          "2023-09-13T00:00:00",
          "2023-09-14T00:00:00",
          "2023-09-15T00:00:00",
          "2023-09-16T00:00:00",
          "2023-09-17T00:00:00",
          "2023-09-18T00:00:00",
          "2023-09-19T00:00:00",
          "2023-09-20T00:00:00",
          "2023-09-21T00:00:00",
          "2023-09-22T00:00:00",
          "2023-09-23T00:00:00",
          "2023-09-24T00:00:00",
          "2023-09-25T00:00:00",
          "2023-09-26T00:00:00",
          "2023-09-27T00:00:00",
          "2023-09-28T00:00:00",
          "2023-09-29T00:00:00",
          "2023-09-30T00:00:00",
          "2023-10-01T00:00:00",
          "2023-10-02T00:00:00",
          "2023-10-03T00:00:00",
          "2023-10-04T00:00:00",
          "2023-10-05T00:00:00",
          "2023-10-06T00:00:00",
          "2023-10-07T00:00:00",
          "2023-10-08T00:00:00",
          "2023-10-09T00:00:00",
          "2023-10-10T00:00:00",
          "2023-10-11T00:00:00",
          "2023-10-12T00:00:00",
          "2023-10-13T00:00:00",
          "2023-10-14T00:00:00",
          "2023-10-15T00:00:00",
          "2023-10-16T00:00:00",
          "2023-10-17T00:00:00",
          "2023-10-18T00:00:00",
          "2023-10-19T00:00:00",
          "2023-10-20T00:00:00",
          "2023-10-21T00:00:00",
          "2023-10-22T00:00:00",
          "2023-10-23T00:00:00",
          "2023-10-24T00:00:00",
          "2023-10-25T00:00:00",
          "2023-10-26T00:00:00",
          "2023-10-27T00:00:00",
          "2023-10-28T00:00:00",
          "2023-10-29T00:00:00",
          "2023-10-30T00:00:00",
          "2023-10-31T00:00:00",
          "2023-11-01T00:00:00",
          "2023-11-02T00:00:00",
          "2023-11-03T00:00:00",
          "2023-11-04T00:00:00",
          "2023-11-05T00:00:00",
          "2023-11-06T00:00:00",
          "2023-11-07T00:00:00",
          "2023-11-08T00:00:00",
          "2023-11-09T00:00:00",
          "2023-11-10T00:00:00",
          "2023-11-11T00:00:00",
          "2023-11-12T00:00:00",
          "2023-11-13T00:00:00",
          "2023-11-14T00:00:00",
          "2023-11-15T00:00:00",
          "2023-11-16T00:00:00",
          "2023-11-17T00:00:00",
          "2023-11-18T00:00:00",
          "2023-11-19T00:00:00",
          "2023-11-20T00:00:00",
          "2023-11-21T00:00:00",
          "2023-11-22T00:00:00",
          "2023-11-23T00:00:00",
          "2023-11-24T00:00:00",
          "2023-11-25T00:00:00",
          "2023-11-26T00:00:00",
          "2023-11-27T00:00:00",
          "2023-11-28T00:00:00",
          "2023-11-29T00:00:00",
          "2023-11-30T00:00:00",
          "2023-12-01T00:00:00",
          "2023-12-02T00:00:00",
          "2023-12-03T00:00:00",
          "2023-12-04T00:00:00",
          "2023-12-05T00:00:00",
          "2023-12-06T00:00:00",
          "2023-12-07T00:00:00",
          "2023-12-08T00:00:00",
          "2023-12-09T00:00:00",
          "2023-12-10T00:00:00",
          "2023-12-11T00:00:00",
          "2023-12-12T00:00:00",
          "2023-12-13T00:00:00",
          "2023-12-14T00:00:00",
          "2023-12-15T00:00:00",
          "2023-12-16T00:00:00",
          "2023-12-17T00:00:00",
          "2023-12-18T00:00:00",
          "2023-12-19T00:00:00",
          "2023-12-20T00:00:00",
          "2023-12-21T00:00:00",
          "2023-12-22T00:00:00",
          "2023-12-23T00:00:00",
          "2023-12-24T00:00:00",
          "2023-12-25T00:00:00",
          "2023-12-26T00:00:00",
          "2023-12-27T00:00:00",
          "2023-12-28T00:00:00",
          "2023-12-29T00:00:00",
          "2023-12-30T00:00:00",
          "2023-12-31T00:00:00"
         ],
         "y": [
          3.9696859576317003,
          3.2407834795048758,
          2.1872286582405267,
          2.6966204572255523,
          2.249869636384398,
          3.59921104219271,
          4.254899731644659,
          1.6741976300368213,
          3.2904908083671978,
          4.058897797547566,
          1.7978342780374594,
          2.559279931999686,
          3.0223444332573544,
          3.1140959524829372,
          1.4023381742271377,
          2.0959770186479894,
          1.0176172019829128,
          1.2113357787386536,
          2.2012518865103794,
          1.8966683883346647,
          1.7310806074182485,
          1.7888456734991625,
          1.230351017399391,
          2.735050193992419,
          2.8100668154400172,
          1.7661457198745067,
          1.822598405926462,
          2.2267587800724096,
          3.121053509433141,
          3.260835772595376,
          4.968672803408917,
          4.526744401513695,
          3.711432289471918,
          6.048789778214034,
          2.8952629015348927,
          3.5499918417328455,
          3.547252533604678,
          6.185976702271431,
          4.5035325458729645,
          6.384631109773302,
          7.573002090751678,
          7.18571900102372,
          8.339274237785585,
          8.371850919071367,
          8.575351651688452,
          9.08504520119103,
          9.128590181684647,
          0.19574030672008155,
          0.2047650915693678,
          0.19263854715291326,
          0.2086281855451747,
          0.2595284880709659,
          0.11362014848003106,
          0.0492344994091262,
          0.043133272804612224,
          0.11733633597835967,
          0.00791999922930018,
          0.014582288212004075,
          0.026800353542708915,
          6.1685335404064165,
          9.979989495037245,
          8.649396653847369,
          9.926669449958444,
          10.376856272643964,
          9.399501930310405,
          9.505952776672862,
          5.276577769406851,
          11.194154934971785,
          5.084348608810395,
          3.0538430921065025,
          7.8579536213130385,
          12.253487507898084,
          5.807260230513258,
          12.77791660059825,
          13.090689995766636,
          13.578669182481974,
          13.917337441031187,
          7.786989306549951,
          10.30080098854031,
          12.53178671733763,
          14.964032464991833,
          10.167512201017628,
          6.082424229587071,
          8.842944381801379,
          8.790039490206166,
          9.341462290361193,
          13.673256019632346,
          10.313577411619475,
          8.295945108719977,
          9.401064566289314,
          10.227390689991655,
          10.944361634905194,
          11.753566862149825,
          17.647182931104272,
          16.390942193252297,
          13.915897304320957,
          7.036629004910759,
          12.526928326094628,
          16.978511749532114,
          15.622634836587567,
          7.237833514276455,
          8.97100052888086,
          10.884303658109639,
          14.084306319385552,
          6.517196659973868,
          6.740245331424473,
          13.478031120018402,
          14.131470621119464,
          13.996648693687575,
          7.491118917458619,
          13.978834903211094,
          12.551139719936089,
          13.282690062754929,
          14.425930467300512,
          11.842217658418038,
          16.717827610543136,
          16.486996502584816,
          9.260695260007036,
          14.394370270334614,
          9.53798937319788,
          8.031022735441862,
          15.336361129591195,
          21.21038803096592,
          21.27397781783069,
          16.433237645867695,
          17.220395554852505,
          11.979517410568011,
          13.237852718228027,
          11.900133655191347,
          10.960487394486359,
          11.124787793086076,
          14.30898427739767,
          12.615028799768325,
          13.428928507023079,
          15.70646984247526,
          8.470765785839385,
          11.8898203200839,
          11.131622982633045,
          10.727763280204424,
          13.475535953990265,
          18.36843952641626,
          19.185341680369763,
          16.209344116358903,
          9.258784031453628,
          16.690420609000807,
          19.729282546952984,
          22.12711840168925,
          21.866989268898266,
          22.369419523269038,
          21.930230664138946,
          20.425904310652175,
          20.756607433490093,
          20.57388378255091,
          18.645618702660272,
          17.032900151126114,
          21.437982645945677,
          21.940228867372337,
          22.426723283248183,
          20.910621133077665,
          20.233605911995408,
          18.29110743514078,
          20.533388695939987,
          22.63248434007378,
          20.550817637914253,
          23.99488360308264,
          21.376948545812464,
          21.428834503007966,
          23.390121319326084,
          19.80494440670424,
          18.631910195302815,
          19.280922113598532,
          18.434830560240037,
          16.47763614892062,
          19.58545409029469,
          23.59663307942023,
          23.23094925937014,
          20.86574220613477,
          20.395761831209285,
          21.464731436780415,
          17.92895238729448,
          8.162648070466572,
          14.127490645080767,
          13.864082621689413,
          15.359724597264623,
          18.777602097497482,
          16.107808117913947,
          19.311721307823884,
          22.27134409324071,
          18.202191231764083,
          21.235052970996595,
          19.63260012562574,
          20.343202338351265,
          12.36332004429786,
          15.659224156199144,
          20.59596672275073,
          20.247374289260943,
          15.214449524441738,
          18.235135648517083,
          18.51673479967634,
          19.124723165817496,
          19.26466310021952,
          14.90924800996844,
          19.45368962312319,
          19.93892344920534,
          11.327063050543778,
          14.650294810347104,
          15.966696414243314,
          17.504170076054724,
          15.526194491493788,
          13.202864864602192,
          17.014022872418607,
          20.13592649090946,
          10.549444656091488,
          16.615878585650186,
          16.708966390800775,
          10.738036911706935,
          13.05810443324429,
          11.05799096110872,
          15.831784172266907,
          18.778223149735016,
          13.049475767375643,
          20.318250661302205,
          19.996737775121307,
          15.800154976257028,
          16.784519898931244,
          16.209872015961786,
          16.27632846377211,
          18.0556688643272,
          15.366169091902528,
          18.564983095747852,
          18.084857491308544,
          17.843115353831518,
          18.07670992813686,
          17.778916560374725,
          17.992016170667664,
          17.166611702473666,
          14.241595201369119,
          6.565260284758046,
          4.209627851978601,
          3.325054565341924,
          7.6778572043398166,
          12.420648301286418,
          10.824091595035421,
          15.297652349419579,
          15.443882357020238,
          16.161991311818227,
          16.667060173158955,
          16.81808876181497,
          16.554526252432943,
          16.387809537548456,
          15.36377734180536,
          14.712845599450963,
          15.327109201433618,
          15.376859289433028,
          13.33348669853581,
          5.7468041896442354,
          10.761463856597622,
          11.137783651764659,
          11.505970076935515,
          13.533589589554548,
          5.982267702658757,
          11.574621174290513,
          13.138443266163637,
          9.959983999080329,
          7.758790019970414,
          8.675829642497868,
          13.517890630915526,
          14.083917390638259,
          13.753570094854906,
          13.403164643914343,
          13.456372863020153,
          13.049494802656021,
          10.224656991951427,
          12.971847933694356,
          13.182526192140532,
          11.930811277572001,
          10.452362504307022,
          11.293760380372337,
          11.956269520072397,
          12.072224843800182,
          12.357911830792464,
          12.27209205568554,
          11.76985852185186,
          12.074615821223828,
          11.531084215700862,
          11.28468001939578,
          5.952501203573725,
          7.099655974566131,
          8.999320507785594,
          9.016208798877177,
          6.300407555633632,
          5.569818637474798,
          3.133155548178812,
          4.971632174184608,
          7.249783403663049,
          5.618471033751127,
          2.389785276541657,
          5.578512588617611,
          4.09438025520682,
          6.876730131520034,
          6.129158683589052,
          5.631679815993842,
          3.7515273575867196,
          3.888060434239062,
          4.848635528095121,
          1.201428154491958,
          3.6936019811496763,
          2.6236978060468625,
          3.8853423092650585,
          5.504278853852134,
          4.843073759798795,
          6.758066651701929,
          1.9980410845847139,
          3.447214668461709,
          3.898866452932346,
          1.0302357085018112,
          3.3469189194646844,
          1.4173045345291608,
          4.4817892693643255,
          2.3434338226288007,
          2.9665311893070387,
          2.258402199373324,
          2.1306222412671474,
          4.759456348824353,
          2.7072222575507268,
          2.3784327796224107,
          4.374009211262695,
          2.4365984443121125,
          2.208344424455592,
          2.6762434343335713,
          1.8311741728295305,
          1.2179344276806991,
          3.6602912172777153,
          0.3813295076245771,
          0.5786503604432615,
          0.4454693853709938,
          1.603235434302847,
          0.9264121378179783,
          2.37224911789833,
          1.860134194702588,
          2.341412811685288,
          0.7063169778966201,
          1.3283903776336294,
          2.829361173705255,
          0.9313552822418636,
          1.600875177070688,
          2.0712425104891063,
          1.6356271264619617,
          2.5650295112712347,
          2.4632589741465716,
          2.699169585422775,
          3.332948101483607,
          3.4136690457226697,
          1.7197442000049452,
          1.174414376202438,
          1.037885287090923,
          2.6049602920120662,
          2.6573234648393123,
          4.177152834187916,
          3.158982449826951,
          3.4457132986754746,
          1.972209213884963,
          2.3051112707488706,
          3.7944854365038108,
          1.6975165127816982
         ],
         "type": "scatter"
        }
       ],
       "layout": {
        "template": {
         "data": {
          "histogram2dcontour": [
           {
            "type": "histogram2dcontour",
            "colorbar": {
             "outlinewidth": 0,
             "ticks": ""
            },
            "colorscale": [
             [
              0.0,
              "#0d0887"
             ],
             [
              0.1111111111111111,
              "#46039f"
             ],
             [
              0.2222222222222222,
              "#7201a8"
             ],
             [
              0.3333333333333333,
              "#9c179e"
             ],
             [
              0.4444444444444444,
              "#bd3786"
             ],
             [
              0.5555555555555556,
              "#d8576b"
             ],
             [
              0.6666666666666666,
              "#ed7953"
             ],
             [
              0.7777777777777778,
              "#fb9f3a"
             ],
             [
              0.8888888888888888,
              "#fdca26"
             ],
             [
              1.0,
              "#f0f921"
             ]
            ]
           }
          ],
          "choropleth": [
           {
            "type": "choropleth",
            "colorbar": {
             "outlinewidth": 0,
             "ticks": ""
            }
           }
          ],
          "histogram2d": [
           {
            "type": "histogram2d",
            "colorbar": {
             "outlinewidth": 0,
             "ticks": ""
            },
            "colorscale": [
             [
              0.0,
              "#0d0887"
             ],
             [
              0.1111111111111111,
              "#46039f"
             ],
             [
              0.2222222222222222,
              "#7201a8"
             ],
             [
              0.3333333333333333,
              "#9c179e"
             ],
             [
              0.4444444444444444,
              "#bd3786"
             ],
             [
              0.5555555555555556,
              "#d8576b"
             ],
             [
              0.6666666666666666,
              "#ed7953"
             ],
             [
              0.7777777777777778,
              "#fb9f3a"
             ],
             [
              0.8888888888888888,
              "#fdca26"
             ],
             [
              1.0,
              "#f0f921"
             ]
            ]
           }
          ],
          "heatmap": [
           {
            "type": "heatmap",
            "colorbar": {
             "outlinewidth": 0,
             "ticks": ""
            },
            "colorscale": [
             [
              0.0,
              "#0d0887"
             ],
             [
              0.1111111111111111,
              "#46039f"
             ],
             [
              0.2222222222222222,
              "#7201a8"
             ],
             [
              0.3333333333333333,
              "#9c179e"
             ],
             [
              0.4444444444444444,
              "#bd3786"
             ],
             [
              0.5555555555555556,
              "#d8576b"
             ],
             [
              0.6666666666666666,
              "#ed7953"
             ],
             [
              0.7777777777777778,
              "#fb9f3a"
             ],
             [
              0.8888888888888888,
              "#fdca26"
             ],
             [
              1.0,
              "#f0f921"
             ]
            ]
           }
          ],
          "heatmapgl": [
           {
            "type": "heatmapgl",
            "colorbar": {
             "outlinewidth": 0,
             "ticks": ""
            },
            "colorscale": [
             [
              0.0,
              "#0d0887"
             ],
             [
              0.1111111111111111,
              "#46039f"
             ],
             [
              0.2222222222222222,
              "#7201a8"
             ],
             [
              0.3333333333333333,
              "#9c179e"
             ],
             [
              0.4444444444444444,
              "#bd3786"
             ],
             [
              0.5555555555555556,
              "#d8576b"
             ],
             [
              0.6666666666666666,
              "#ed7953"
             ],
             [
              0.7777777777777778,
              "#fb9f3a"
             ],
             [
              0.8888888888888888,
              "#fdca26"
             ],
             [
              1.0,
              "#f0f921"
             ]
            ]
           }
          ],
          "contourcarpet": [
           {
            "type": "contourcarpet",
            "colorbar": {
             "outlinewidth": 0,
             "ticks": ""
            }
           }
          ],
          "contour": [
           {
            "type": "contour",
            "colorbar": {
             "outlinewidth": 0,
             "ticks": ""
            },
            "colorscale": [
             [
              0.0,
              "#0d0887"
             ],
             [
              0.1111111111111111,
              "#46039f"
             ],
             [
              0.2222222222222222,
              "#7201a8"
             ],
             [
              0.3333333333333333,
              "#9c179e"
             ],
             [
              0.4444444444444444,
              "#bd3786"
             ],
             [
              0.5555555555555556,
              "#d8576b"
             ],
             [
              0.6666666666666666,
              "#ed7953"
             ],
             [
              0.7777777777777778,
              "#fb9f3a"
             ],
             [
              0.8888888888888888,
              "#fdca26"
             ],
             [
              1.0,
              "#f0f921"
             ]
            ]
           }
          ],
          "surface": [
           {
            "type": "surface",
            "colorbar": {
             "outlinewidth": 0,
             "ticks": ""
            },
            "colorscale": [
             [
              0.0,
              "#0d0887"
             ],
             [
              0.1111111111111111,
              "#46039f"
             ],
             [
              0.2222222222222222,
              "#7201a8"
             ],
             [
              0.3333333333333333,
              "#9c179e"
             ],
             [
              0.4444444444444444,
              "#bd3786"
             ],
             [
              0.5555555555555556,
              "#d8576b"
             ],
             [
              0.6666666666666666,
              "#ed7953"
             ],
             [
              0.7777777777777778,
              "#fb9f3a"
             ],
             [
              0.8888888888888888,
              "#fdca26"
             ],
             [
              1.0,
              "#f0f921"
             ]
            ]
           }
          ],
          "mesh3d": [
           {
            "type": "mesh3d",
            "colorbar": {
             "outlinewidth": 0,
             "ticks": ""
            }
           }
          ],
          "scatter": [
           {
            "fillpattern": {
             "fillmode": "overlay",
             "size": 10,
             "solidity": 0.2
            },
            "type": "scatter"
           }
          ],
          "parcoords": [
           {
            "type": "parcoords",
            "line": {
             "colorbar": {
              "outlinewidth": 0,
              "ticks": ""
             }
            }
           }
          ],
          "scatterpolargl": [
           {
            "type": "scatterpolargl",
            "marker": {
             "colorbar": {
              "outlinewidth": 0,
              "ticks": ""
             }
            }
           }
          ],
          "bar": [
           {
            "error_x": {
             "color": "#2a3f5f"
            },
            "error_y": {
             "color": "#2a3f5f"
            },
            "marker": {
             "line": {
              "color": "#E5ECF6",
              "width": 0.5
             },
             "pattern": {
              "fillmode": "overlay",
              "size": 10,
              "solidity": 0.2
             }
            },
            "type": "bar"
           }
          ],
          "scattergeo": [
           {
            "type": "scattergeo",
            "marker": {
             "colorbar": {
              "outlinewidth": 0,
              "ticks": ""
             }
            }
           }
          ],
          "scatterpolar": [
           {
            "type": "scatterpolar",
            "marker": {
             "colorbar": {
              "outlinewidth": 0,
              "ticks": ""
             }
            }
           }
          ],
          "histogram": [
           {
            "marker": {
             "pattern": {
              "fillmode": "overlay",
              "size": 10,
              "solidity": 0.2
             }
            },
            "type": "histogram"
           }
          ],
          "scattergl": [
           {
            "type": "scattergl",
            "marker": {
             "colorbar": {
              "outlinewidth": 0,
              "ticks": ""
             }
            }
           }
          ],
          "scatter3d": [
           {
            "type": "scatter3d",
            "line": {
             "colorbar": {
              "outlinewidth": 0,
              "ticks": ""
             }
            },
            "marker": {
             "colorbar": {
              "outlinewidth": 0,
              "ticks": ""
             }
            }
           }
          ],
          "scattermapbox": [
           {
            "type": "scattermapbox",
            "marker": {
             "colorbar": {
              "outlinewidth": 0,
              "ticks": ""
             }
            }
           }
          ],
          "scatterternary": [
           {
            "type": "scatterternary",
            "marker": {
             "colorbar": {
              "outlinewidth": 0,
              "ticks": ""
             }
            }
           }
          ],
          "scattercarpet": [
           {
            "type": "scattercarpet",
            "marker": {
             "colorbar": {
              "outlinewidth": 0,
              "ticks": ""
             }
            }
           }
          ],
          "carpet": [
           {
            "aaxis": {
             "endlinecolor": "#2a3f5f",
             "gridcolor": "white",
             "linecolor": "white",
             "minorgridcolor": "white",
             "startlinecolor": "#2a3f5f"
            },
            "baxis": {
             "endlinecolor": "#2a3f5f",
             "gridcolor": "white",
             "linecolor": "white",
             "minorgridcolor": "white",
             "startlinecolor": "#2a3f5f"
            },
            "type": "carpet"
           }
          ],
          "table": [
           {
            "cells": {
             "fill": {
              "color": "#EBF0F8"
             },
             "line": {
              "color": "white"
             }
            },
            "header": {
             "fill": {
              "color": "#C8D4E3"
             },
             "line": {
              "color": "white"
             }
            },
            "type": "table"
           }
          ],
          "barpolar": [
           {
            "marker": {
             "line": {
              "color": "#E5ECF6",
              "width": 0.5
             },
             "pattern": {
              "fillmode": "overlay",
              "size": 10,
              "solidity": 0.2
             }
            },
            "type": "barpolar"
           }
          ],
          "pie": [
           {
            "automargin": true,
            "type": "pie"
           }
          ]
         },
         "layout": {
          "autotypenumbers": "strict",
          "colorway": [
           "#636efa",
           "#EF553B",
           "#00cc96",
           "#ab63fa",
           "#FFA15A",
           "#19d3f3",
           "#FF6692",
           "#B6E880",
           "#FF97FF",
           "#FECB52"
          ],
          "font": {
           "color": "#2a3f5f"
          },
          "hovermode": "closest",
          "hoverlabel": {
           "align": "left"
          },
          "paper_bgcolor": "white",
          "plot_bgcolor": "#E5ECF6",
          "polar": {
           "bgcolor": "#E5ECF6",
           "angularaxis": {
            "gridcolor": "white",
            "linecolor": "white",
            "ticks": ""
           },
           "radialaxis": {
            "gridcolor": "white",
            "linecolor": "white",
            "ticks": ""
           }
          },
          "ternary": {
           "bgcolor": "#E5ECF6",
           "aaxis": {
            "gridcolor": "white",
            "linecolor": "white",
            "ticks": ""
           },
           "baxis": {
            "gridcolor": "white",
            "linecolor": "white",
            "ticks": ""
           },
           "caxis": {
            "gridcolor": "white",
            "linecolor": "white",
            "ticks": ""
           }
          },
          "coloraxis": {
           "colorbar": {
            "outlinewidth": 0,
            "ticks": ""
           }
          },
          "colorscale": {
           "sequential": [
            [
             0.0,
             "#0d0887"
            ],
            [
             0.1111111111111111,
             "#46039f"
            ],
            [
             0.2222222222222222,
             "#7201a8"
            ],
            [
             0.3333333333333333,
             "#9c179e"
            ],
            [
             0.4444444444444444,
             "#bd3786"
            ],
            [
             0.5555555555555556,
             "#d8576b"
            ],
            [
             0.6666666666666666,
             "#ed7953"
            ],
            [
             0.7777777777777778,
             "#fb9f3a"
            ],
            [
             0.8888888888888888,
             "#fdca26"
            ],
            [
             1.0,
             "#f0f921"
            ]
           ],
           "sequentialminus": [
            [
             0.0,
             "#0d0887"
            ],
            [
             0.1111111111111111,
             "#46039f"
            ],
            [
             0.2222222222222222,
             "#7201a8"
            ],
            [
             0.3333333333333333,
             "#9c179e"
            ],
            [
             0.4444444444444444,
             "#bd3786"
            ],
            [
             0.5555555555555556,
             "#d8576b"
            ],
            [
             0.6666666666666666,
             "#ed7953"
            ],
            [
             0.7777777777777778,
             "#fb9f3a"
            ],
            [
             0.8888888888888888,
             "#fdca26"
            ],
            [
             1.0,
             "#f0f921"
            ]
           ],
           "diverging": [
            [
             0,
             "#8e0152"
            ],
            [
             0.1,
             "#c51b7d"
            ],
            [
             0.2,
             "#de77ae"
            ],
            [
             0.3,
             "#f1b6da"
            ],
            [
             0.4,
             "#fde0ef"
            ],
            [
             0.5,
             "#f7f7f7"
            ],
            [
             0.6,
             "#e6f5d0"
            ],
            [
             0.7,
             "#b8e186"
            ],
            [
             0.8,
             "#7fbc41"
            ],
            [
             0.9,
             "#4d9221"
            ],
            [
             1,
             "#276419"
            ]
           ]
          },
          "xaxis": {
           "gridcolor": "white",
           "linecolor": "white",
           "ticks": "",
           "title": {
            "standoff": 15
           },
           "zerolinecolor": "white",
           "automargin": true,
           "zerolinewidth": 2
          },
          "yaxis": {
           "gridcolor": "white",
           "linecolor": "white",
           "ticks": "",
           "title": {
            "standoff": 15
           },
           "zerolinecolor": "white",
           "automargin": true,
           "zerolinewidth": 2
          },
          "scene": {
           "xaxis": {
            "backgroundcolor": "#E5ECF6",
            "gridcolor": "white",
            "linecolor": "white",
            "showbackground": true,
            "ticks": "",
            "zerolinecolor": "white",
            "gridwidth": 2
           },
           "yaxis": {
            "backgroundcolor": "#E5ECF6",
            "gridcolor": "white",
            "linecolor": "white",
            "showbackground": true,
            "ticks": "",
            "zerolinecolor": "white",
            "gridwidth": 2
           },
           "zaxis": {
            "backgroundcolor": "#E5ECF6",
            "gridcolor": "white",
            "linecolor": "white",
            "showbackground": true,
            "ticks": "",
            "zerolinecolor": "white",
            "gridwidth": 2
           }
          },
          "shapedefaults": {
           "line": {
            "color": "#2a3f5f"
           }
          },
          "annotationdefaults": {
           "arrowcolor": "#2a3f5f",
           "arrowhead": 0,
           "arrowwidth": 1
          },
          "geo": {
           "bgcolor": "white",
           "landcolor": "#E5ECF6",
           "subunitcolor": "white",
           "showland": true,
           "showlakes": true,
           "lakecolor": "white"
          },
          "title": {
           "x": 0.05
          },
          "mapbox": {
           "style": "light"
          }
         }
        },
        "title": {
         "text": "Production Photovoltaïque Quotidienne en 2023"
        },
        "xaxis": {
         "title": {
          "text": "Date"
         }
        },
        "yaxis": {
         "title": {
          "text": "Production Photovoltaïque (kW)"
         }
        }
       },
       "config": {
        "plotlyServerURL": "https://plot.ly"
       }
      },
      "text/html": [
       "<div>                            <div id=\"0793a06e-ab23-47ca-82ba-d287f18936cd\" class=\"plotly-graph-div\" style=\"height:525px; width:100%;\"></div>            <script type=\"text/javascript\">                require([\"plotly\"], function(Plotly) {                    window.PLOTLYENV=window.PLOTLYENV || {};                                    if (document.getElementById(\"0793a06e-ab23-47ca-82ba-d287f18936cd\")) {                    Plotly.newPlot(                        \"0793a06e-ab23-47ca-82ba-d287f18936cd\",                        [{\"mode\":\"lines\",\"name\":\"Donn\\u00e9es R\\u00e9elles\",\"x\":[\"2023-01-01T00:00:00\",\"2023-01-02T00:00:00\",\"2023-01-03T00:00:00\",\"2023-01-04T00:00:00\",\"2023-01-05T00:00:00\",\"2023-01-06T00:00:00\",\"2023-01-07T00:00:00\",\"2023-01-08T00:00:00\",\"2023-01-09T00:00:00\",\"2023-01-10T00:00:00\",\"2023-01-11T00:00:00\",\"2023-01-12T00:00:00\",\"2023-01-13T00:00:00\",\"2023-01-14T00:00:00\",\"2023-01-15T00:00:00\",\"2023-01-16T00:00:00\",\"2023-01-17T00:00:00\",\"2023-01-18T00:00:00\",\"2023-01-19T00:00:00\",\"2023-01-20T00:00:00\",\"2023-01-21T00:00:00\",\"2023-01-22T00:00:00\",\"2023-01-23T00:00:00\",\"2023-01-24T00:00:00\",\"2023-01-25T00:00:00\",\"2023-01-26T00:00:00\",\"2023-01-27T00:00:00\",\"2023-01-28T00:00:00\",\"2023-01-29T00:00:00\",\"2023-01-30T00:00:00\",\"2023-01-31T00:00:00\",\"2023-02-01T00:00:00\",\"2023-02-02T00:00:00\",\"2023-02-03T00:00:00\",\"2023-02-04T00:00:00\",\"2023-02-05T00:00:00\",\"2023-02-06T00:00:00\",\"2023-02-07T00:00:00\",\"2023-02-08T00:00:00\",\"2023-02-09T00:00:00\",\"2023-02-10T00:00:00\",\"2023-02-11T00:00:00\",\"2023-02-12T00:00:00\",\"2023-02-13T00:00:00\",\"2023-02-14T00:00:00\",\"2023-02-15T00:00:00\",\"2023-02-16T00:00:00\",\"2023-02-17T00:00:00\",\"2023-02-18T00:00:00\",\"2023-02-19T00:00:00\",\"2023-02-20T00:00:00\",\"2023-02-21T00:00:00\",\"2023-02-22T00:00:00\",\"2023-02-23T00:00:00\",\"2023-02-24T00:00:00\",\"2023-02-25T00:00:00\",\"2023-02-26T00:00:00\",\"2023-02-27T00:00:00\",\"2023-02-28T00:00:00\",\"2023-03-01T00:00:00\",\"2023-03-02T00:00:00\",\"2023-03-03T00:00:00\",\"2023-03-04T00:00:00\",\"2023-03-05T00:00:00\",\"2023-03-06T00:00:00\",\"2023-03-07T00:00:00\",\"2023-03-08T00:00:00\",\"2023-03-09T00:00:00\",\"2023-03-10T00:00:00\",\"2023-03-11T00:00:00\",\"2023-03-12T00:00:00\",\"2023-03-13T00:00:00\",\"2023-03-14T00:00:00\",\"2023-03-15T00:00:00\",\"2023-03-16T00:00:00\",\"2023-03-17T00:00:00\",\"2023-03-18T00:00:00\",\"2023-03-19T00:00:00\",\"2023-03-20T00:00:00\",\"2023-03-21T00:00:00\",\"2023-03-22T00:00:00\",\"2023-03-23T00:00:00\",\"2023-03-24T00:00:00\",\"2023-03-25T00:00:00\",\"2023-03-26T00:00:00\",\"2023-03-27T00:00:00\",\"2023-03-28T00:00:00\",\"2023-03-29T00:00:00\",\"2023-03-30T00:00:00\",\"2023-03-31T00:00:00\",\"2023-04-01T00:00:00\",\"2023-04-02T00:00:00\",\"2023-04-03T00:00:00\",\"2023-04-04T00:00:00\",\"2023-04-05T00:00:00\",\"2023-04-06T00:00:00\",\"2023-04-07T00:00:00\",\"2023-04-08T00:00:00\",\"2023-04-09T00:00:00\",\"2023-04-10T00:00:00\",\"2023-04-11T00:00:00\",\"2023-04-12T00:00:00\",\"2023-04-13T00:00:00\",\"2023-04-14T00:00:00\",\"2023-04-15T00:00:00\",\"2023-04-16T00:00:00\",\"2023-04-17T00:00:00\",\"2023-04-18T00:00:00\",\"2023-04-19T00:00:00\",\"2023-04-20T00:00:00\",\"2023-04-21T00:00:00\",\"2023-04-22T00:00:00\",\"2023-04-23T00:00:00\",\"2023-04-24T00:00:00\",\"2023-04-25T00:00:00\",\"2023-04-26T00:00:00\",\"2023-04-27T00:00:00\",\"2023-04-28T00:00:00\",\"2023-04-29T00:00:00\",\"2023-04-30T00:00:00\",\"2023-05-01T00:00:00\",\"2023-05-02T00:00:00\",\"2023-05-03T00:00:00\",\"2023-05-04T00:00:00\",\"2023-05-05T00:00:00\",\"2023-05-06T00:00:00\",\"2023-05-07T00:00:00\",\"2023-05-08T00:00:00\",\"2023-05-09T00:00:00\",\"2023-05-10T00:00:00\",\"2023-05-11T00:00:00\",\"2023-05-12T00:00:00\",\"2023-05-13T00:00:00\",\"2023-05-14T00:00:00\",\"2023-05-15T00:00:00\",\"2023-05-16T00:00:00\",\"2023-05-17T00:00:00\",\"2023-05-18T00:00:00\",\"2023-05-19T00:00:00\",\"2023-05-20T00:00:00\",\"2023-05-21T00:00:00\",\"2023-05-22T00:00:00\",\"2023-05-23T00:00:00\",\"2023-05-24T00:00:00\",\"2023-05-25T00:00:00\",\"2023-05-26T00:00:00\",\"2023-05-27T00:00:00\",\"2023-05-28T00:00:00\",\"2023-05-29T00:00:00\",\"2023-05-30T00:00:00\",\"2023-05-31T00:00:00\",\"2023-06-01T00:00:00\",\"2023-06-02T00:00:00\",\"2023-06-03T00:00:00\",\"2023-06-04T00:00:00\",\"2023-06-05T00:00:00\",\"2023-06-06T00:00:00\",\"2023-06-07T00:00:00\",\"2023-06-08T00:00:00\",\"2023-06-09T00:00:00\",\"2023-06-10T00:00:00\",\"2023-06-11T00:00:00\",\"2023-06-12T00:00:00\",\"2023-06-13T00:00:00\",\"2023-06-14T00:00:00\",\"2023-06-15T00:00:00\",\"2023-06-16T00:00:00\",\"2023-06-17T00:00:00\",\"2023-06-18T00:00:00\",\"2023-06-19T00:00:00\",\"2023-06-20T00:00:00\",\"2023-06-21T00:00:00\",\"2023-06-22T00:00:00\",\"2023-06-23T00:00:00\",\"2023-06-24T00:00:00\",\"2023-06-25T00:00:00\",\"2023-06-26T00:00:00\",\"2023-06-27T00:00:00\",\"2023-06-28T00:00:00\",\"2023-06-29T00:00:00\",\"2023-06-30T00:00:00\",\"2023-07-01T00:00:00\",\"2023-07-02T00:00:00\",\"2023-07-03T00:00:00\",\"2023-07-04T00:00:00\",\"2023-07-05T00:00:00\",\"2023-07-06T00:00:00\",\"2023-07-07T00:00:00\",\"2023-07-08T00:00:00\",\"2023-07-09T00:00:00\",\"2023-07-10T00:00:00\",\"2023-07-11T00:00:00\",\"2023-07-12T00:00:00\",\"2023-07-13T00:00:00\",\"2023-07-14T00:00:00\",\"2023-07-15T00:00:00\",\"2023-07-16T00:00:00\",\"2023-07-17T00:00:00\",\"2023-07-18T00:00:00\",\"2023-07-19T00:00:00\",\"2023-07-20T00:00:00\",\"2023-07-21T00:00:00\",\"2023-07-22T00:00:00\",\"2023-07-23T00:00:00\",\"2023-07-24T00:00:00\",\"2023-07-25T00:00:00\",\"2023-07-26T00:00:00\",\"2023-07-27T00:00:00\",\"2023-07-28T00:00:00\",\"2023-07-29T00:00:00\",\"2023-07-30T00:00:00\",\"2023-07-31T00:00:00\",\"2023-08-01T00:00:00\",\"2023-08-02T00:00:00\",\"2023-08-03T00:00:00\",\"2023-08-04T00:00:00\",\"2023-08-05T00:00:00\",\"2023-08-06T00:00:00\",\"2023-08-07T00:00:00\",\"2023-08-08T00:00:00\",\"2023-08-09T00:00:00\",\"2023-08-10T00:00:00\",\"2023-08-11T00:00:00\",\"2023-08-12T00:00:00\",\"2023-08-13T00:00:00\",\"2023-08-14T00:00:00\",\"2023-08-15T00:00:00\",\"2023-08-16T00:00:00\",\"2023-08-17T00:00:00\",\"2023-08-18T00:00:00\",\"2023-08-19T00:00:00\",\"2023-08-20T00:00:00\",\"2023-08-21T00:00:00\",\"2023-08-22T00:00:00\",\"2023-08-23T00:00:00\",\"2023-08-24T00:00:00\",\"2023-08-25T00:00:00\",\"2023-08-26T00:00:00\",\"2023-08-27T00:00:00\",\"2023-08-28T00:00:00\",\"2023-08-29T00:00:00\",\"2023-08-30T00:00:00\",\"2023-08-31T00:00:00\",\"2023-09-01T00:00:00\",\"2023-09-02T00:00:00\",\"2023-09-03T00:00:00\",\"2023-09-04T00:00:00\",\"2023-09-05T00:00:00\",\"2023-09-06T00:00:00\",\"2023-09-07T00:00:00\",\"2023-09-08T00:00:00\",\"2023-09-09T00:00:00\",\"2023-09-10T00:00:00\",\"2023-09-11T00:00:00\",\"2023-09-12T00:00:00\",\"2023-09-13T00:00:00\",\"2023-09-14T00:00:00\",\"2023-09-15T00:00:00\",\"2023-09-16T00:00:00\",\"2023-09-17T00:00:00\",\"2023-09-18T00:00:00\",\"2023-09-19T00:00:00\",\"2023-09-20T00:00:00\",\"2023-09-21T00:00:00\",\"2023-09-22T00:00:00\",\"2023-09-23T00:00:00\",\"2023-09-24T00:00:00\",\"2023-09-25T00:00:00\",\"2023-09-26T00:00:00\",\"2023-09-27T00:00:00\",\"2023-09-28T00:00:00\",\"2023-09-29T00:00:00\",\"2023-09-30T00:00:00\",\"2023-10-01T00:00:00\",\"2023-10-02T00:00:00\",\"2023-10-03T00:00:00\",\"2023-10-04T00:00:00\",\"2023-10-05T00:00:00\",\"2023-10-06T00:00:00\",\"2023-10-07T00:00:00\",\"2023-10-08T00:00:00\",\"2023-10-09T00:00:00\",\"2023-10-10T00:00:00\",\"2023-10-11T00:00:00\",\"2023-10-12T00:00:00\",\"2023-10-13T00:00:00\",\"2023-10-14T00:00:00\",\"2023-10-15T00:00:00\",\"2023-10-16T00:00:00\",\"2023-10-17T00:00:00\",\"2023-10-18T00:00:00\",\"2023-10-19T00:00:00\",\"2023-10-20T00:00:00\",\"2023-10-21T00:00:00\",\"2023-10-22T00:00:00\",\"2023-10-23T00:00:00\",\"2023-10-24T00:00:00\",\"2023-10-25T00:00:00\",\"2023-10-26T00:00:00\",\"2023-10-27T00:00:00\",\"2023-10-28T00:00:00\",\"2023-10-29T00:00:00\",\"2023-10-30T00:00:00\",\"2023-10-31T00:00:00\",\"2023-11-01T00:00:00\",\"2023-11-02T00:00:00\",\"2023-11-03T00:00:00\",\"2023-11-04T00:00:00\",\"2023-11-05T00:00:00\",\"2023-11-06T00:00:00\",\"2023-11-07T00:00:00\",\"2023-11-08T00:00:00\",\"2023-11-09T00:00:00\",\"2023-11-10T00:00:00\",\"2023-11-11T00:00:00\",\"2023-11-12T00:00:00\",\"2023-11-13T00:00:00\",\"2023-11-14T00:00:00\",\"2023-11-15T00:00:00\",\"2023-11-16T00:00:00\",\"2023-11-17T00:00:00\",\"2023-11-18T00:00:00\",\"2023-11-19T00:00:00\",\"2023-11-20T00:00:00\",\"2023-11-21T00:00:00\",\"2023-11-22T00:00:00\",\"2023-11-23T00:00:00\",\"2023-11-24T00:00:00\",\"2023-11-25T00:00:00\",\"2023-11-26T00:00:00\",\"2023-11-27T00:00:00\",\"2023-11-28T00:00:00\",\"2023-11-29T00:00:00\",\"2023-11-30T00:00:00\",\"2023-12-01T00:00:00\",\"2023-12-02T00:00:00\",\"2023-12-03T00:00:00\",\"2023-12-04T00:00:00\",\"2023-12-05T00:00:00\",\"2023-12-06T00:00:00\",\"2023-12-07T00:00:00\",\"2023-12-08T00:00:00\",\"2023-12-09T00:00:00\",\"2023-12-10T00:00:00\",\"2023-12-11T00:00:00\",\"2023-12-12T00:00:00\",\"2023-12-13T00:00:00\",\"2023-12-14T00:00:00\",\"2023-12-15T00:00:00\",\"2023-12-16T00:00:00\",\"2023-12-17T00:00:00\",\"2023-12-18T00:00:00\",\"2023-12-19T00:00:00\",\"2023-12-20T00:00:00\",\"2023-12-21T00:00:00\",\"2023-12-22T00:00:00\",\"2023-12-23T00:00:00\",\"2023-12-24T00:00:00\",\"2023-12-25T00:00:00\",\"2023-12-26T00:00:00\",\"2023-12-27T00:00:00\",\"2023-12-28T00:00:00\",\"2023-12-29T00:00:00\",\"2023-12-30T00:00:00\",\"2023-12-31T00:00:00\"],\"y\":[4.7,3.3,1.3,2.4,2.6,2.4,4.7,1.1,2.8,4.5,1.1,2.4,2.8,3.4,0.9,2.1,1.0,0.9,1.5,1.7,1.5,0.9,0.6,1.1,1.0,0.8,0.8,1.2,2.2,4.2,5.0,4.2,3.5,6.5,3.0,3.4,3.6,8.7,6.1,9.0,9.5,8.8,9.8,7.8,8.3,9.6,10.4,5.8,9.6,7.1,11.2,11.4,8.4,8.7,10.1,4.8,6.7,5.2,6.1,3.4,7.3,7.6,11.8,10.4,8.3,10.8,4.3,11.8,5.1,3.2,7.8,12.8,5.5,15.1,15.7,13.2,14.8,7.4,12.2,13.3,17.0,7.6,3.2,9.5,6.2,7.9,16.4,9.0,6.3,8.1,10.0,13.1,10.5,22.3,22.4,19.2,9.4,13.2,21.3,19.0,8.0,9.0,12.7,20.0,8.6,5.3,15.5,18.8,12.7,4.7,12.7,14.4,15.3,15.7,13.3,20.5,21.4,8.4,17.7,11.6,8.8,17.9,24.9,25.2,19.6,20.8,13.7,12.6,14.4,13.1,13.2,16.8,11.8,12.6,15.1,6.4,15.3,14.5,13.5,11.8,21.4,24.6,17.6,8.1,19.1,25.6,26.2,25.8,26.9,25.9,24.8,23.0,24.2,22.7,19.9,23.3,23.8,23.5,21.0,22.5,20.6,22.7,24.6,23.5,25.4,22.8,21.7,23.4,20.2,19.1,20.1,16.5,11.6,20.6,25.3,24.8,22.2,20.2,20.1,18.8,7.6,19.0,17.8,22.7,23.8,16.6,25.5,27.7,21.0,26.2,23.1,25.6,12.0,20.0,27.0,24.1,20.9,22.7,19.3,22.4,25.2,15.9,25.0,23.9,12.0,16.3,16.2,21.1,18.1,12.4,22.4,23.6,10.0,20.2,22.7,14.8,17.3,13.6,17.3,21.7,15.2,24.3,25.0,16.7,20.4,20.5,20.7,23.4,15.7,23.3,21.7,22.2,22.3,21.9,21.7,19.7,12.3,6.6,5.5,4.6,8.3,16.1,12.4,21.3,21.6,19.4,21.4,21.1,21.1,20.4,19.7,19.5,19.6,19.4,15.8,6.3,12.5,14.4,14.2,16.2,4.4,14.9,17.5,11.8,10.6,11.6,18.1,18.5,17.7,17.1,16.0,15.4,13.5,16.0,16.3,13.0,14.6,14.1,14.9,14.8,14.5,13.0,13.0,14.6,12.9,14.0,6.5,8.0,13.0,10.6,5.3,6.3,2.6,6.0,11.2,6.1,1.9,5.9,4.3,8.3,10.1,6.8,3.3,4.1,6.2,1.1,5.7,3.4,4.6,7.4,6.1,10.1,3.0,5.2,4.8,1.5,2.2,1.2,5.6,3.5,2.8,3.3,2.5,4.6,3.4,3.2,6.6,4.0,2.9,4.4,2.8,1.7,6.1,0.2,0.4,0.4,1.1,0.3,1.2,1.6,2.2,0.6,1.4,3.0,1.1,1.4,1.9,1.8,4.7,3.9,2.8,3.7,4.8,2.8,1.1,1.3,3.9,3.6,6.2,4.9,6.0,2.7,3.2,5.8,2.1],\"type\":\"scatter\"},{\"mode\":\"lines\",\"name\":\"Pr\\u00e9dictions\",\"x\":[\"2023-01-01T00:00:00\",\"2023-01-02T00:00:00\",\"2023-01-03T00:00:00\",\"2023-01-04T00:00:00\",\"2023-01-05T00:00:00\",\"2023-01-06T00:00:00\",\"2023-01-07T00:00:00\",\"2023-01-08T00:00:00\",\"2023-01-09T00:00:00\",\"2023-01-10T00:00:00\",\"2023-01-11T00:00:00\",\"2023-01-12T00:00:00\",\"2023-01-13T00:00:00\",\"2023-01-14T00:00:00\",\"2023-01-15T00:00:00\",\"2023-01-16T00:00:00\",\"2023-01-17T00:00:00\",\"2023-01-18T00:00:00\",\"2023-01-19T00:00:00\",\"2023-01-20T00:00:00\",\"2023-01-21T00:00:00\",\"2023-01-22T00:00:00\",\"2023-01-23T00:00:00\",\"2023-01-24T00:00:00\",\"2023-01-25T00:00:00\",\"2023-01-26T00:00:00\",\"2023-01-27T00:00:00\",\"2023-01-28T00:00:00\",\"2023-01-29T00:00:00\",\"2023-01-30T00:00:00\",\"2023-01-31T00:00:00\",\"2023-02-01T00:00:00\",\"2023-02-02T00:00:00\",\"2023-02-03T00:00:00\",\"2023-02-04T00:00:00\",\"2023-02-05T00:00:00\",\"2023-02-06T00:00:00\",\"2023-02-07T00:00:00\",\"2023-02-08T00:00:00\",\"2023-02-09T00:00:00\",\"2023-02-10T00:00:00\",\"2023-02-11T00:00:00\",\"2023-02-12T00:00:00\",\"2023-02-13T00:00:00\",\"2023-02-14T00:00:00\",\"2023-02-15T00:00:00\",\"2023-02-16T00:00:00\",\"2023-02-17T00:00:00\",\"2023-02-18T00:00:00\",\"2023-02-19T00:00:00\",\"2023-02-20T00:00:00\",\"2023-02-21T00:00:00\",\"2023-02-22T00:00:00\",\"2023-02-23T00:00:00\",\"2023-02-24T00:00:00\",\"2023-02-25T00:00:00\",\"2023-02-26T00:00:00\",\"2023-02-27T00:00:00\",\"2023-02-28T00:00:00\",\"2023-03-01T00:00:00\",\"2023-03-02T00:00:00\",\"2023-03-03T00:00:00\",\"2023-03-04T00:00:00\",\"2023-03-05T00:00:00\",\"2023-03-06T00:00:00\",\"2023-03-07T00:00:00\",\"2023-03-08T00:00:00\",\"2023-03-09T00:00:00\",\"2023-03-10T00:00:00\",\"2023-03-11T00:00:00\",\"2023-03-12T00:00:00\",\"2023-03-13T00:00:00\",\"2023-03-14T00:00:00\",\"2023-03-15T00:00:00\",\"2023-03-16T00:00:00\",\"2023-03-17T00:00:00\",\"2023-03-18T00:00:00\",\"2023-03-19T00:00:00\",\"2023-03-20T00:00:00\",\"2023-03-21T00:00:00\",\"2023-03-22T00:00:00\",\"2023-03-23T00:00:00\",\"2023-03-24T00:00:00\",\"2023-03-25T00:00:00\",\"2023-03-26T00:00:00\",\"2023-03-27T00:00:00\",\"2023-03-28T00:00:00\",\"2023-03-29T00:00:00\",\"2023-03-30T00:00:00\",\"2023-03-31T00:00:00\",\"2023-04-01T00:00:00\",\"2023-04-02T00:00:00\",\"2023-04-03T00:00:00\",\"2023-04-04T00:00:00\",\"2023-04-05T00:00:00\",\"2023-04-06T00:00:00\",\"2023-04-07T00:00:00\",\"2023-04-08T00:00:00\",\"2023-04-09T00:00:00\",\"2023-04-10T00:00:00\",\"2023-04-11T00:00:00\",\"2023-04-12T00:00:00\",\"2023-04-13T00:00:00\",\"2023-04-14T00:00:00\",\"2023-04-15T00:00:00\",\"2023-04-16T00:00:00\",\"2023-04-17T00:00:00\",\"2023-04-18T00:00:00\",\"2023-04-19T00:00:00\",\"2023-04-20T00:00:00\",\"2023-04-21T00:00:00\",\"2023-04-22T00:00:00\",\"2023-04-23T00:00:00\",\"2023-04-24T00:00:00\",\"2023-04-25T00:00:00\",\"2023-04-26T00:00:00\",\"2023-04-27T00:00:00\",\"2023-04-28T00:00:00\",\"2023-04-29T00:00:00\",\"2023-04-30T00:00:00\",\"2023-05-01T00:00:00\",\"2023-05-02T00:00:00\",\"2023-05-03T00:00:00\",\"2023-05-04T00:00:00\",\"2023-05-05T00:00:00\",\"2023-05-06T00:00:00\",\"2023-05-07T00:00:00\",\"2023-05-08T00:00:00\",\"2023-05-09T00:00:00\",\"2023-05-10T00:00:00\",\"2023-05-11T00:00:00\",\"2023-05-12T00:00:00\",\"2023-05-13T00:00:00\",\"2023-05-14T00:00:00\",\"2023-05-15T00:00:00\",\"2023-05-16T00:00:00\",\"2023-05-17T00:00:00\",\"2023-05-18T00:00:00\",\"2023-05-19T00:00:00\",\"2023-05-20T00:00:00\",\"2023-05-21T00:00:00\",\"2023-05-22T00:00:00\",\"2023-05-23T00:00:00\",\"2023-05-24T00:00:00\",\"2023-05-25T00:00:00\",\"2023-05-26T00:00:00\",\"2023-05-27T00:00:00\",\"2023-05-28T00:00:00\",\"2023-05-29T00:00:00\",\"2023-05-30T00:00:00\",\"2023-05-31T00:00:00\",\"2023-06-01T00:00:00\",\"2023-06-02T00:00:00\",\"2023-06-03T00:00:00\",\"2023-06-04T00:00:00\",\"2023-06-05T00:00:00\",\"2023-06-06T00:00:00\",\"2023-06-07T00:00:00\",\"2023-06-08T00:00:00\",\"2023-06-09T00:00:00\",\"2023-06-10T00:00:00\",\"2023-06-11T00:00:00\",\"2023-06-12T00:00:00\",\"2023-06-13T00:00:00\",\"2023-06-14T00:00:00\",\"2023-06-15T00:00:00\",\"2023-06-16T00:00:00\",\"2023-06-17T00:00:00\",\"2023-06-18T00:00:00\",\"2023-06-19T00:00:00\",\"2023-06-20T00:00:00\",\"2023-06-21T00:00:00\",\"2023-06-22T00:00:00\",\"2023-06-23T00:00:00\",\"2023-06-24T00:00:00\",\"2023-06-25T00:00:00\",\"2023-06-26T00:00:00\",\"2023-06-27T00:00:00\",\"2023-06-28T00:00:00\",\"2023-06-29T00:00:00\",\"2023-06-30T00:00:00\",\"2023-07-01T00:00:00\",\"2023-07-02T00:00:00\",\"2023-07-03T00:00:00\",\"2023-07-04T00:00:00\",\"2023-07-05T00:00:00\",\"2023-07-06T00:00:00\",\"2023-07-07T00:00:00\",\"2023-07-08T00:00:00\",\"2023-07-09T00:00:00\",\"2023-07-10T00:00:00\",\"2023-07-11T00:00:00\",\"2023-07-12T00:00:00\",\"2023-07-13T00:00:00\",\"2023-07-14T00:00:00\",\"2023-07-15T00:00:00\",\"2023-07-16T00:00:00\",\"2023-07-17T00:00:00\",\"2023-07-18T00:00:00\",\"2023-07-19T00:00:00\",\"2023-07-20T00:00:00\",\"2023-07-21T00:00:00\",\"2023-07-22T00:00:00\",\"2023-07-23T00:00:00\",\"2023-07-24T00:00:00\",\"2023-07-25T00:00:00\",\"2023-07-26T00:00:00\",\"2023-07-27T00:00:00\",\"2023-07-28T00:00:00\",\"2023-07-29T00:00:00\",\"2023-07-30T00:00:00\",\"2023-07-31T00:00:00\",\"2023-08-01T00:00:00\",\"2023-08-02T00:00:00\",\"2023-08-03T00:00:00\",\"2023-08-04T00:00:00\",\"2023-08-05T00:00:00\",\"2023-08-06T00:00:00\",\"2023-08-07T00:00:00\",\"2023-08-08T00:00:00\",\"2023-08-09T00:00:00\",\"2023-08-10T00:00:00\",\"2023-08-11T00:00:00\",\"2023-08-12T00:00:00\",\"2023-08-13T00:00:00\",\"2023-08-14T00:00:00\",\"2023-08-15T00:00:00\",\"2023-08-16T00:00:00\",\"2023-08-17T00:00:00\",\"2023-08-18T00:00:00\",\"2023-08-19T00:00:00\",\"2023-08-20T00:00:00\",\"2023-08-21T00:00:00\",\"2023-08-22T00:00:00\",\"2023-08-23T00:00:00\",\"2023-08-24T00:00:00\",\"2023-08-25T00:00:00\",\"2023-08-26T00:00:00\",\"2023-08-27T00:00:00\",\"2023-08-28T00:00:00\",\"2023-08-29T00:00:00\",\"2023-08-30T00:00:00\",\"2023-08-31T00:00:00\",\"2023-09-01T00:00:00\",\"2023-09-02T00:00:00\",\"2023-09-03T00:00:00\",\"2023-09-04T00:00:00\",\"2023-09-05T00:00:00\",\"2023-09-06T00:00:00\",\"2023-09-07T00:00:00\",\"2023-09-08T00:00:00\",\"2023-09-09T00:00:00\",\"2023-09-10T00:00:00\",\"2023-09-11T00:00:00\",\"2023-09-12T00:00:00\",\"2023-09-13T00:00:00\",\"2023-09-14T00:00:00\",\"2023-09-15T00:00:00\",\"2023-09-16T00:00:00\",\"2023-09-17T00:00:00\",\"2023-09-18T00:00:00\",\"2023-09-19T00:00:00\",\"2023-09-20T00:00:00\",\"2023-09-21T00:00:00\",\"2023-09-22T00:00:00\",\"2023-09-23T00:00:00\",\"2023-09-24T00:00:00\",\"2023-09-25T00:00:00\",\"2023-09-26T00:00:00\",\"2023-09-27T00:00:00\",\"2023-09-28T00:00:00\",\"2023-09-29T00:00:00\",\"2023-09-30T00:00:00\",\"2023-10-01T00:00:00\",\"2023-10-02T00:00:00\",\"2023-10-03T00:00:00\",\"2023-10-04T00:00:00\",\"2023-10-05T00:00:00\",\"2023-10-06T00:00:00\",\"2023-10-07T00:00:00\",\"2023-10-08T00:00:00\",\"2023-10-09T00:00:00\",\"2023-10-10T00:00:00\",\"2023-10-11T00:00:00\",\"2023-10-12T00:00:00\",\"2023-10-13T00:00:00\",\"2023-10-14T00:00:00\",\"2023-10-15T00:00:00\",\"2023-10-16T00:00:00\",\"2023-10-17T00:00:00\",\"2023-10-18T00:00:00\",\"2023-10-19T00:00:00\",\"2023-10-20T00:00:00\",\"2023-10-21T00:00:00\",\"2023-10-22T00:00:00\",\"2023-10-23T00:00:00\",\"2023-10-24T00:00:00\",\"2023-10-25T00:00:00\",\"2023-10-26T00:00:00\",\"2023-10-27T00:00:00\",\"2023-10-28T00:00:00\",\"2023-10-29T00:00:00\",\"2023-10-30T00:00:00\",\"2023-10-31T00:00:00\",\"2023-11-01T00:00:00\",\"2023-11-02T00:00:00\",\"2023-11-03T00:00:00\",\"2023-11-04T00:00:00\",\"2023-11-05T00:00:00\",\"2023-11-06T00:00:00\",\"2023-11-07T00:00:00\",\"2023-11-08T00:00:00\",\"2023-11-09T00:00:00\",\"2023-11-10T00:00:00\",\"2023-11-11T00:00:00\",\"2023-11-12T00:00:00\",\"2023-11-13T00:00:00\",\"2023-11-14T00:00:00\",\"2023-11-15T00:00:00\",\"2023-11-16T00:00:00\",\"2023-11-17T00:00:00\",\"2023-11-18T00:00:00\",\"2023-11-19T00:00:00\",\"2023-11-20T00:00:00\",\"2023-11-21T00:00:00\",\"2023-11-22T00:00:00\",\"2023-11-23T00:00:00\",\"2023-11-24T00:00:00\",\"2023-11-25T00:00:00\",\"2023-11-26T00:00:00\",\"2023-11-27T00:00:00\",\"2023-11-28T00:00:00\",\"2023-11-29T00:00:00\",\"2023-11-30T00:00:00\",\"2023-12-01T00:00:00\",\"2023-12-02T00:00:00\",\"2023-12-03T00:00:00\",\"2023-12-04T00:00:00\",\"2023-12-05T00:00:00\",\"2023-12-06T00:00:00\",\"2023-12-07T00:00:00\",\"2023-12-08T00:00:00\",\"2023-12-09T00:00:00\",\"2023-12-10T00:00:00\",\"2023-12-11T00:00:00\",\"2023-12-12T00:00:00\",\"2023-12-13T00:00:00\",\"2023-12-14T00:00:00\",\"2023-12-15T00:00:00\",\"2023-12-16T00:00:00\",\"2023-12-17T00:00:00\",\"2023-12-18T00:00:00\",\"2023-12-19T00:00:00\",\"2023-12-20T00:00:00\",\"2023-12-21T00:00:00\",\"2023-12-22T00:00:00\",\"2023-12-23T00:00:00\",\"2023-12-24T00:00:00\",\"2023-12-25T00:00:00\",\"2023-12-26T00:00:00\",\"2023-12-27T00:00:00\",\"2023-12-28T00:00:00\",\"2023-12-29T00:00:00\",\"2023-12-30T00:00:00\",\"2023-12-31T00:00:00\"],\"y\":[3.9696859576317003,3.2407834795048758,2.1872286582405267,2.6966204572255523,2.249869636384398,3.59921104219271,4.254899731644659,1.6741976300368213,3.2904908083671978,4.058897797547566,1.7978342780374594,2.559279931999686,3.0223444332573544,3.1140959524829372,1.4023381742271377,2.0959770186479894,1.0176172019829128,1.2113357787386536,2.2012518865103794,1.8966683883346647,1.7310806074182485,1.7888456734991625,1.230351017399391,2.735050193992419,2.8100668154400172,1.7661457198745067,1.822598405926462,2.2267587800724096,3.121053509433141,3.260835772595376,4.968672803408917,4.526744401513695,3.711432289471918,6.048789778214034,2.8952629015348927,3.5499918417328455,3.547252533604678,6.185976702271431,4.5035325458729645,6.384631109773302,7.573002090751678,7.18571900102372,8.339274237785585,8.371850919071367,8.575351651688452,9.08504520119103,9.128590181684647,0.19574030672008155,0.2047650915693678,0.19263854715291326,0.2086281855451747,0.2595284880709659,0.11362014848003106,0.0492344994091262,0.043133272804612224,0.11733633597835967,0.00791999922930018,0.014582288212004075,0.026800353542708915,6.1685335404064165,9.979989495037245,8.649396653847369,9.926669449958444,10.376856272643964,9.399501930310405,9.505952776672862,5.276577769406851,11.194154934971785,5.084348608810395,3.0538430921065025,7.8579536213130385,12.253487507898084,5.807260230513258,12.77791660059825,13.090689995766636,13.578669182481974,13.917337441031187,7.786989306549951,10.30080098854031,12.53178671733763,14.964032464991833,10.167512201017628,6.082424229587071,8.842944381801379,8.790039490206166,9.341462290361193,13.673256019632346,10.313577411619475,8.295945108719977,9.401064566289314,10.227390689991655,10.944361634905194,11.753566862149825,17.647182931104272,16.390942193252297,13.915897304320957,7.036629004910759,12.526928326094628,16.978511749532114,15.622634836587567,7.237833514276455,8.97100052888086,10.884303658109639,14.084306319385552,6.517196659973868,6.740245331424473,13.478031120018402,14.131470621119464,13.996648693687575,7.491118917458619,13.978834903211094,12.551139719936089,13.282690062754929,14.425930467300512,11.842217658418038,16.717827610543136,16.486996502584816,9.260695260007036,14.394370270334614,9.53798937319788,8.031022735441862,15.336361129591195,21.21038803096592,21.27397781783069,16.433237645867695,17.220395554852505,11.979517410568011,13.237852718228027,11.900133655191347,10.960487394486359,11.124787793086076,14.30898427739767,12.615028799768325,13.428928507023079,15.70646984247526,8.470765785839385,11.8898203200839,11.131622982633045,10.727763280204424,13.475535953990265,18.36843952641626,19.185341680369763,16.209344116358903,9.258784031453628,16.690420609000807,19.729282546952984,22.12711840168925,21.866989268898266,22.369419523269038,21.930230664138946,20.425904310652175,20.756607433490093,20.57388378255091,18.645618702660272,17.032900151126114,21.437982645945677,21.940228867372337,22.426723283248183,20.910621133077665,20.233605911995408,18.29110743514078,20.533388695939987,22.63248434007378,20.550817637914253,23.99488360308264,21.376948545812464,21.428834503007966,23.390121319326084,19.80494440670424,18.631910195302815,19.280922113598532,18.434830560240037,16.47763614892062,19.58545409029469,23.59663307942023,23.23094925937014,20.86574220613477,20.395761831209285,21.464731436780415,17.92895238729448,8.162648070466572,14.127490645080767,13.864082621689413,15.359724597264623,18.777602097497482,16.107808117913947,19.311721307823884,22.27134409324071,18.202191231764083,21.235052970996595,19.63260012562574,20.343202338351265,12.36332004429786,15.659224156199144,20.59596672275073,20.247374289260943,15.214449524441738,18.235135648517083,18.51673479967634,19.124723165817496,19.26466310021952,14.90924800996844,19.45368962312319,19.93892344920534,11.327063050543778,14.650294810347104,15.966696414243314,17.504170076054724,15.526194491493788,13.202864864602192,17.014022872418607,20.13592649090946,10.549444656091488,16.615878585650186,16.708966390800775,10.738036911706935,13.05810443324429,11.05799096110872,15.831784172266907,18.778223149735016,13.049475767375643,20.318250661302205,19.996737775121307,15.800154976257028,16.784519898931244,16.209872015961786,16.27632846377211,18.0556688643272,15.366169091902528,18.564983095747852,18.084857491308544,17.843115353831518,18.07670992813686,17.778916560374725,17.992016170667664,17.166611702473666,14.241595201369119,6.565260284758046,4.209627851978601,3.325054565341924,7.6778572043398166,12.420648301286418,10.824091595035421,15.297652349419579,15.443882357020238,16.161991311818227,16.667060173158955,16.81808876181497,16.554526252432943,16.387809537548456,15.36377734180536,14.712845599450963,15.327109201433618,15.376859289433028,13.33348669853581,5.7468041896442354,10.761463856597622,11.137783651764659,11.505970076935515,13.533589589554548,5.982267702658757,11.574621174290513,13.138443266163637,9.959983999080329,7.758790019970414,8.675829642497868,13.517890630915526,14.083917390638259,13.753570094854906,13.403164643914343,13.456372863020153,13.049494802656021,10.224656991951427,12.971847933694356,13.182526192140532,11.930811277572001,10.452362504307022,11.293760380372337,11.956269520072397,12.072224843800182,12.357911830792464,12.27209205568554,11.76985852185186,12.074615821223828,11.531084215700862,11.28468001939578,5.952501203573725,7.099655974566131,8.999320507785594,9.016208798877177,6.300407555633632,5.569818637474798,3.133155548178812,4.971632174184608,7.249783403663049,5.618471033751127,2.389785276541657,5.578512588617611,4.09438025520682,6.876730131520034,6.129158683589052,5.631679815993842,3.7515273575867196,3.888060434239062,4.848635528095121,1.201428154491958,3.6936019811496763,2.6236978060468625,3.8853423092650585,5.504278853852134,4.843073759798795,6.758066651701929,1.9980410845847139,3.447214668461709,3.898866452932346,1.0302357085018112,3.3469189194646844,1.4173045345291608,4.4817892693643255,2.3434338226288007,2.9665311893070387,2.258402199373324,2.1306222412671474,4.759456348824353,2.7072222575507268,2.3784327796224107,4.374009211262695,2.4365984443121125,2.208344424455592,2.6762434343335713,1.8311741728295305,1.2179344276806991,3.6602912172777153,0.3813295076245771,0.5786503604432615,0.4454693853709938,1.603235434302847,0.9264121378179783,2.37224911789833,1.860134194702588,2.341412811685288,0.7063169778966201,1.3283903776336294,2.829361173705255,0.9313552822418636,1.600875177070688,2.0712425104891063,1.6356271264619617,2.5650295112712347,2.4632589741465716,2.699169585422775,3.332948101483607,3.4136690457226697,1.7197442000049452,1.174414376202438,1.037885287090923,2.6049602920120662,2.6573234648393123,4.177152834187916,3.158982449826951,3.4457132986754746,1.972209213884963,2.3051112707488706,3.7944854365038108,1.6975165127816982],\"type\":\"scatter\"}],                        {\"template\":{\"data\":{\"histogram2dcontour\":[{\"type\":\"histogram2dcontour\",\"colorbar\":{\"outlinewidth\":0,\"ticks\":\"\"},\"colorscale\":[[0.0,\"#0d0887\"],[0.1111111111111111,\"#46039f\"],[0.2222222222222222,\"#7201a8\"],[0.3333333333333333,\"#9c179e\"],[0.4444444444444444,\"#bd3786\"],[0.5555555555555556,\"#d8576b\"],[0.6666666666666666,\"#ed7953\"],[0.7777777777777778,\"#fb9f3a\"],[0.8888888888888888,\"#fdca26\"],[1.0,\"#f0f921\"]]}],\"choropleth\":[{\"type\":\"choropleth\",\"colorbar\":{\"outlinewidth\":0,\"ticks\":\"\"}}],\"histogram2d\":[{\"type\":\"histogram2d\",\"colorbar\":{\"outlinewidth\":0,\"ticks\":\"\"},\"colorscale\":[[0.0,\"#0d0887\"],[0.1111111111111111,\"#46039f\"],[0.2222222222222222,\"#7201a8\"],[0.3333333333333333,\"#9c179e\"],[0.4444444444444444,\"#bd3786\"],[0.5555555555555556,\"#d8576b\"],[0.6666666666666666,\"#ed7953\"],[0.7777777777777778,\"#fb9f3a\"],[0.8888888888888888,\"#fdca26\"],[1.0,\"#f0f921\"]]}],\"heatmap\":[{\"type\":\"heatmap\",\"colorbar\":{\"outlinewidth\":0,\"ticks\":\"\"},\"colorscale\":[[0.0,\"#0d0887\"],[0.1111111111111111,\"#46039f\"],[0.2222222222222222,\"#7201a8\"],[0.3333333333333333,\"#9c179e\"],[0.4444444444444444,\"#bd3786\"],[0.5555555555555556,\"#d8576b\"],[0.6666666666666666,\"#ed7953\"],[0.7777777777777778,\"#fb9f3a\"],[0.8888888888888888,\"#fdca26\"],[1.0,\"#f0f921\"]]}],\"heatmapgl\":[{\"type\":\"heatmapgl\",\"colorbar\":{\"outlinewidth\":0,\"ticks\":\"\"},\"colorscale\":[[0.0,\"#0d0887\"],[0.1111111111111111,\"#46039f\"],[0.2222222222222222,\"#7201a8\"],[0.3333333333333333,\"#9c179e\"],[0.4444444444444444,\"#bd3786\"],[0.5555555555555556,\"#d8576b\"],[0.6666666666666666,\"#ed7953\"],[0.7777777777777778,\"#fb9f3a\"],[0.8888888888888888,\"#fdca26\"],[1.0,\"#f0f921\"]]}],\"contourcarpet\":[{\"type\":\"contourcarpet\",\"colorbar\":{\"outlinewidth\":0,\"ticks\":\"\"}}],\"contour\":[{\"type\":\"contour\",\"colorbar\":{\"outlinewidth\":0,\"ticks\":\"\"},\"colorscale\":[[0.0,\"#0d0887\"],[0.1111111111111111,\"#46039f\"],[0.2222222222222222,\"#7201a8\"],[0.3333333333333333,\"#9c179e\"],[0.4444444444444444,\"#bd3786\"],[0.5555555555555556,\"#d8576b\"],[0.6666666666666666,\"#ed7953\"],[0.7777777777777778,\"#fb9f3a\"],[0.8888888888888888,\"#fdca26\"],[1.0,\"#f0f921\"]]}],\"surface\":[{\"type\":\"surface\",\"colorbar\":{\"outlinewidth\":0,\"ticks\":\"\"},\"colorscale\":[[0.0,\"#0d0887\"],[0.1111111111111111,\"#46039f\"],[0.2222222222222222,\"#7201a8\"],[0.3333333333333333,\"#9c179e\"],[0.4444444444444444,\"#bd3786\"],[0.5555555555555556,\"#d8576b\"],[0.6666666666666666,\"#ed7953\"],[0.7777777777777778,\"#fb9f3a\"],[0.8888888888888888,\"#fdca26\"],[1.0,\"#f0f921\"]]}],\"mesh3d\":[{\"type\":\"mesh3d\",\"colorbar\":{\"outlinewidth\":0,\"ticks\":\"\"}}],\"scatter\":[{\"fillpattern\":{\"fillmode\":\"overlay\",\"size\":10,\"solidity\":0.2},\"type\":\"scatter\"}],\"parcoords\":[{\"type\":\"parcoords\",\"line\":{\"colorbar\":{\"outlinewidth\":0,\"ticks\":\"\"}}}],\"scatterpolargl\":[{\"type\":\"scatterpolargl\",\"marker\":{\"colorbar\":{\"outlinewidth\":0,\"ticks\":\"\"}}}],\"bar\":[{\"error_x\":{\"color\":\"#2a3f5f\"},\"error_y\":{\"color\":\"#2a3f5f\"},\"marker\":{\"line\":{\"color\":\"#E5ECF6\",\"width\":0.5},\"pattern\":{\"fillmode\":\"overlay\",\"size\":10,\"solidity\":0.2}},\"type\":\"bar\"}],\"scattergeo\":[{\"type\":\"scattergeo\",\"marker\":{\"colorbar\":{\"outlinewidth\":0,\"ticks\":\"\"}}}],\"scatterpolar\":[{\"type\":\"scatterpolar\",\"marker\":{\"colorbar\":{\"outlinewidth\":0,\"ticks\":\"\"}}}],\"histogram\":[{\"marker\":{\"pattern\":{\"fillmode\":\"overlay\",\"size\":10,\"solidity\":0.2}},\"type\":\"histogram\"}],\"scattergl\":[{\"type\":\"scattergl\",\"marker\":{\"colorbar\":{\"outlinewidth\":0,\"ticks\":\"\"}}}],\"scatter3d\":[{\"type\":\"scatter3d\",\"line\":{\"colorbar\":{\"outlinewidth\":0,\"ticks\":\"\"}},\"marker\":{\"colorbar\":{\"outlinewidth\":0,\"ticks\":\"\"}}}],\"scattermapbox\":[{\"type\":\"scattermapbox\",\"marker\":{\"colorbar\":{\"outlinewidth\":0,\"ticks\":\"\"}}}],\"scatterternary\":[{\"type\":\"scatterternary\",\"marker\":{\"colorbar\":{\"outlinewidth\":0,\"ticks\":\"\"}}}],\"scattercarpet\":[{\"type\":\"scattercarpet\",\"marker\":{\"colorbar\":{\"outlinewidth\":0,\"ticks\":\"\"}}}],\"carpet\":[{\"aaxis\":{\"endlinecolor\":\"#2a3f5f\",\"gridcolor\":\"white\",\"linecolor\":\"white\",\"minorgridcolor\":\"white\",\"startlinecolor\":\"#2a3f5f\"},\"baxis\":{\"endlinecolor\":\"#2a3f5f\",\"gridcolor\":\"white\",\"linecolor\":\"white\",\"minorgridcolor\":\"white\",\"startlinecolor\":\"#2a3f5f\"},\"type\":\"carpet\"}],\"table\":[{\"cells\":{\"fill\":{\"color\":\"#EBF0F8\"},\"line\":{\"color\":\"white\"}},\"header\":{\"fill\":{\"color\":\"#C8D4E3\"},\"line\":{\"color\":\"white\"}},\"type\":\"table\"}],\"barpolar\":[{\"marker\":{\"line\":{\"color\":\"#E5ECF6\",\"width\":0.5},\"pattern\":{\"fillmode\":\"overlay\",\"size\":10,\"solidity\":0.2}},\"type\":\"barpolar\"}],\"pie\":[{\"automargin\":true,\"type\":\"pie\"}]},\"layout\":{\"autotypenumbers\":\"strict\",\"colorway\":[\"#636efa\",\"#EF553B\",\"#00cc96\",\"#ab63fa\",\"#FFA15A\",\"#19d3f3\",\"#FF6692\",\"#B6E880\",\"#FF97FF\",\"#FECB52\"],\"font\":{\"color\":\"#2a3f5f\"},\"hovermode\":\"closest\",\"hoverlabel\":{\"align\":\"left\"},\"paper_bgcolor\":\"white\",\"plot_bgcolor\":\"#E5ECF6\",\"polar\":{\"bgcolor\":\"#E5ECF6\",\"angularaxis\":{\"gridcolor\":\"white\",\"linecolor\":\"white\",\"ticks\":\"\"},\"radialaxis\":{\"gridcolor\":\"white\",\"linecolor\":\"white\",\"ticks\":\"\"}},\"ternary\":{\"bgcolor\":\"#E5ECF6\",\"aaxis\":{\"gridcolor\":\"white\",\"linecolor\":\"white\",\"ticks\":\"\"},\"baxis\":{\"gridcolor\":\"white\",\"linecolor\":\"white\",\"ticks\":\"\"},\"caxis\":{\"gridcolor\":\"white\",\"linecolor\":\"white\",\"ticks\":\"\"}},\"coloraxis\":{\"colorbar\":{\"outlinewidth\":0,\"ticks\":\"\"}},\"colorscale\":{\"sequential\":[[0.0,\"#0d0887\"],[0.1111111111111111,\"#46039f\"],[0.2222222222222222,\"#7201a8\"],[0.3333333333333333,\"#9c179e\"],[0.4444444444444444,\"#bd3786\"],[0.5555555555555556,\"#d8576b\"],[0.6666666666666666,\"#ed7953\"],[0.7777777777777778,\"#fb9f3a\"],[0.8888888888888888,\"#fdca26\"],[1.0,\"#f0f921\"]],\"sequentialminus\":[[0.0,\"#0d0887\"],[0.1111111111111111,\"#46039f\"],[0.2222222222222222,\"#7201a8\"],[0.3333333333333333,\"#9c179e\"],[0.4444444444444444,\"#bd3786\"],[0.5555555555555556,\"#d8576b\"],[0.6666666666666666,\"#ed7953\"],[0.7777777777777778,\"#fb9f3a\"],[0.8888888888888888,\"#fdca26\"],[1.0,\"#f0f921\"]],\"diverging\":[[0,\"#8e0152\"],[0.1,\"#c51b7d\"],[0.2,\"#de77ae\"],[0.3,\"#f1b6da\"],[0.4,\"#fde0ef\"],[0.5,\"#f7f7f7\"],[0.6,\"#e6f5d0\"],[0.7,\"#b8e186\"],[0.8,\"#7fbc41\"],[0.9,\"#4d9221\"],[1,\"#276419\"]]},\"xaxis\":{\"gridcolor\":\"white\",\"linecolor\":\"white\",\"ticks\":\"\",\"title\":{\"standoff\":15},\"zerolinecolor\":\"white\",\"automargin\":true,\"zerolinewidth\":2},\"yaxis\":{\"gridcolor\":\"white\",\"linecolor\":\"white\",\"ticks\":\"\",\"title\":{\"standoff\":15},\"zerolinecolor\":\"white\",\"automargin\":true,\"zerolinewidth\":2},\"scene\":{\"xaxis\":{\"backgroundcolor\":\"#E5ECF6\",\"gridcolor\":\"white\",\"linecolor\":\"white\",\"showbackground\":true,\"ticks\":\"\",\"zerolinecolor\":\"white\",\"gridwidth\":2},\"yaxis\":{\"backgroundcolor\":\"#E5ECF6\",\"gridcolor\":\"white\",\"linecolor\":\"white\",\"showbackground\":true,\"ticks\":\"\",\"zerolinecolor\":\"white\",\"gridwidth\":2},\"zaxis\":{\"backgroundcolor\":\"#E5ECF6\",\"gridcolor\":\"white\",\"linecolor\":\"white\",\"showbackground\":true,\"ticks\":\"\",\"zerolinecolor\":\"white\",\"gridwidth\":2}},\"shapedefaults\":{\"line\":{\"color\":\"#2a3f5f\"}},\"annotationdefaults\":{\"arrowcolor\":\"#2a3f5f\",\"arrowhead\":0,\"arrowwidth\":1},\"geo\":{\"bgcolor\":\"white\",\"landcolor\":\"#E5ECF6\",\"subunitcolor\":\"white\",\"showland\":true,\"showlakes\":true,\"lakecolor\":\"white\"},\"title\":{\"x\":0.05},\"mapbox\":{\"style\":\"light\"}}},\"title\":{\"text\":\"Production Photovolta\\u00efque Quotidienne en 2023\"},\"xaxis\":{\"title\":{\"text\":\"Date\"}},\"yaxis\":{\"title\":{\"text\":\"Production Photovolta\\u00efque (kW)\"}}},                        {\"responsive\": true}                    ).then(function(){\n",
       "                            \n",
       "var gd = document.getElementById('0793a06e-ab23-47ca-82ba-d287f18936cd');\n",
       "var x = new MutationObserver(function (mutations, observer) {{\n",
       "        var display = window.getComputedStyle(gd).display;\n",
       "        if (!display || display === 'none') {{\n",
       "            console.log([gd, 'removed!']);\n",
       "            Plotly.purge(gd);\n",
       "            observer.disconnect();\n",
       "        }}\n",
       "}});\n",
       "\n",
       "// Listen for the removal of the full notebook cells\n",
       "var notebookContainer = gd.closest('#notebook-container');\n",
       "if (notebookContainer) {{\n",
       "    x.observe(notebookContainer, {childList: true});\n",
       "}}\n",
       "\n",
       "// Listen for the clearing of the current output cell\n",
       "var outputEl = gd.closest('.output');\n",
       "if (outputEl) {{\n",
       "    x.observe(outputEl, {childList: true});\n",
       "}}\n",
       "\n",
       "                        })                };                });            </script>        </div>"
      ]
     },
     "metadata": {},
     "output_type": "display_data"
    }
   ],
   "execution_count": 30
  },
  {
   "metadata": {},
   "cell_type": "code",
   "source": [
    "# Calculer le coefficient de corrélation de Pearson\n",
    "correlation = new_df['Photovoltaïque'].corr(pred['Prediction'])\n",
    "print(\"Coefficient de Pearson:\", correlation)\n"
   ],
   "outputs": [
    {
     "name": "stdout",
     "output_type": "stream",
     "text": [
      "Coefficient de Pearson: 0.958431805395734\n"
     ]
    }
   ],
   "execution_count": 19
  },
  {
   "metadata": {},
   "cell_type": "code",
   "source": "pred.index",
   "outputs": [
    {
     "data": {
      "text/plain": [
       "DatetimeIndex(['2023-01-01', '2023-01-02', '2023-01-03', '2023-01-04',\n",
       "               '2023-01-05', '2023-01-06', '2023-01-07', '2023-01-08',\n",
       "               '2023-01-09', '2023-01-10',\n",
       "               ...\n",
       "               '2023-12-22', '2023-12-23', '2023-12-24', '2023-12-25',\n",
       "               '2023-12-26', '2023-12-27', '2023-12-28', '2023-12-29',\n",
       "               '2023-12-30', '2023-12-31'],\n",
       "              dtype='datetime64[ns]', name='time', length=365, freq='D')"
      ]
     },
     "execution_count": 20,
     "metadata": {},
     "output_type": "execute_result"
    }
   ],
   "execution_count": 20
  },
  {
   "metadata": {},
   "cell_type": "code",
   "source": "",
   "outputs": [],
   "execution_count": 20
  }
 ],
 "metadata": {
  "kernelspec": {
   "display_name": "Python 3",
   "language": "python",
   "name": "python3"
  },
  "language_info": {
   "codemirror_mode": {
    "name": "ipython",
    "version": 2
   },
   "file_extension": ".py",
   "mimetype": "text/x-python",
   "name": "python",
   "nbconvert_exporter": "python",
   "pygments_lexer": "ipython2",
   "version": "2.7.6"
  }
 },
 "nbformat": 4,
 "nbformat_minor": 0
}
